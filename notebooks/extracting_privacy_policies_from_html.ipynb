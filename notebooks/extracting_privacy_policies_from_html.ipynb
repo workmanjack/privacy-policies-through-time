{
 "cells": [
  {
   "cell_type": "markdown",
   "metadata": {},
   "source": [
    "# Extracting Privacy Policies From HTML With Newspaper3k \n",
    "\n",
    "This notebook's goal is to demonstrate how the privacy policeis are extracted from the HTML downloaded from the Wayback Machine.\n",
    "\n",
    "To accomplish this, we utilize a python package called newspaper3k: https://newspaper.readthedocs.io/en/latest/\n",
    "\n",
    "We will demonstrate with an old Google privacy policy from 2011: https://policies.google.com/privacy/archive/20111020?hl=en-US"
   ]
  },
  {
   "cell_type": "code",
   "execution_count": 2,
   "metadata": {},
   "outputs": [
    {
     "data": {
      "text/plain": [
       "'<!doctype html><html lang=\"en\" dir=\"ltr\"><head><base href=\"https://policies.google.com/\"><meta name=\"referrer\" content=\"origin\"><meta name=\"viewport\" content=\"initial-scale=1, maximum-scale=5, width=device-width\"><meta name=\"mobile-web-app-capable\" content=\"yes\"><meta name=\"apple-mobile-web-app-capable\" content=\"yes\"><meta name=\"application-name\" content=\"Privacy &amp; Terms – Google\"><meta name=\"apple-mobile-web-app-title\" content=\"Privacy &amp; Terms – Google\"><meta name=\"apple-mobile-web-app-status-bar-style\" content=\"black\"><meta name=\"msapplication-tap-highlight\" content=\"no\"><link rel=\"manifest\" crossorigin=\"use-credentials\" href=\"_/IdentityPoliciesUi/manifest.json\"><link rel=\"home\" href=\"/?lfhs=2\"><link rel=\"msapplication-starturl\" href=\"/?lfhs=2\"><link rel=\"icon\" href=\"//ssl.gstatic.com/policies/favicon.ico\" sizes=\"32x32\"><link rel=\"apple-touch-icon-precomposed\" href=\"//ssl.gstatic.com/policies/favicon.ico\" sizes=\"32x32\"><link rel=\"msapplication-square32x32logo\" href=\"//ssl.gst ...'"
      ]
     },
     "execution_count": 2,
     "metadata": {},
     "output_type": "execute_result"
    }
   ],
   "source": [
    "from newspaper import Article\n",
    "\n",
    "url = 'https://policies.google.com/privacy/archive/20111020?hl=en-US'\n",
    "article = Article(url)"
   ]
  },
  {
   "cell_type": "markdown",
   "metadata": {},
   "source": [
    "### Download the policy's HTML"
   ]
  },
  {
   "cell_type": "code",
   "execution_count": 7,
   "metadata": {},
   "outputs": [
    {
     "data": {
      "text/plain": [
       "'<!doctype html><html lang=\"en\" dir=\"ltr\"><head><base href=\"https://policies.google.com/\"><meta name=\"referrer\" content=\"origin\"><meta name=\"viewport\" content=\"initial-scale=1, maximum-scale=5, width=device-width\"><meta name=\"mobile-web-app-capable\" content=\"yes\"><meta name=\"apple-mobile-web-app-capable\" content=\"yes\"><meta name=\"application-name\" content=\"Privacy &amp; Terms – Google\"><meta name=\"apple-mobile-web-app-title\" content=\"Privacy &amp; Terms – Google\"><meta name=\"apple-mobile-web-app-status-bar-style\" content=\"black\"><meta name=\"msapplication-tap-highlight\" content=\"no\"><link rel=\"manifest\" crossorigin=\"use-credentials\" href=\"_/IdentityPoliciesUi/manifest.json\"><link rel=\"home\" href=\"/?lfhs=2\"><link rel=\"msapplication-starturl\" href=\"/?lfhs=2\"><link rel=\"icon\" href=\"//ssl.gstatic.com/policies/favicon.ico\" sizes=\"32x32\"><link rel=\"apple-touch-icon-precomposed\" href=\"//ssl.gstatic.com/policies/favicon.ico\" sizes=\"32x32\"><link rel=\"msapplication-square32x32logo\" href=\"//ssl.gst ...'"
      ]
     },
     "execution_count": 7,
     "metadata": {},
     "output_type": "execute_result"
    }
   ],
   "source": [
    "article.download()\n",
    "article.html[:1000] + ' ...'"
   ]
  },
  {
   "cell_type": "markdown",
   "metadata": {},
   "source": [
    "### Parse and extract the text"
   ]
  },
  {
   "cell_type": "code",
   "execution_count": 5,
   "metadata": {},
   "outputs": [
    {
     "data": {
      "text/plain": [
       "'Privacy Policy\\n\\nLast modified: October 20, 2011 (view archived versions)\\n\\nThis Privacy Policy applies to all of the products, services and websites offered by Google Inc. or its subsidiaries or affiliated companies except Postini (Postini Privacy Policy). Sometimes, we may post product specific privacy notices or Help Center materials to explain our products in more detail.\\n\\nIf you have any questions about this Privacy Policy, please feel free to contact us through our website or write to us at\\n\\nPrivacy Matters\\n\\nc/o Google Inc.\\n\\n1600 Amphitheatre Parkway\\n\\nMountain View, California, 94043\\n\\nUSA\\n\\nInformation we collect and how we use it\\n\\nWe may collect the following types of information:\\n\\nInformation you provide – When you sign up for a Google Account, we ask you for personal information. We may combine the information you submit under your account with information from other Google services or third parties in order to provide you with a better experience and to improve the quality of our services. For certain services, we may give you the opportunity to opt out of combining such information. You can use the Google Dashboard to learn more about the information associated with your Account. If you are using Google services in conjunction with your Google Apps Account, Google provides such services in conjunction with or on behalf of your domain administrator. Your administrator will have access to your account information including your email. Consult your domain administrator’s privacy policy for more information.\\n\\n– When you sign up for a Google Account, we ask you for personal information. We may combine the information you submit under your account with information from other Google services or third parties in order to provide you with a better experience and to improve the quality of our services. For certain services, we may give you the opportunity to opt out of combining such information. You can use the Google Dashboard to learn more about the information associated with your Account. If you are using Google services in conjunction with your Google Apps Account, Google provides such services in conjunction with or on behalf of your domain administrator. Your administrator will have access to your account information including your email. Consult your domain administrator’s privacy policy for more information. Cookies – When you visit Google, we send one or more cookies to your computer or other device. We use cookies to improve the quality of our service, including for storing user preferences, improving search results and ad selection, and tracking user trends, such as how people search. Google also uses cookies in its advertising services to help advertisers and publishers serve and manage ads across the web and on Google services.\\n\\n– When you visit Google, we send one or more cookies to your computer or other device. We use cookies to improve the quality of our service, including for storing user preferences, improving search results and ad selection, and tracking user trends, such as how people search. Google also uses cookies in its advertising services to help advertisers and publishers serve and manage ads across the web and on Google services. Log information – When you access Google services via a browser, application or other client our servers automatically record certain information. These server logs may include information such as your web request, your interaction with a service, Internet Protocol address, browser type, browser language, the date and time of your request and one or more cookies that may uniquely identify your browser or your account.\\n\\n– When you access Google services via a browser, application or other client our servers automatically record certain information. These server logs may include information such as your web request, your interaction with a service, Internet Protocol address, browser type, browser language, the date and time of your request and one or more cookies that may uniquely identify your browser or your account. User communications – When you send email or other communications to Google, we may retain those communications in order to process your inquiries, respond to your requests and improve our services. When you send and receive SMS messages to or from one of our services that provides SMS functionality, we may collect and maintain information associated with those messages, such as the phone number, the wireless carrier associated with the phone number, the content of the message, and the date and time of the transaction. We may use your email address to communicate with you about our services.\\n\\n– When you send email or other communications to Google, we may retain those communications in order to process your inquiries, respond to your requests and improve our services. When you send and receive SMS messages to or from one of our services that provides SMS functionality, we may collect and maintain information associated with those messages, such as the phone number, the wireless carrier associated with the phone number, the content of the message, and the date and time of the transaction. We may use your email address to communicate with you about our services. Affiliated Google Services on other sites – We offer some of our services on or through other web sites. Personal information that you provide to those sites may be sent to Google in order to deliver the service. We process such information under this Privacy Policy.\\n\\n– We offer some of our services on or through other web sites. Personal information that you provide to those sites may be sent to Google in order to deliver the service. We process such information under this Privacy Policy. Third Party Applications – Google may make available third party applications, such as gadgets or extensions, through its services. The information collected by Google when you enable a third party application is processed under this Privacy Policy. Information collected by the third party application provider is governed by their privacy policies.\\n\\n– Google may make available third party applications, such as gadgets or extensions, through its services. The information collected by Google when you enable a third party application is processed under this Privacy Policy. Information collected by the third party application provider is governed by their privacy policies. Location data – Google offers location-enabled services, such as Google Maps and Latitude. If you use those services, Google may receive information about your actual location (such as GPS signals sent by a mobile device) or information that can be used to approximate a location (such as a cell ID).\\n\\n– Google offers location-enabled services, such as Google Maps and Latitude. If you use those services, Google may receive information about your actual location (such as GPS signals sent by a mobile device) or information that can be used to approximate a location (such as a cell ID). Unique application number – Certain services, such as Google Toolbar, include a unique application number that is not associated with your account or you. This number and information about your installation (e.g., operating system type, version number) may be sent to Google when you install or uninstall that service or when that service periodically contacts our servers (for example, to request automatic updates to the software).\\n\\n– Certain services, such as Google Toolbar, include a unique application number that is not associated with your account or you. This number and information about your installation (e.g., operating system type, version number) may be sent to Google when you install or uninstall that service or when that service periodically contacts our servers (for example, to request automatic updates to the software). Other sites – This Privacy Policy applies to Google services only. We do not exercise control over the sites displayed as search results, sites that include Google applications, products or services, or links from within our various services. These other sites may place their own cookies or other files on your computer, collect data or solicit personal information from you.\\n\\nIn addition to the above, we may use the information we collect to:\\n\\nProvide, maintain, protect, and improve our services (including advertising services) and develop new services; and\\n\\nProtect the rights or property of Google or our users.\\n\\nIf we use this information in a manner different than the purpose for which it was collected, then we will ask for your consent prior to such use.\\n\\nGoogle processes personal information on our servers in the United States of America and in other countries. In some cases, we process personal information outside your own country.\\n\\nChoices\\n\\nYou can use the Google Dashboard to review and control the information stored in your Google Account.\\n\\nMost browsers are initially set up to accept cookies, but you can reset your browser to refuse all cookies or to indicate when a cookie is being sent. However, some Google features and services may not function properly if your cookies are disabled.\\n\\nGoogle uses the DoubleClick advertising cookie on AdSense partner sites and certain Google services to help advertisers and publishers serve and manage ads across the web. You can view and manage your ads preferences associated with this cookie by accessing the Ads Preferences Manager. In addition, you may choose to opt out of the DoubleClick cookie at any time by using DoubleClick’s opt-out cookie.\\n\\nInformation sharing\\n\\nGoogle only shares personal information with other companies or individuals outside of Google in the following limited circumstances:\\n\\nWe have your consent. We require opt-in consent for the sharing of any sensitive personal information.\\n\\nWe provide such information to our subsidiaries, affiliated companies or other trusted businesses or persons for the purpose of processing personal information on our behalf. We require that these parties agree to process such information based on our instructions and in compliance with this Privacy Policy and any other appropriate confidentiality and security measures.\\n\\nWe have a good faith belief that access, use, preservation or disclosure of such information is reasonably necessary to (a) satisfy any applicable law, regulation, legal process or enforceable governmental request, (b) enforce applicable Terms of Service, including investigation of potential violations thereof, (c) detect, prevent, or otherwise address fraud, security or technical issues, or (d) protect against harm to the rights, property or safety of Google, its users or the public as required or permitted by law.\\n\\nIf Google becomes involved in a merger, acquisition, or any form of sale of some or all of its assets, we will ensure the confidentiality of any personal information involved in such transactions and provide notice before personal information is transferred and becomes subject to a different privacy policy.\\n\\nInformation security\\n\\nWe take appropriate security measures to protect against unauthorized access to or unauthorized alteration, disclosure or destruction of data. These include internal reviews of our data collection, storage and processing practices and security measures, including appropriate encryption and physical security measures to guard against unauthorized access to systems where we store personal data.\\n\\nWe restrict access to personal information to Google employees, contractors and agents who need to know that information in order to process it on our behalf. These individuals are bound by confidentiality obligations and may be subject to discipline, including termination and criminal prosecution, if they fail to meet these obligations.\\n\\nAccessing and updating personal information\\n\\nWhen you use Google services, we make good faith efforts to provide you with access to your personal information and either to correct this data if it is inaccurate or to delete such data at your request if it is not otherwise required to be retained by law or for legitimate business purposes. We ask individual users to identify themselves and the information requested to be accessed, corrected or removed before processing such requests, and we may decline to process requests that are unreasonably repetitive or systematic, require disproportionate technical effort, jeopardize the privacy of others, or would be extremely impractical (for instance, requests concerning information residing on backup tapes), or for which access is not otherwise required. In any case where we provide information access and correction, we perform this service free of charge, except if doing so would require a disproportionate effort. Because of the way we maintain certain services, after you delete your information, residual copies may take a period of time before they are deleted from our active servers and may remain in our backup systems. Please review the service Help Centers for more information.\\n\\nEnforcement\\n\\nGoogle complies with the U.S.-EU Safe Harbor Framework and the U.S.-Swiss Safe Harbor Framework as set forth by the U.S. Department of Commerce regarding the collection, use, and retention of personal information from European Union member countries and Switzerland. Google has certified that it adheres to the Safe Harbor Privacy Principles of notice, choice, onward transfer, security, data integrity, access, and enforcement. To learn more about the Safe Harbor program, and to view Google’s certification, please visit the Safe Harbor website.\\n\\nGoogle regularly reviews its compliance with this Privacy Policy. When we receive formal written complaints, it is Google’s policy to contact the complaining user regarding his or her concerns. We will cooperate with the appropriate regulatory authorities, including local data protection authorities, to resolve any complaints regarding the transfer of personal data that cannot be resolved between Google and an individual.\\n\\nChanges to this Privacy Policy\\n\\nPlease note that this Privacy Policy may change from time to time. We will not reduce your rights under this Privacy Policy without your explicit consent. We will post any Privacy Policy changes on this page and, if the changes are significant, we will provide a more prominent notice (including, for certain services, email notification of Privacy Policy changes). We will also keep prior versions of this Privacy Policy in an archive for your review.'"
      ]
     },
     "execution_count": 5,
     "metadata": {},
     "output_type": "execute_result"
    }
   ],
   "source": [
    "article.parse()\n",
    "article.text"
   ]
  },
  {
   "cell_type": "markdown",
   "metadata": {},
   "source": [
    "### Identify policy keywords"
   ]
  },
  {
   "cell_type": "code",
   "execution_count": 6,
   "metadata": {},
   "outputs": [
    {
     "data": {
      "text/plain": [
       "['access',\n",
       " 'information',\n",
       " 'privacy',\n",
       " 'account',\n",
       " 'terms',\n",
       " 'google',\n",
       " 'services',\n",
       " 'cookies',\n",
       " 'service',\n",
       " 'personal',\n",
       " 'policy']"
      ]
     },
     "execution_count": 6,
     "metadata": {},
     "output_type": "execute_result"
    }
   ],
   "source": [
    "article.nlp()\n",
    "article.keywords"
   ]
  },
  {
   "cell_type": "code",
   "execution_count": null,
   "metadata": {},
   "outputs": [],
   "source": []
  }
 ],
 "metadata": {
  "kernelspec": {
   "display_name": ".pptt",
   "language": "python",
   "name": ".pptt"
  },
  "language_info": {
   "codemirror_mode": {
    "name": "ipython",
    "version": 3
   },
   "file_extension": ".py",
   "mimetype": "text/x-python",
   "name": "python",
   "nbconvert_exporter": "python",
   "pygments_lexer": "ipython3",
   "version": "3.6.8"
  }
 },
 "nbformat": 4,
 "nbformat_minor": 2
}
