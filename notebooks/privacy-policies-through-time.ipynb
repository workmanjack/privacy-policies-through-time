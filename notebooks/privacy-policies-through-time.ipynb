{
 "cells": [
  {
   "cell_type": "markdown",
   "metadata": {},
   "source": [
    "# Privacy Policies Through Time\n",
    "\n",
    "*An exploration of how privacy policies have evolved and reacted to different legislative and media events throughout the years.*\n",
    "\n"
   ]
  },
  {
   "cell_type": "code",
   "execution_count": 31,
   "metadata": {},
   "outputs": [
    {
     "name": "stdout",
     "output_type": "stream",
     "text": [
      "The autoreload extension is already loaded. To reload it, use:\n",
      "  %reload_ext autoreload\n"
     ]
    }
   ],
   "source": [
    "# project imports\n",
    "import env\n",
    "from build_master_index import MASTER_CSV, PROBLEM_COMPANIES\n",
    "from wayback_search import POLICY_DIR\n",
    "\n",
    "\n",
    "# python & package imports\n",
    "from collections import defaultdict\n",
    "import matplotlib.pyplot as plt\n",
    "from datetime import date\n",
    "import seaborn as sns\n",
    "import pandas as pd\n",
    "import numpy as np\n",
    "import os\n",
    "import re\n",
    "\n",
    "\n",
    "# plot things\n",
    "%matplotlib inline\n",
    "# autoreload modules\n",
    "%load_ext autoreload\n",
    "%autoreload 2"
   ]
  },
  {
   "cell_type": "markdown",
   "metadata": {},
   "source": [
    "## Dataset Introduction\n",
    "\n",
    "This project has put together a historical dataset containing all of the privacy policy revisions of various companies with the help of the Internet Archive's [Wayback Machine](https://archive.org/web/).\n",
    "\n",
    "Here we import the master csv of the dataset and prepare it for analysis."
   ]
  },
  {
   "cell_type": "code",
   "execution_count": 291,
   "metadata": {},
   "outputs": [
    {
     "name": "stdout",
     "output_type": "stream",
     "text": [
      "20\n",
      "Policy count before dropping duplicates: 291\n",
      "Policy count before removing problematic companies: 277\n",
      "Company count before removing problematic companies: 20\n",
      "Final policy count: 249\n"
     ]
    }
   ],
   "source": [
    "# import and prepare the dataframe\n",
    "df = pd.read_csv(MASTER_CSV)\n",
    "df.policy_date = pd.to_datetime(df.policy_date)\n",
    "df.company = pd.Categorical(df.company)\n",
    "df['company_id'] = df.company.cat.codes\n",
    "\n",
    "# sanity-check: check for any policy paths that do not exist\n",
    "assert len(df[~pd.Series([os.path.exists(os.path.join(POLICY_DIR, x)) for x in df.policy_path])]) == 0\n",
    "\n",
    "# sometimes duplicate csv rows appear because of overlap in the\n",
    "# dates of two configurations; they are the same policy most likely\n",
    "# so we just drop the duplicate\n",
    "print('Policy count before dropping duplicates: {}'.format(len(df)))\n",
    "df = df[~df.duplicated('policy_path')]\n",
    "\n",
    "# some companies proved more difficult than others when gathering\n",
    "# privacy policies, so we drop them here (the policies are left\n",
    "# as part of the original dataset because they are valid policies,\n",
    "# but we do not have all the revisions)\n",
    "print('Policy count before removing problematic companies: {}'.format(len(df)))\n",
    "print('Company count before removing problematic companies: {}'.format(len(df.company.unique())))\n",
    "df = df[~df.company.str.contains('|'.join(PROBLEM_COMPANIES))]\n",
    "print('Final policy count: {}'.format(len(df)))"
   ]
  },
  {
   "cell_type": "markdown",
   "metadata": {},
   "source": [
    "A quick look inside the dataframe shows the available columns, the mix of companies, and a range of policy dates"
   ]
  },
  {
   "cell_type": "code",
   "execution_count": 287,
   "metadata": {},
   "outputs": [
    {
     "data": {
      "text/html": [
       "<div>\n",
       "<style scoped>\n",
       "    .dataframe tbody tr th:only-of-type {\n",
       "        vertical-align: middle;\n",
       "    }\n",
       "\n",
       "    .dataframe tbody tr th {\n",
       "        vertical-align: top;\n",
       "    }\n",
       "\n",
       "    .dataframe thead th {\n",
       "        text-align: right;\n",
       "    }\n",
       "</style>\n",
       "<table border=\"1\" class=\"dataframe\">\n",
       "  <thead>\n",
       "    <tr style=\"text-align: right;\">\n",
       "      <th></th>\n",
       "      <th>company</th>\n",
       "      <th>policy_date</th>\n",
       "      <th>policy_url</th>\n",
       "      <th>policy_path</th>\n",
       "      <th>company_id</th>\n",
       "      <th>policy_text</th>\n",
       "    </tr>\n",
       "  </thead>\n",
       "  <tbody>\n",
       "    <tr>\n",
       "      <th>238</th>\n",
       "      <td>target</td>\n",
       "      <td>2018-05-22</td>\n",
       "      <td>http://web.archive.org/web/20180531091949/http...</td>\n",
       "      <td>target/target-2018-05-22.txt</td>\n",
       "      <td>15</td>\n",
       "      <td>skip to main contentskip to footerCategoriesT...</td>\n",
       "    </tr>\n",
       "    <tr>\n",
       "      <th>177</th>\n",
       "      <td>nytimes</td>\n",
       "      <td>2011-03-11</td>\n",
       "      <td>http://web.archive.org/web/20110401055752/http...</td>\n",
       "      <td>nytimes/nytimes-2011-03-11.txt</td>\n",
       "      <td>11</td>\n",
       "      <td>\\nHelp &amp;gt; Permissions and Policies &amp;gt; Priv...</td>\n",
       "    </tr>\n",
       "    <tr>\n",
       "      <th>262</th>\n",
       "      <td>walmart</td>\n",
       "      <td>2006-10-05</td>\n",
       "      <td>http://web.archive.org/web/20070202232818/http...</td>\n",
       "      <td>walmart/walmart-2006-10-05.txt</td>\n",
       "      <td>18</td>\n",
       "      <td>\\nPreview\\nPreview\\nPreview\\nPreview\\nQuick Vi...</td>\n",
       "    </tr>\n",
       "    <tr>\n",
       "      <th>22</th>\n",
       "      <td>apple</td>\n",
       "      <td>2001-06-04</td>\n",
       "      <td>http://web.archive.org/web/20010605001045/http...</td>\n",
       "      <td>apple/apple-2001-06-04.txt</td>\n",
       "      <td>2</td>\n",
       "      <td>\\nProtecting your privacy is important to Appl...</td>\n",
       "    </tr>\n",
       "    <tr>\n",
       "      <th>70</th>\n",
       "      <td>facebook</td>\n",
       "      <td>2009-11-19</td>\n",
       "      <td>http://web.archive.org/web/20091130171922/http...</td>\n",
       "      <td>facebook/facebook-2009-11-19.txt</td>\n",
       "      <td>4</td>\n",
       "      <td>\\nKeep me logged inForgot your password?\\nSign...</td>\n",
       "    </tr>\n",
       "  </tbody>\n",
       "</table>\n",
       "</div>"
      ],
      "text/plain": [
       "      company policy_date                                         policy_url  \\\n",
       "238    target  2018-05-22  http://web.archive.org/web/20180531091949/http...   \n",
       "177   nytimes  2011-03-11  http://web.archive.org/web/20110401055752/http...   \n",
       "262   walmart  2006-10-05  http://web.archive.org/web/20070202232818/http...   \n",
       "22      apple  2001-06-04  http://web.archive.org/web/20010605001045/http...   \n",
       "70   facebook  2009-11-19  http://web.archive.org/web/20091130171922/http...   \n",
       "\n",
       "                          policy_path  company_id  \\\n",
       "238      target/target-2018-05-22.txt          15   \n",
       "177    nytimes/nytimes-2011-03-11.txt          11   \n",
       "262    walmart/walmart-2006-10-05.txt          18   \n",
       "22         apple/apple-2001-06-04.txt           2   \n",
       "70   facebook/facebook-2009-11-19.txt           4   \n",
       "\n",
       "                                           policy_text  \n",
       "238   skip to main contentskip to footerCategoriesT...  \n",
       "177  \\nHelp &gt; Permissions and Policies &gt; Priv...  \n",
       "262  \\nPreview\\nPreview\\nPreview\\nPreview\\nQuick Vi...  \n",
       "22   \\nProtecting your privacy is important to Appl...  \n",
       "70   \\nKeep me logged inForgot your password?\\nSign...  "
      ]
     },
     "execution_count": 287,
     "metadata": {},
     "output_type": "execute_result"
    }
   ],
   "source": [
    "df.sample(n=5)"
   ]
  },
  {
   "cell_type": "markdown",
   "metadata": {},
   "source": [
    "## Dataset Metadata\n",
    "\n",
    "Here we explore the dataset metadata and begin to explore what's inside."
   ]
  },
  {
   "cell_type": "markdown",
   "metadata": {},
   "source": [
    "How many and what companies are covered?"
   ]
  },
  {
   "cell_type": "code",
   "execution_count": 251,
   "metadata": {},
   "outputs": [
    {
     "name": "stdout",
     "output_type": "stream",
     "text": [
      "Companies: 1password, amazon, apple, cisco, facebook, fitbit, goodreads, google, intuit, netflix, nytimes, smud, target, twitter, uber, walmart, washingtonpost\n",
      "Count: 17\n"
     ]
    }
   ],
   "source": [
    "companies = df.company.unique()\n",
    "print('Companies: {}'.format(', '.join(list(companies))))\n",
    "print('Count: {}'.format(len(companies)))"
   ]
  },
  {
   "cell_type": "markdown",
   "metadata": {},
   "source": [
    "How many policies are there?"
   ]
  },
  {
   "cell_type": "code",
   "execution_count": 279,
   "metadata": {},
   "outputs": [
    {
     "name": "stdout",
     "output_type": "stream",
     "text": [
      "Count of policies (number of rows in the dataset): 249\n"
     ]
    }
   ],
   "source": [
    "policies = df.policy_path.unique()\n",
    "# sanity-check: we removed duplicates so this should be the same\n",
    "assert len(df) == len(policies)\n",
    "print(\"Count of policies (number of rows in the dataset): {}\".format(len(df)))"
   ]
  },
  {
   "cell_type": "markdown",
   "metadata": {},
   "source": [
    "How many policies per company?"
   ]
  },
  {
   "cell_type": "code",
   "execution_count": 290,
   "metadata": {},
   "outputs": [
    {
     "data": {
      "image/png": "[encoded data removed]",
      "text/plain": [
       "<Figure size 864x360 with 1 Axes>"
      ]
     },
     "metadata": {
      "needs_background": "light"
     },
     "output_type": "display_data"
    }
   ],
   "source": [
    "grouped = df.groupby('company').policy_path.count()\n",
    "_ = grouped.plot.bar(title='Privacy Policy Revisions by Company', figsize=(12, 5))"
   ]
  },
  {
   "cell_type": "markdown",
   "metadata": {},
   "source": [
    "What date range do the policies cover?"
   ]
  },
  {
   "cell_type": "code",
   "execution_count": 259,
   "metadata": {},
   "outputs": [
    {
     "name": "stdout",
     "output_type": "stream",
     "text": [
      "Oldest policy: 1999-06-09\n",
      "Most recent policy: 2019-11-08\n"
     ]
    }
   ],
   "source": [
    "print('Oldest policy: {}'.format(min(df.policy_date).strftime('%Y-%m-%d')))\n",
    "print('Most recent policy: {}'.format(max(df.policy_date).strftime('%Y-%m-%d')))"
   ]
  },
  {
   "cell_type": "markdown",
   "metadata": {},
   "source": [
    "How many policies by year?"
   ]
  },
  {
   "cell_type": "code",
   "execution_count": 281,
   "metadata": {},
   "outputs": [
    {
     "data": {
      "image/png": "[encoded data removed]",
      "text/plain": [
       "<Figure size 864x504 with 1 Axes>"
      ]
     },
     "metadata": {
      "needs_background": "light"
     },
     "output_type": "display_data"
    }
   ],
   "source": [
    "grouped = df.groupby([df.policy_date.dt.year]).policy_path.count()\n",
    "_ = grouped.plot.bar(title='Privacy Policy Revisions by Year (All Companies)', figsize=(12, 7))"
   ]
  },
  {
   "cell_type": "markdown",
   "metadata": {},
   "source": [
    "## The Privacy Policies\n",
    "\n",
    "Now let's explore the policies themselves. We'll start by pulling all of the policy text into the dataframe, and then running some pandas cmds to gather metadata about the texts."
   ]
  },
  {
   "cell_type": "code",
   "execution_count": 261,
   "metadata": {},
   "outputs": [],
   "source": [
    "def get_policy_text(row):\n",
    "    \"\"\"\n",
    "    Creates a pd.Series of full text from policies\n",
    "\n",
    "    Args:\n",
    "        row: pd.Series, row of policy index dataframe\n",
    "        \n",
    "    Returns:\n",
    "        pd.Series, a new row with 'policy_text' col\n",
    "    \"\"\"\n",
    "    page = ''\n",
    "    with open(os.path.join(POLICY_DIR, row['policy_path']), 'r', encoding='utf-8') as f:\n",
    "        page = f.read()\n",
    "    row['policy_text'] = page\n",
    "    return row"
   ]
  },
  {
   "cell_type": "markdown",
   "metadata": {},
   "source": [
    "Looking inside again shows the same as before with the addition of the new text column"
   ]
  },
  {
   "cell_type": "code",
   "execution_count": 263,
   "metadata": {},
   "outputs": [
    {
     "data": {
      "text/html": [
       "<div>\n",
       "<style scoped>\n",
       "    .dataframe tbody tr th:only-of-type {\n",
       "        vertical-align: middle;\n",
       "    }\n",
       "\n",
       "    .dataframe tbody tr th {\n",
       "        vertical-align: top;\n",
       "    }\n",
       "\n",
       "    .dataframe thead th {\n",
       "        text-align: right;\n",
       "    }\n",
       "</style>\n",
       "<table border=\"1\" class=\"dataframe\">\n",
       "  <thead>\n",
       "    <tr style=\"text-align: right;\">\n",
       "      <th></th>\n",
       "      <th>company</th>\n",
       "      <th>policy_date</th>\n",
       "      <th>policy_url</th>\n",
       "      <th>policy_path</th>\n",
       "      <th>company_id</th>\n",
       "      <th>policy_text</th>\n",
       "    </tr>\n",
       "  </thead>\n",
       "  <tbody>\n",
       "    <tr>\n",
       "      <th>230</th>\n",
       "      <td>target</td>\n",
       "      <td>2013-10-25</td>\n",
       "      <td>http://web.archive.org/web/20131128033829/http...</td>\n",
       "      <td>target/target-2013-10-25.txt</td>\n",
       "      <td>15</td>\n",
       "      <td>\\noops, there is a problem\\nTarget.com require...</td>\n",
       "    </tr>\n",
       "    <tr>\n",
       "      <th>142</th>\n",
       "      <td>intuit</td>\n",
       "      <td>2018-12-10</td>\n",
       "      <td>http://web.archive.org/web/20181221224404/http...</td>\n",
       "      <td>intuit/intuit-2018-12-10.txt</td>\n",
       "      <td>8</td>\n",
       "      <td>\\nSecurity HomeAlertsBlogFAQsProtect Your Busi...</td>\n",
       "    </tr>\n",
       "    <tr>\n",
       "      <th>228</th>\n",
       "      <td>target</td>\n",
       "      <td>2013-03-13</td>\n",
       "      <td>http://web.archive.org/web/20130401073628/http...</td>\n",
       "      <td>target/target-2013-03-13.txt</td>\n",
       "      <td>15</td>\n",
       "      <td>\\noops, there is a problem\\nTarget.com require...</td>\n",
       "    </tr>\n",
       "    <tr>\n",
       "      <th>174</th>\n",
       "      <td>nytimes</td>\n",
       "      <td>2010-08-30</td>\n",
       "      <td>http://web.archive.org/web/20100901214507/http...</td>\n",
       "      <td>nytimes/nytimes-2010-08-30.txt</td>\n",
       "      <td>11</td>\n",
       "      <td>\\n&amp;nbsp;\\nNYTimes.com\\nNews\\nBusiness\\nEducati...</td>\n",
       "    </tr>\n",
       "    <tr>\n",
       "      <th>122</th>\n",
       "      <td>google</td>\n",
       "      <td>2017-12-18</td>\n",
       "      <td>https://policies.google.com/privacy/archive/20...</td>\n",
       "      <td>google/google-2017-12-18.txt</td>\n",
       "      <td>7</td>\n",
       "      <td>Privacy &amp;amp; TermsOverviewPrivacy PolicyTerms...</td>\n",
       "    </tr>\n",
       "    <tr>\n",
       "      <th>68</th>\n",
       "      <td>facebook</td>\n",
       "      <td>2007-12-06</td>\n",
       "      <td>http://web.archive.org/web/20080213201320/http...</td>\n",
       "      <td>facebook/facebook-2007-12-06.txt</td>\n",
       "      <td>4</td>\n",
       "      <td>\\nEmail:\\nPassword:Remember me\\nForgot Passwor...</td>\n",
       "    </tr>\n",
       "    <tr>\n",
       "      <th>40</th>\n",
       "      <td>cisco</td>\n",
       "      <td>2003-04-14</td>\n",
       "      <td>http://web.archive.org/web/20030417005736/http...</td>\n",
       "      <td>cisco/cisco-2003-04-14.txt</td>\n",
       "      <td>3</td>\n",
       "      <td>\\nClose Window\\nPrivacy Statement\\nCisco Syste...</td>\n",
       "    </tr>\n",
       "    <tr>\n",
       "      <th>110</th>\n",
       "      <td>google</td>\n",
       "      <td>2014-12-19</td>\n",
       "      <td>https://policies.google.com/privacy/archive/20...</td>\n",
       "      <td>google/google-2014-12-19.txt</td>\n",
       "      <td>7</td>\n",
       "      <td>Privacy &amp;amp; TermsOverviewPrivacy PolicyTerms...</td>\n",
       "    </tr>\n",
       "    <tr>\n",
       "      <th>130</th>\n",
       "      <td>intuit</td>\n",
       "      <td>2011-12-19</td>\n",
       "      <td>http://web.archive.org/web/20120104140438/http...</td>\n",
       "      <td>intuit/intuit-2011-12-19.txt</td>\n",
       "      <td>8</td>\n",
       "      <td>\\n&lt;!--&amp;nbsp;--&gt;\\n&amp;nbsp;\\nExamples of How We Us...</td>\n",
       "    </tr>\n",
       "    <tr>\n",
       "      <th>39</th>\n",
       "      <td>cisco</td>\n",
       "      <td>2002-10-03</td>\n",
       "      <td>http://web.archive.org/web/20021213095101/http...</td>\n",
       "      <td>cisco/cisco-2002-10-03.txt</td>\n",
       "      <td>3</td>\n",
       "      <td>\\nClose Window\\nPrivacy Statement\\nCisco Syste...</td>\n",
       "    </tr>\n",
       "  </tbody>\n",
       "</table>\n",
       "</div>"
      ],
      "text/plain": [
       "      company policy_date                                         policy_url  \\\n",
       "230    target  2013-10-25  http://web.archive.org/web/20131128033829/http...   \n",
       "142    intuit  2018-12-10  http://web.archive.org/web/20181221224404/http...   \n",
       "228    target  2013-03-13  http://web.archive.org/web/20130401073628/http...   \n",
       "174   nytimes  2010-08-30  http://web.archive.org/web/20100901214507/http...   \n",
       "122    google  2017-12-18  https://policies.google.com/privacy/archive/20...   \n",
       "68   facebook  2007-12-06  http://web.archive.org/web/20080213201320/http...   \n",
       "40      cisco  2003-04-14  http://web.archive.org/web/20030417005736/http...   \n",
       "110    google  2014-12-19  https://policies.google.com/privacy/archive/20...   \n",
       "130    intuit  2011-12-19  http://web.archive.org/web/20120104140438/http...   \n",
       "39      cisco  2002-10-03  http://web.archive.org/web/20021213095101/http...   \n",
       "\n",
       "                          policy_path  company_id  \\\n",
       "230      target/target-2013-10-25.txt          15   \n",
       "142      intuit/intuit-2018-12-10.txt           8   \n",
       "228      target/target-2013-03-13.txt          15   \n",
       "174    nytimes/nytimes-2010-08-30.txt          11   \n",
       "122      google/google-2017-12-18.txt           7   \n",
       "68   facebook/facebook-2007-12-06.txt           4   \n",
       "40         cisco/cisco-2003-04-14.txt           3   \n",
       "110      google/google-2014-12-19.txt           7   \n",
       "130      intuit/intuit-2011-12-19.txt           8   \n",
       "39         cisco/cisco-2002-10-03.txt           3   \n",
       "\n",
       "                                           policy_text  \n",
       "230  \\noops, there is a problem\\nTarget.com require...  \n",
       "142  \\nSecurity HomeAlertsBlogFAQsProtect Your Busi...  \n",
       "228  \\noops, there is a problem\\nTarget.com require...  \n",
       "174  \\n&nbsp;\\nNYTimes.com\\nNews\\nBusiness\\nEducati...  \n",
       "122  Privacy &amp; TermsOverviewPrivacy PolicyTerms...  \n",
       "68   \\nEmail:\\nPassword:Remember me\\nForgot Passwor...  \n",
       "40   \\nClose Window\\nPrivacy Statement\\nCisco Syste...  \n",
       "110  Privacy &amp; TermsOverviewPrivacy PolicyTerms...  \n",
       "130  \\n<!--&nbsp;-->\\n&nbsp;\\nExamples of How We Us...  \n",
       "39   \\nClose Window\\nPrivacy Statement\\nCisco Syste...  "
      ]
     },
     "execution_count": 263,
     "metadata": {},
     "output_type": "execute_result"
    }
   ],
   "source": [
    "df = df.apply(get_policy_text, axis=1)\n",
    "df.sample(n=10)"
   ]
  },
  {
   "cell_type": "markdown",
   "metadata": {},
   "source": [
    "How many total words?"
   ]
  },
  {
   "cell_type": "code",
   "execution_count": 266,
   "metadata": {},
   "outputs": [
    {
     "name": "stdout",
     "output_type": "stream",
     "text": [
      "Total words: 5330243\n",
      "Total occurences of \"privacy\": 6835\n",
      "Total occurences of \"data\": 3506\n",
      "Total occurences of \"personal information\": 4973\n"
     ]
    }
   ],
   "source": [
    "print('Total words: {}'.format(df.policy_text.str.len().sum()))\n",
    "print('Total occurences of \"privacy\": {}'.format(df.policy_text.str.count('privacy', flags=re.IGNORECASE).sum()))\n",
    "print('Total occurences of \"data\": {}'.format(df.policy_text.str.count('data', flags=re.IGNORECASE).sum()))\n",
    "print('Total occurences of \"personal information\": {}'.format(df.policy_text.str.count('personal information', flags=re.IGNORECASE).sum()))"
   ]
  },
  {
   "cell_type": "markdown",
   "metadata": {},
   "source": [
    "How many words per company?\n",
    "\n",
    "Warning: this might be slightly biased based on how long countries have been operating."
   ]
  },
  {
   "cell_type": "code",
   "execution_count": 280,
   "metadata": {},
   "outputs": [
    {
     "data": {
      "image/png": "[encoded data removed]",
      "text/plain": [
       "<Figure size 864x504 with 1 Axes>"
      ]
     },
     "metadata": {
      "needs_background": "light"
     },
     "output_type": "display_data"
    }
   ],
   "source": [
    "df_tmp = df.copy()\n",
    "df_tmp['policy_len'] = df_tmp.policy_text.str.len()\n",
    "grouped = df_tmp.groupby('company').policy_len.sum()\n",
    "_ = grouped.plot.bar(title='Word Count of Privacy Policies by Company', figsize=(12, 7))"
   ]
  },
  {
   "cell_type": "markdown",
   "metadata": {},
   "source": [
    "## Key Privacy Event Analysis\n",
    "\n",
    "In the following sections, we investigate the impact that certain key legislative and popular events had on the privacy policies at large. We do this with a heatmap-derived visualization that shows us when certain terminology enters the vernacular of the policies per company."
   ]
  },
  {
   "cell_type": "code",
   "execution_count": 162,
   "metadata": {},
   "outputs": [],
   "source": [
    "def prepare_heatmap_data(data, ycol, xcol, valuecol):\n",
    "    \"\"\"\n",
    "    There has to be a better way to do this... but I procrastinated :)\n",
    "    \n",
    "    1. Pivot data and extend a policy's np.nan/0/1 up unto the next policy revision\n",
    "       (originally, companies would have a 1 in the months where there were revisions\n",
    "        followed by a string of np.nans and another 1 at the next revision)\n",
    "    2. Fill the gaps between policy revision columns; create a new col for each\n",
    "       year-month pair between the first and last policies in the dataset and extend\n",
    "       between cols as before\n",
    "    3. Rebuild new, complete dataframe\n",
    "    \"\"\"\n",
    "    ### 1\n",
    "    result = data.pivot(index=ycol, columns=xcol, values=valuecol)\n",
    "    for i1, row in result.transpose().iteritems():\n",
    "        last = np.nan\n",
    "        for i2, value in row.iteritems():\n",
    "            if np.isnan(value):\n",
    "                # set it equal to last value\n",
    "                value = last\n",
    "            result.at[i1, i2] = value\n",
    "            last = value\n",
    "\n",
    "    ### 2\n",
    "    min_date = result.columns.min()\n",
    "    max_date = result.columns.max()\n",
    "    companies = result.index\n",
    "\n",
    "    last = None\n",
    "    dates = defaultdict(lambda: defaultdict(lambda: defaultdict(int)))\n",
    "    for year in range(min_date.year, max_date.year + 1):\n",
    "        for month in range(1, 13):\n",
    "            # create name of new col\n",
    "            ym = date(year=year, month=month, day=1).strftime('%Y-%m')\n",
    "            # get all old cols (y-m-d) that will need to be combined into this col\n",
    "            col_matches = [x for x in result.columns if ym in str(x)]\n",
    "            # if there are no revisions in this y-m, then just reuse last month's data\n",
    "            if last and len(col_matches) == 0:\n",
    "                col_matches = last\n",
    "            # set data\n",
    "            for col in col_matches:\n",
    "                for company in companies:\n",
    "                    dates[year][month][company] = result.at[company, col]\n",
    "            last = col_matches\n",
    "\n",
    "    ### 3\n",
    "    new = pd.DataFrame(index=result.index)\n",
    "    for year, months in dates.items():\n",
    "        for month, companies in months.items():\n",
    "            # new col\n",
    "            ym = date(year=year, month=month, day=1).strftime('%Y-%m')\n",
    "            for company, val in companies.items():\n",
    "                if ym not in new.columns:\n",
    "                    # create new col with np.nan\n",
    "                    new[ym] = pd.Series([np.nan] * len(new.index))\n",
    "                # set value\n",
    "                new.at[company, ym] = val\n",
    "\n",
    "    return new"
   ]
  },
  {
   "cell_type": "code",
   "execution_count": 175,
   "metadata": {},
   "outputs": [],
   "source": [
    "def policy_heatmap(data, title):\n",
    "    # init plot\n",
    "    fig, ax = plt.subplots(figsize=(12, 7))\n",
    "    ax.set_title(title)\n",
    "\n",
    "    # prepare mask for null values when a company does not yet have a published privacy policy\n",
    "    mask = np.zeros_like(result)\n",
    "    mask[np.isnan(result)] = True\n",
    "\n",
    "    # do plot\n",
    "    # https://stackoverflow.com/questions/37790429/seaborn-heatmap-using-pandas-dataframe\n",
    "    sp = sns.heatmap(data, ax=ax, fmt=\"g\", cmap=sns.color_palette(\"RdBu\", 7), mask=mask, cbar=False)\n",
    "\n",
    "    # format and space xticks\n",
    "    xlocs, xlabels = plt.xticks()\n",
    "    #print(list(zip(xlocs, xlabels)))\n",
    "    for i, x in enumerate(xlabels):\n",
    "        text = ''\n",
    "        if i % 6 == 0:\n",
    "            text = x._text[:x._text.find('T')]\n",
    "        xlabels[i]._text = text\n",
    "    _ = ax.set_xticklabels(xlabels)    \n",
    "    fig.autofmt_xdate()\n",
    "    \n",
    "    return ax"
   ]
  },
  {
   "cell_type": "code",
   "execution_count": 176,
   "metadata": {},
   "outputs": [],
   "source": [
    "def review_regex_matches(data, filter_col, filter_key, buffer=20):\n",
    "    return data[data[filter_col] == 1].policy_text.str.extract(\n",
    "        '(.{0,' + str(buffer) + '}' + str(filter_key) + '.{0,' + str(buffer) + '})', flags=re.IGNORECASE|re.DOTALL)"
   ]
  },
  {
   "cell_type": "code",
   "execution_count": 177,
   "metadata": {},
   "outputs": [],
   "source": [
    "def key_match_data(data, filter_key):\n",
    "    df_copy = data.copy()\n",
    "    filter_col = 'mentions_{}'.format(filter_key)\n",
    "    # https://chrisalbon.com/python/data_wrangling/pandas_create_column_using_conditional/\n",
    "    df_copy[filter_col] = np.where(df_copy.policy_text.str.contains(filter_key, flags=re.IGNORECASE), 1, 0)\n",
    "    print('{} / {} policies mention {}'.format(len(df_copy[df_copy[filter_col] == 1]), len(df_copy), filter_key))\n",
    "    return df_copy, filter_col"
   ]
  },
  {
   "cell_type": "markdown",
   "metadata": {},
   "source": [
    "### Children's Online Privacy Protection Act (COPPA)\n",
    "\n",
    "From [Wikipedia](https://en.wikipedia.org/wiki/Children%27s_Online_Privacy_Protection_Act):\n",
    "\n",
    "   \"The act, effective April 21, 2000, applies to the online collection of personal information by persons or entities under\n",
    "   U.S. jurisdiction about children under 13 years of age or children with disabilities. **It details what a website\n",
    "   operator must include in a privacy policy**, when and how to seek verifiable consent from a parent or guardian, and what\n",
    "   responsibilities an operator has to protect children's privacy and safety online including restrictions on the marketing\n",
    "   of those under 13.\"\n",
    "\n",
    "Based on the above, we should expect to see privacy policies mention their practices with children's data starting in April of 2000."
   ]
  },
  {
   "cell_type": "code",
   "execution_count": 183,
   "metadata": {},
   "outputs": [
    {
     "name": "stdout",
     "output_type": "stream",
     "text": [
      "188 / 249 policies mention children\n"
     ]
    },
    {
     "data": {
      "image/png": "[encoded data removed]",
      "text/plain": [
       "<Figure size 864x504 with 1 Axes>"
      ]
     },
     "metadata": {
      "needs_background": "light"
     },
     "output_type": "display_data"
    }
   ],
   "source": [
    "coppa, filter_col = key_match_data(df, 'children')\n",
    "result = prepare_heatmap_data(coppa, 'company', 'policy_date', filter_col)\n",
    "ax = policy_heatmap(result, 'Reference of \"Children\" in Privacy Policy')\n",
    "# add vertical line for coppa\n",
    "_ = ax.vlines(11, .8, 20, color='purple')\n",
    "_ = plt.text(6, 0.5, 'April 21, 2000: COPPA Begins', color='purple', fontsize=12)"
   ]
  },
  {
   "cell_type": "markdown",
   "metadata": {},
   "source": [
    "Double-checking that our matches are reasonable"
   ]
  },
  {
   "cell_type": "code",
   "execution_count": 184,
   "metadata": {},
   "outputs": [
    {
     "data": {
      "text/html": [
       "<div>\n",
       "<style scoped>\n",
       "    .dataframe tbody tr th:only-of-type {\n",
       "        vertical-align: middle;\n",
       "    }\n",
       "\n",
       "    .dataframe tbody tr th {\n",
       "        vertical-align: top;\n",
       "    }\n",
       "\n",
       "    .dataframe thead th {\n",
       "        text-align: right;\n",
       "    }\n",
       "</style>\n",
       "<table border=\"1\" class=\"dataframe\">\n",
       "  <thead>\n",
       "    <tr style=\"text-align: right;\">\n",
       "      <th></th>\n",
       "      <th>0</th>\n",
       "    </tr>\n",
       "  </thead>\n",
       "  <tbody>\n",
       "    <tr>\n",
       "      <th>73</th>\n",
       "      <td>No information from children under age 13. If yo</td>\n",
       "    </tr>\n",
       "    <tr>\n",
       "      <th>281</th>\n",
       "      <td>le information from children under 13. If, in li</td>\n",
       "    </tr>\n",
       "    <tr>\n",
       "      <th>192</th>\n",
       "      <td>With Legal Process Children's Guidelines Your C</td>\n",
       "    </tr>\n",
       "    <tr>\n",
       "      <th>72</th>\n",
       "      <td>No information from children under age 13. If yo</td>\n",
       "    </tr>\n",
       "    <tr>\n",
       "      <th>255</th>\n",
       "      <td>Parents Know About Children?\\nWhat About Securit</td>\n",
       "    </tr>\n",
       "    <tr>\n",
       "      <th>14</th>\n",
       "      <td>ces Do I Have? \\nAre Children Allowed to Use Amaz</td>\n",
       "    </tr>\n",
       "    <tr>\n",
       "      <th>185</th>\n",
       "      <td>with legal process\\nChildren's Guidelines\\nYo...</td>\n",
       "    </tr>\n",
       "    <tr>\n",
       "      <th>42</th>\n",
       "      <td>ation\\nData Security\\nChildren and Privacy\\nTh...</td>\n",
       "    </tr>\n",
       "    <tr>\n",
       "      <th>32</th>\n",
       "      <td>ivacy Contact Form.\\nChildren &amp;amp; Education\\...</td>\n",
       "    </tr>\n",
       "    <tr>\n",
       "      <th>17</th>\n",
       "      <td>ices Do I Have?\\nAre Children Allowed to Use Amaz</td>\n",
       "    </tr>\n",
       "  </tbody>\n",
       "</table>\n",
       "</div>"
      ],
      "text/plain": [
       "                                                     0\n",
       "73    No information from children under age 13. If yo\n",
       "281   le information from children under 13. If, in li\n",
       "192    With Legal Process Children's Guidelines Your C\n",
       "72    No information from children under age 13. If yo\n",
       "255   Parents Know About Children?\\nWhat About Securit\n",
       "14   ces Do I Have? \\nAre Children Allowed to Use Amaz\n",
       "185   with legal process\\nChildren's Guidelines\\nYo...\n",
       "42   ation\\nData Security\\nChildren and Privacy\\nTh...\n",
       "32   ivacy Contact Form.\\nChildren &amp; Education\\...\n",
       "17   ices Do I Have?\\nAre Children Allowed to Use Amaz"
      ]
     },
     "execution_count": 184,
     "metadata": {},
     "output_type": "execute_result"
    }
   ],
   "source": [
    "review_regex_matches(coppa, 'mentions_children', 'children').sample(n=10)"
   ]
  },
  {
   "cell_type": "markdown",
   "metadata": {},
   "source": [
    "## International Safe Harbor Privacy Principles\n",
    "\n",
    "From [Wikipedia](https://en.wikipedia.org/wiki/International_Safe_Harbor_Privacy_Principles),\n",
    "\n",
    "\"The International Safe Harbor Privacy Principles or Safe Harbour Privacy Principles were principles **developed between 1998 and 2000** in order to prevent private organizations within the European Union or United States which store customer data from accidentally disclosing or losing personal information. **They were overturned on October 6, 2015 by the European Court of Justice (ECJ)**, which enabled some US companies to comply with privacy laws protecting European Union and Swiss citizens. US companies storing customer data could self-certify that they adhered to 7 principles, to comply with the EU Data Protection Directive and with Swiss requirements. The US Department of Commerce developed privacy frameworks in conjunction with both the European Union and the Federal Data Protection and Information Commissioner of Switzerland.\"\n",
    "\n",
    "Let's see if \"Safe Harbor\" begins to disappear from policies around the year 2015."
   ]
  },
  {
   "cell_type": "code",
   "execution_count": 190,
   "metadata": {},
   "outputs": [
    {
     "name": "stdout",
     "output_type": "stream",
     "text": [
      "72 / 249 policies mention safe\\s*harbor\n"
     ]
    },
    {
     "data": {
      "image/png": "[encoded data removed]",
      "text/plain": [
       "<Figure size 864x504 with 1 Axes>"
      ]
     },
     "metadata": {
      "needs_background": "light"
     },
     "output_type": "display_data"
    }
   ],
   "source": [
    "safeharbor, filter_col = key_match_data(df, 'safe\\s*harbor')\n",
    "result = prepare_heatmap_data(df_copy, 'company', 'policy_date', filter_col)\n",
    "result.head()\n",
    "ax = policy_heatmap(result, 'Reference of \"Safe Harbor\" in Privacy Policy')\n",
    "# add vertical line for safe harbor\n",
    "_ = ax.vlines(193, .8, 20, color='purple')\n",
    "_ = plt.text(135, 0.5, 'Oct 6, 2015: Safe Harbor Ends', color='purple', fontsize=12)"
   ]
  },
  {
   "cell_type": "code",
   "execution_count": 81,
   "metadata": {},
   "outputs": [
    {
     "data": {
      "text/html": [
       "<div>\n",
       "<style scoped>\n",
       "    .dataframe tbody tr th:only-of-type {\n",
       "        vertical-align: middle;\n",
       "    }\n",
       "\n",
       "    .dataframe tbody tr th {\n",
       "        vertical-align: top;\n",
       "    }\n",
       "\n",
       "    .dataframe thead th {\n",
       "        text-align: right;\n",
       "    }\n",
       "</style>\n",
       "<table border=\"1\" class=\"dataframe\">\n",
       "  <thead>\n",
       "    <tr style=\"text-align: right;\">\n",
       "      <th></th>\n",
       "      <th>0</th>\n",
       "    </tr>\n",
       "  </thead>\n",
       "  <tbody>\n",
       "    <tr>\n",
       "      <th>66</th>\n",
       "      <td>ve your concerns.EU Safe Harbor Participation\\...</td>\n",
       "    </tr>\n",
       "    <tr>\n",
       "      <th>126</th>\n",
       "      <td>es adhere to the US Safe Harbor Privacy Princi...</td>\n",
       "    </tr>\n",
       "    <tr>\n",
       "      <th>8</th>\n",
       "      <td>parent or guardian. Safe Harbor Amazon.com is ...</td>\n",
       "    </tr>\n",
       "    <tr>\n",
       "      <th>69</th>\n",
       "      <td>ve your concerns.EU Safe Harbor ParticipationW...</td>\n",
       "    </tr>\n",
       "    <tr>\n",
       "      <th>74</th>\n",
       "      <td>aded from Facebook.\\nSafe Harbor. Facebook als...</td>\n",
       "    </tr>\n",
       "    <tr>\n",
       "      <th>244</th>\n",
       "      <td>and teens here.\\nEU Safe Harbor Framework\\nTw...</td>\n",
       "    </tr>\n",
       "    <tr>\n",
       "      <th>257</th>\n",
       "      <td>and, please see the Safe Harbor notice below.\\...</td>\n",
       "    </tr>\n",
       "    <tr>\n",
       "      <th>127</th>\n",
       "      <td>es adhere to the US Safe Harbor Privacy Princi...</td>\n",
       "    </tr>\n",
       "    <tr>\n",
       "      <th>73</th>\n",
       "      <td>om Facebook.\\n&amp;nbsp;\\nSafe Harbor. Facebook al...</td>\n",
       "    </tr>\n",
       "    <tr>\n",
       "      <th>86</th>\n",
       "      <td>with the U.S. - EU Safe Harbor Framework and ...</td>\n",
       "    </tr>\n",
       "  </tbody>\n",
       "</table>\n",
       "</div>"
      ],
      "text/plain": [
       "                                                     0\n",
       "66   ve your concerns.EU Safe Harbor Participation\\...\n",
       "126  es adhere to the US Safe Harbor Privacy Princi...\n",
       "8    parent or guardian. Safe Harbor Amazon.com is ...\n",
       "69   ve your concerns.EU Safe Harbor ParticipationW...\n",
       "74   aded from Facebook.\\nSafe Harbor. Facebook als...\n",
       "244   and teens here.\\nEU Safe Harbor Framework\\nTw...\n",
       "257  and, please see the Safe Harbor notice below.\\...\n",
       "127  es adhere to the US Safe Harbor Privacy Princi...\n",
       "73   om Facebook.\\n&nbsp;\\nSafe Harbor. Facebook al...\n",
       "86    with the U.S. - EU Safe Harbor Framework and ..."
      ]
     },
     "execution_count": 81,
     "metadata": {},
     "output_type": "execute_result"
    }
   ],
   "source": [
    "review_regex_matches(safeharbor, filter_col, 'safe\\s*harbor').sample(n=10)"
   ]
  },
  {
   "cell_type": "markdown",
   "metadata": {},
   "source": [
    "### EU-US Privacy Shield\n",
    "\n",
    "From Wikipedia,\n",
    "\n",
    "\"In October 2015 the European Court of Justice declared the previous framework called the International Safe Harbor Privacy Principles invalid. Soon after this decision the European Commission and the U.S. Government started talks about a new framework and **on February 2, 2016 they reached a political agreement**. The European Commission published the 'adequacy decision' draft, declaring principles to be equivalent to the protections offered by EU law.\"\n",
    "\n",
    "As we observed, references to \"Safe Harbor\" begin to disappear after 2015 to be replaced by this EU-US Privacy Shield, but how many websites complied?"
   ]
  },
  {
   "cell_type": "code",
   "execution_count": 202,
   "metadata": {},
   "outputs": [
    {
     "name": "stdout",
     "output_type": "stream",
     "text": [
      "29 / 249 policies mention shield\n"
     ]
    },
    {
     "data": {
      "image/png": "[encoded data removed]",
      "text/plain": [
       "<Figure size 864x504 with 1 Axes>"
      ]
     },
     "metadata": {
      "needs_background": "light"
     },
     "output_type": "display_data"
    }
   ],
   "source": [
    "shield, filter_col = key_match_data(df, 'shield')\n",
    "result = prepare_heatmap_data(shield, 'company', 'policy_date', filter_col)\n",
    "result.head()\n",
    "ax = policy_heatmap(result, 'Reference of \"Shield\" in Privacy Policy')\n",
    "# add vertical line for coppa\n",
    "_ = ax.vlines(202, .8, 20, color='purple')\n",
    "_ = plt.text(113, 0.5, 'Feb 2, 2016: EU-US Privacy Shield Begins', color='purple', fontsize=12)"
   ]
  },
  {
   "cell_type": "code",
   "execution_count": 85,
   "metadata": {},
   "outputs": [
    {
     "data": {
      "text/html": [
       "<div>\n",
       "<style scoped>\n",
       "    .dataframe tbody tr th:only-of-type {\n",
       "        vertical-align: middle;\n",
       "    }\n",
       "\n",
       "    .dataframe tbody tr th {\n",
       "        vertical-align: top;\n",
       "    }\n",
       "\n",
       "    .dataframe thead th {\n",
       "        text-align: right;\n",
       "    }\n",
       "</style>\n",
       "<table border=\"1\" class=\"dataframe\">\n",
       "  <thead>\n",
       "    <tr style=\"text-align: right;\">\n",
       "      <th></th>\n",
       "      <th>0</th>\n",
       "    </tr>\n",
       "  </thead>\n",
       "  <tbody>\n",
       "    <tr>\n",
       "      <th>289</th>\n",
       "      <td>ctices. Our Privacy Shield Policy governs use</td>\n",
       "    </tr>\n",
       "    <tr>\n",
       "      <th>93</th>\n",
       "      <td>nd Swiss-US Privacy Shield, and EU Commission</td>\n",
       "    </tr>\n",
       "    <tr>\n",
       "      <th>91</th>\n",
       "      <td>nd Swiss-US Privacy Shield principles regardin</td>\n",
       "    </tr>\n",
       "    <tr>\n",
       "      <th>252</th>\n",
       "      <td>rations and Privacy Shield\\nChanges to This Pri</td>\n",
       "    </tr>\n",
       "    <tr>\n",
       "      <th>140</th>\n",
       "      <td>wiss - U.S. Privacy Shield Frameworks and comp</td>\n",
       "    </tr>\n",
       "    <tr>\n",
       "      <th>122</th>\n",
       "      <td>nd Swiss-US Privacy Shield Frameworks. When we</td>\n",
       "    </tr>\n",
       "    <tr>\n",
       "      <th>118</th>\n",
       "      <td>g the EU-US Privacy Shield Framework. When we</td>\n",
       "    </tr>\n",
       "    <tr>\n",
       "      <th>6</th>\n",
       "      <td>a U.S.-E.U. Privacy Shield Framework. See http</td>\n",
       "    </tr>\n",
       "    <tr>\n",
       "      <th>3</th>\n",
       "      <td>a U.S.-E.U. Privacy Shield Framework. See http</td>\n",
       "    </tr>\n",
       "    <tr>\n",
       "      <th>120</th>\n",
       "      <td>nd Swiss-US Privacy Shield Frameworks. When we</td>\n",
       "    </tr>\n",
       "  </tbody>\n",
       "</table>\n",
       "</div>"
      ],
      "text/plain": [
       "                                                   0\n",
       "289   ctices. Our Privacy Shield Policy governs use \n",
       "93    nd Swiss-US Privacy Shield, and EU Commission \n",
       "91    nd Swiss-US Privacy Shield principles regardin\n",
       "252  rations and Privacy Shield\\nChanges to This Pri\n",
       "140   wiss - U.S. Privacy Shield Frameworks and comp\n",
       "122   nd Swiss-US Privacy Shield Frameworks. When we\n",
       "118   g the EU-US Privacy Shield Framework. When we \n",
       "6     a U.S.-E.U. Privacy Shield Framework. See http\n",
       "3     a U.S.-E.U. Privacy Shield Framework. See http\n",
       "120   nd Swiss-US Privacy Shield Frameworks. When we"
      ]
     },
     "execution_count": 85,
     "metadata": {},
     "output_type": "execute_result"
    }
   ],
   "source": [
    "review_regex_matches(shield, filter_col, 'shield').sample(n=10)"
   ]
  },
  {
   "cell_type": "markdown",
   "metadata": {},
   "source": [
    "### Popularity of \"Personal Information\""
   ]
  },
  {
   "cell_type": "code",
   "execution_count": 203,
   "metadata": {},
   "outputs": [
    {
     "name": "stdout",
     "output_type": "stream",
     "text": [
      "235 / 249 policies mention personal\\s*information\n"
     ]
    },
    {
     "data": {
      "image/png": "[encoded data removed]",
      "text/plain": [
       "<Figure size 864x504 with 1 Axes>"
      ]
     },
     "metadata": {
      "needs_background": "light"
     },
     "output_type": "display_data"
    }
   ],
   "source": [
    "personalinfo, filter_col = key_match_data(df, 'personal\\s*information')\n",
    "result = prepare_heatmap_data(personalinfo, 'company', 'policy_date', filter_col)\n",
    "result.head()\n",
    "ax = policy_heatmap(result, 'Reference of \"Personal Information\" in Privacy Policy')\n",
    "# add vertical line for coppa\n",
    "#_ = ax.vlines(180, .8, 20, color='purple')\n",
    "#_ = plt.text(100, 0.5, 'Feb 2, 2016: EU-US Privacy Shield Begins', color='purple', fontsize=12)"
   ]
  },
  {
   "cell_type": "code",
   "execution_count": 204,
   "metadata": {},
   "outputs": [
    {
     "data": {
      "text/html": [
       "<div>\n",
       "<style scoped>\n",
       "    .dataframe tbody tr th:only-of-type {\n",
       "        vertical-align: middle;\n",
       "    }\n",
       "\n",
       "    .dataframe tbody tr th {\n",
       "        vertical-align: top;\n",
       "    }\n",
       "\n",
       "    .dataframe thead th {\n",
       "        text-align: right;\n",
       "    }\n",
       "</style>\n",
       "<table border=\"1\" class=\"dataframe\">\n",
       "  <thead>\n",
       "    <tr style=\"text-align: right;\">\n",
       "      <th></th>\n",
       "      <th>0</th>\n",
       "    </tr>\n",
       "  </thead>\n",
       "  <tbody>\n",
       "    <tr>\n",
       "      <th>235</th>\n",
       "      <td>ess and update your personal information?\\nHow...</td>\n",
       "    </tr>\n",
       "    <tr>\n",
       "      <th>108</th>\n",
       "      <td>u do, we’ll ask for personal information, like...</td>\n",
       "    </tr>\n",
       "    <tr>\n",
       "      <th>85</th>\n",
       "      <td>and security of any personal information about...</td>\n",
       "    </tr>\n",
       "    <tr>\n",
       "      <th>22</th>\n",
       "      <td>strive to keep your personal information confi...</td>\n",
       "    </tr>\n",
       "    <tr>\n",
       "      <th>160</th>\n",
       "      <td>spect to the use of personal information, the ...</td>\n",
       "    </tr>\n",
       "    <tr>\n",
       "      <th>237</th>\n",
       "      <td>ess and update your personal information?\\nHow...</td>\n",
       "    </tr>\n",
       "    <tr>\n",
       "      <th>228</th>\n",
       "      <td>Target, sharing of personal information with ...</td>\n",
       "    </tr>\n",
       "    <tr>\n",
       "      <th>174</th>\n",
       "      <td>change or update my personal information?\\nHow...</td>\n",
       "    </tr>\n",
       "    <tr>\n",
       "      <th>56</th>\n",
       "      <td>ribes how we handle personal information and t...</td>\n",
       "    </tr>\n",
       "    <tr>\n",
       "      <th>119</th>\n",
       "      <td>u do, we’ll ask for personal information, like...</td>\n",
       "    </tr>\n",
       "  </tbody>\n",
       "</table>\n",
       "</div>"
      ],
      "text/plain": [
       "                                                     0\n",
       "235  ess and update your personal information?\\nHow...\n",
       "108  u do, we’ll ask for personal information, like...\n",
       "85   and security of any personal information about...\n",
       "22   strive to keep your personal information confi...\n",
       "160  spect to the use of personal information, the ...\n",
       "237  ess and update your personal information?\\nHow...\n",
       "228   Target, sharing of personal information with ...\n",
       "174  change or update my personal information?\\nHow...\n",
       "56   ribes how we handle personal information and t...\n",
       "119  u do, we’ll ask for personal information, like..."
      ]
     },
     "execution_count": 204,
     "metadata": {},
     "output_type": "execute_result"
    }
   ],
   "source": [
    "review_regex_matches(personalinfo, filter_col, 'personal\\s*information').sample(n=10)"
   ]
  },
  {
   "cell_type": "markdown",
   "metadata": {},
   "source": [
    "### Popularity of \"Data Privacy\""
   ]
  },
  {
   "cell_type": "code",
   "execution_count": 205,
   "metadata": {},
   "outputs": [
    {
     "name": "stdout",
     "output_type": "stream",
     "text": [
      "15 / 249 policies mention data\\s*privacy\n"
     ]
    },
    {
     "data": {
      "image/png": "[encoded data removed]",
      "text/plain": [
       "<Figure size 864x504 with 1 Axes>"
      ]
     },
     "metadata": {
      "needs_background": "light"
     },
     "output_type": "display_data"
    }
   ],
   "source": [
    "dataprivacy, filter_col = key_match_data(df, 'data\\s*privacy')\n",
    "result = prepare_heatmap_data(dataprivacy, 'company', 'policy_date', filter_col)\n",
    "result.head()\n",
    "ax = policy_heatmap(result, 'Reference of \"Data Privacy\" in Privacy Policy')\n",
    "# add vertical line for filter\n",
    "#_ = ax.vlines(180, .8, 20, color='purple')\n",
    "#_ = plt.text(100, 0.5, 'Feb 2, 2016: EU-US Privacy Shield Begins', color='purple', fontsize=12)"
   ]
  },
  {
   "cell_type": "code",
   "execution_count": 206,
   "metadata": {},
   "outputs": [
    {
     "data": {
      "text/html": [
       "<div>\n",
       "<style scoped>\n",
       "    .dataframe tbody tr th:only-of-type {\n",
       "        vertical-align: middle;\n",
       "    }\n",
       "\n",
       "    .dataframe tbody tr th {\n",
       "        vertical-align: top;\n",
       "    }\n",
       "\n",
       "    .dataframe thead th {\n",
       "        text-align: right;\n",
       "    }\n",
       "</style>\n",
       "<table border=\"1\" class=\"dataframe\">\n",
       "  <thead>\n",
       "    <tr style=\"text-align: right;\">\n",
       "      <th></th>\n",
       "      <th>0</th>\n",
       "    </tr>\n",
       "  </thead>\n",
       "  <tbody>\n",
       "    <tr>\n",
       "      <th>48</th>\n",
       "      <td>nt\\nLearn more about Data Privacy\\nPowering th...</td>\n",
       "    </tr>\n",
       "    <tr>\n",
       "      <th>47</th>\n",
       "      <td>nt\\nLearn more about Data Privacy\\nPowering th...</td>\n",
       "    </tr>\n",
       "    <tr>\n",
       "      <th>3</th>\n",
       "      <td>otection&amp;rdquo; for data privacy of individual...</td>\n",
       "    </tr>\n",
       "    <tr>\n",
       "      <th>45</th>\n",
       "      <td>om\\nLearn more about Data Privacy\\nPowering th...</td>\n",
       "    </tr>\n",
       "    <tr>\n",
       "      <th>6</th>\n",
       "      <td>otection&amp;rdquo; for data privacy of individual...</td>\n",
       "    </tr>\n",
       "    <tr>\n",
       "      <th>290</th>\n",
       "      <td>freedoms related to data privacy. Transfers. P...</td>\n",
       "    </tr>\n",
       "    <tr>\n",
       "      <th>49</th>\n",
       "      <td>nt\\nLearn more about Data Privacy\\nPowering th...</td>\n",
       "    </tr>\n",
       "    <tr>\n",
       "      <th>88</th>\n",
       "      <td>iveRamp Advertising Data Privacy Policy explai...</td>\n",
       "    </tr>\n",
       "    <tr>\n",
       "      <th>90</th>\n",
       "      <td>iveRamp Advertising Data Privacy Policy explai...</td>\n",
       "    </tr>\n",
       "    <tr>\n",
       "      <th>52</th>\n",
       "      <td>SA\\nLearn more about Data Privacy\\nPowering th...</td>\n",
       "    </tr>\n",
       "  </tbody>\n",
       "</table>\n",
       "</div>"
      ],
      "text/plain": [
       "                                                     0\n",
       "48   nt\\nLearn more about Data Privacy\\nPowering th...\n",
       "47   nt\\nLearn more about Data Privacy\\nPowering th...\n",
       "3    otection&rdquo; for data privacy of individual...\n",
       "45   om\\nLearn more about Data Privacy\\nPowering th...\n",
       "6    otection&rdquo; for data privacy of individual...\n",
       "290  freedoms related to data privacy. Transfers. P...\n",
       "49   nt\\nLearn more about Data Privacy\\nPowering th...\n",
       "88   iveRamp Advertising Data Privacy Policy explai...\n",
       "90   iveRamp Advertising Data Privacy Policy explai...\n",
       "52   SA\\nLearn more about Data Privacy\\nPowering th..."
      ]
     },
     "execution_count": 206,
     "metadata": {},
     "output_type": "execute_result"
    }
   ],
   "source": [
    "review_regex_matches(dataprivacy, filter_col, 'data\\s*privacy').sample(n=10)"
   ]
  },
  {
   "cell_type": "markdown",
   "metadata": {},
   "source": [
    "### Do Not Track\n",
    "\n",
    "From [Wikipedia](https://en.wikipedia.org/wiki/Do_Not_Track_legislation),\n",
    "\n",
    "\"**On December 1, 2010**, the U.S. Federal Trade Commission (FTC) published a preliminary report highlighting the consumers’ right to prevent websites from tracking their online behaviors. The central plank of the bill was to adopt a Do Not Track opt-out function to web browsers. The FTC judged that online marketers’ pervasive collection of personal information could possibly violate privacy. **This issue began to surface again in 2012** after Google announced its new privacy policy. Reps. Edward Markey, Joe Barton, and Cliff Stearns asked the FTC to investigate the legality of Google’s change of privacy policy; they sent a letter to the FTC regarding Google’s changed privacy policy.\"\n",
    "\n",
    "From the above, we imagine that we might begin to see Do Not Track references in 2010/2011 with more starting to surface in and after 2012."
   ]
  },
  {
   "cell_type": "code",
   "execution_count": 211,
   "metadata": {},
   "outputs": [
    {
     "name": "stderr",
     "output_type": "stream",
     "text": [
      "c:\\program files\\python36\\lib\\site-packages\\ipykernel_launcher.py:5: UserWarning: This pattern has match groups. To actually get the groups, use str.extract.\n",
      "  \"\"\"\n"
     ]
    },
    {
     "name": "stdout",
     "output_type": "stream",
     "text": [
      "57 / 249 policies mention (do\\s*not\\s*track|dnt)\n"
     ]
    },
    {
     "data": {
      "image/png": "[encoded data removed]",
      "text/plain": [
       "<Figure size 864x504 with 1 Axes>"
      ]
     },
     "metadata": {
      "needs_background": "light"
     },
     "output_type": "display_data"
    }
   ],
   "source": [
    "dnt_re = '(do\\s*not\\s*track|dnt)'\n",
    "dnt, filter_col = key_match_data(df, dnt_re)\n",
    "result = prepare_heatmap_data(dnt, 'company', 'policy_date', filter_col)\n",
    "result.head()\n",
    "ax = policy_heatmap(result, 'Reference of \"Do Not Track\" in Privacy Policy')\n",
    "# add vertical line for filter\n",
    "_ = ax.vlines(155, .8, 20, color='purple')\n",
    "_ = plt.text(150, 0.5, '2012', color='purple', fontsize=12)"
   ]
  },
  {
   "cell_type": "code",
   "execution_count": 212,
   "metadata": {},
   "outputs": [
    {
     "data": {
      "text/html": [
       "<div>\n",
       "<style scoped>\n",
       "    .dataframe tbody tr th:only-of-type {\n",
       "        vertical-align: middle;\n",
       "    }\n",
       "\n",
       "    .dataframe tbody tr th {\n",
       "        vertical-align: top;\n",
       "    }\n",
       "\n",
       "    .dataframe thead th {\n",
       "        text-align: right;\n",
       "    }\n",
       "</style>\n",
       "<table border=\"1\" class=\"dataframe\">\n",
       "  <thead>\n",
       "    <tr style=\"text-align: right;\">\n",
       "      <th></th>\n",
       "      <th>0</th>\n",
       "      <th>1</th>\n",
       "    </tr>\n",
       "  </thead>\n",
       "  <tbody>\n",
       "    <tr>\n",
       "      <th>88</th>\n",
       "      <td>\\nDoes Fitbit Honor “Do Not Track” Signals?\\nC...</td>\n",
       "      <td>Do Not Track</td>\n",
       "    </tr>\n",
       "    <tr>\n",
       "      <th>191</th>\n",
       "      <td>d to browser-based \"do not track\" signals. For...</td>\n",
       "      <td>do not track</td>\n",
       "    </tr>\n",
       "    <tr>\n",
       "      <th>195</th>\n",
       "      <td>how to respond to “do not track” browser-base...</td>\n",
       "      <td>do not track</td>\n",
       "    </tr>\n",
       "    <tr>\n",
       "      <th>179</th>\n",
       "      <td>Privacy Policy. We do not track or store a re...</td>\n",
       "      <td>do not track</td>\n",
       "    </tr>\n",
       "    <tr>\n",
       "      <th>31</th>\n",
       "      <td>.\\n&amp;nbsp;\\nCalifornia Do Not Track Disclosure&amp;...</td>\n",
       "      <td>Do Not Track</td>\n",
       "    </tr>\n",
       "    <tr>\n",
       "      <th>183</th>\n",
       "      <td>Privacy Policy. We do not track or store a re...</td>\n",
       "      <td>do not track</td>\n",
       "    </tr>\n",
       "    <tr>\n",
       "      <th>252</th>\n",
       "      <td>do not support the Do Not Track browser optio...</td>\n",
       "      <td>Do Not Track</td>\n",
       "    </tr>\n",
       "    <tr>\n",
       "      <th>51</th>\n",
       "      <td>you enable a &amp;quot;do not track&amp;quot; feature...</td>\n",
       "      <td>do not track</td>\n",
       "    </tr>\n",
       "    <tr>\n",
       "      <th>87</th>\n",
       "      <td>that are set with a Do Not Track signal, at th...</td>\n",
       "      <td>Do Not Track</td>\n",
       "    </tr>\n",
       "    <tr>\n",
       "      <th>90</th>\n",
       "      <td>\\nDoes Fitbit Honor “Do Not Track” Signals?\\nC...</td>\n",
       "      <td>Do Not Track</td>\n",
       "    </tr>\n",
       "  </tbody>\n",
       "</table>\n",
       "</div>"
      ],
      "text/plain": [
       "                                                     0             1\n",
       "88   \\nDoes Fitbit Honor “Do Not Track” Signals?\\nC...  Do Not Track\n",
       "191  d to browser-based \"do not track\" signals. For...  do not track\n",
       "195   how to respond to “do not track” browser-base...  do not track\n",
       "179   Privacy Policy. We do not track or store a re...  do not track\n",
       "31   .\\n&nbsp;\\nCalifornia Do Not Track Disclosure&...  Do Not Track\n",
       "183   Privacy Policy. We do not track or store a re...  do not track\n",
       "252   do not support the Do Not Track browser optio...  Do Not Track\n",
       "51    you enable a &quot;do not track&quot; feature...  do not track\n",
       "87   that are set with a Do Not Track signal, at th...  Do Not Track\n",
       "90   \\nDoes Fitbit Honor “Do Not Track” Signals?\\nC...  Do Not Track"
      ]
     },
     "execution_count": 212,
     "metadata": {},
     "output_type": "execute_result"
    }
   ],
   "source": [
    "review_regex_matches(dnt, filter_col, dnt_re).sample(n=10)"
   ]
  },
  {
   "cell_type": "markdown",
   "metadata": {},
   "source": [
    "### General Data Protection Regulation (GDPR)\n",
    "\n",
    "From Wikipedia,\n",
    "\n",
    "\"The General Data Protection Regulation (EU) 2016/679 ('GDPR') is a regulation in EU law on data protection and privacy for all individuals within the European Union (EU) and the European Economic Area (EEA). It also addresses the export of personal data outside the EU and EEA areas. The GDPR aims primarily to give control to individuals over their personal data and to simplify the regulatory environment for international business by unifying the regulation within the EU.... **The GDPR was adopted on 14 April 2016, and became enforceable beginning 25 May 2018.** As the GDPR is a regulation, not a directive, it is directly binding and applicable, but does provide flexibility for certain aspects of the regulation to be adjusted by individual member states.\"\n",
    "\n",
    "We should therefore see GDPR references in 2018."
   ]
  },
  {
   "cell_type": "code",
   "execution_count": 235,
   "metadata": {},
   "outputs": [
    {
     "name": "stderr",
     "output_type": "stream",
     "text": [
      "c:\\program files\\python36\\lib\\site-packages\\ipykernel_launcher.py:5: UserWarning: This pattern has match groups. To actually get the groups, use str.extract.\n",
      "  \"\"\"\n"
     ]
    },
    {
     "name": "stdout",
     "output_type": "stream",
     "text": [
      "8 / 249 policies mention gdpr|(General Data Protection Regulation)\n"
     ]
    },
    {
     "data": {
      "image/png": "[encoded data removed]",
      "text/plain": [
       "<Figure size 864x504 with 1 Axes>"
      ]
     },
     "metadata": {
      "needs_background": "light"
     },
     "output_type": "display_data"
    }
   ],
   "source": [
    "gdpr_re = 'gdpr|(General Data Protection Regulation)'\n",
    "gdpr, filter_col = key_match_data(df, gdpr_re)\n",
    "result = prepare_heatmap_data(gdpr, 'company', 'policy_date', filter_col)\n",
    "result.head()\n",
    "ax = policy_heatmap(result, 'Reference of \"GDPR\" in Privacy Policy')\n",
    "# add vertical line for filter\n",
    "_ = ax.vlines(231, 1, 20, color='purple')\n",
    "_ = plt.text(180, -.32, 'May 25, 2018: GDPR Begins', color='purple', fontsize=12)"
   ]
  },
  {
   "cell_type": "markdown",
   "metadata": {},
   "source": [
    "Interestingly, there are very few references to GDPR..."
   ]
  },
  {
   "cell_type": "code",
   "execution_count": 110,
   "metadata": {},
   "outputs": [
    {
     "data": {
      "text/html": [
       "<div>\n",
       "<style scoped>\n",
       "    .dataframe tbody tr th:only-of-type {\n",
       "        vertical-align: middle;\n",
       "    }\n",
       "\n",
       "    .dataframe tbody tr th {\n",
       "        vertical-align: top;\n",
       "    }\n",
       "\n",
       "    .dataframe thead th {\n",
       "        text-align: right;\n",
       "    }\n",
       "</style>\n",
       "<table border=\"1\" class=\"dataframe\">\n",
       "  <thead>\n",
       "    <tr style=\"text-align: right;\">\n",
       "      <th></th>\n",
       "      <th>0</th>\n",
       "    </tr>\n",
       "  </thead>\n",
       "  <tbody>\n",
       "    <tr>\n",
       "      <th>6</th>\n",
       "      <td>es.As stated in our GDPR statment, the servi</td>\n",
       "    </tr>\n",
       "    <tr>\n",
       "      <th>4</th>\n",
       "      <td>es.As stated in our GDPR statment, the servi</td>\n",
       "    </tr>\n",
       "    <tr>\n",
       "      <th>3</th>\n",
       "      <td>es.As stated in our GDPR statment, the servi</td>\n",
       "    </tr>\n",
       "    <tr>\n",
       "      <th>92</th>\n",
       "      <td>Regulation (&amp;#x201C;GDPR&amp;#x201D;), we ask fo</td>\n",
       "    </tr>\n",
       "    <tr>\n",
       "      <th>93</th>\n",
       "      <td>Regulation (&amp;#x201C;GDPR&amp;#x201D;), we ask fo</td>\n",
       "    </tr>\n",
       "    <tr>\n",
       "      <th>5</th>\n",
       "      <td>es.As stated in our GDPR statment, the servi</td>\n",
       "    </tr>\n",
       "    <tr>\n",
       "      <th>259</th>\n",
       "      <td>ection Regulation (“GDPR”).This section summ</td>\n",
       "    </tr>\n",
       "  </tbody>\n",
       "</table>\n",
       "</div>"
      ],
      "text/plain": [
       "                                                0\n",
       "6    es.As stated in our GDPR statment, the servi\n",
       "4    es.As stated in our GDPR statment, the servi\n",
       "3    es.As stated in our GDPR statment, the servi\n",
       "92   Regulation (&#x201C;GDPR&#x201D;), we ask fo\n",
       "93   Regulation (&#x201C;GDPR&#x201D;), we ask fo\n",
       "5    es.As stated in our GDPR statment, the servi\n",
       "259  ection Regulation (“GDPR”).This section summ"
      ]
     },
     "execution_count": 110,
     "metadata": {},
     "output_type": "execute_result"
    }
   ],
   "source": [
    "review_regex_matches(gdpr, filter_col, gdpr_re).sample(n=7)"
   ]
  },
  {
   "cell_type": "markdown",
   "metadata": {},
   "source": [
    "### Popularity of \"Delete\"\n",
    "\n",
    "With GDPR came the notion of the \"right to be forgotten\" where you can request your data to be removed from a company's data stores. Let's see if GDPR adoption is signaled by the word \"delete\" making its way into privacy policies."
   ]
  },
  {
   "cell_type": "code",
   "execution_count": 227,
   "metadata": {},
   "outputs": [
    {
     "name": "stdout",
     "output_type": "stream",
     "text": [
      "200 / 249 policies mention delet\n"
     ]
    },
    {
     "data": {
      "image/png": "[encoded data removed]",
      "text/plain": [
       "<Figure size 864x504 with 1 Axes>"
      ]
     },
     "metadata": {
      "needs_background": "light"
     },
     "output_type": "display_data"
    }
   ],
   "source": [
    "delete_re = 'delet'\n",
    "delete, filter_col = key_match_data(df, delete_re)\n",
    "result = prepare_heatmap_data(delete, 'company', 'policy_date', filter_col)\n",
    "result.head()\n",
    "ax = policy_heatmap(result, 'Reference of \"Delete\" in Privacy Policy')\n",
    "# add vertical line for filter\n",
    "#_ = ax.vlines(105, .8, 20, color='purple')\n",
    "#_ = plt.text(100, 0.5, '2012', color='purple', fontsize=12)"
   ]
  },
  {
   "cell_type": "markdown",
   "metadata": {},
   "source": [
    "Surprisingly, many companies supported deleting data before GPDR. Of course, this is not a complete check. This does not tell us to what extent these companies allowed you to delete your data."
   ]
  },
  {
   "cell_type": "code",
   "execution_count": 115,
   "metadata": {},
   "outputs": [
    {
     "data": {
      "text/html": [
       "<div>\n",
       "<style scoped>\n",
       "    .dataframe tbody tr th:only-of-type {\n",
       "        vertical-align: middle;\n",
       "    }\n",
       "\n",
       "    .dataframe tbody tr th {\n",
       "        vertical-align: top;\n",
       "    }\n",
       "\n",
       "    .dataframe thead th {\n",
       "        text-align: right;\n",
       "    }\n",
       "</style>\n",
       "<table border=\"1\" class=\"dataframe\">\n",
       "  <thead>\n",
       "    <tr style=\"text-align: right;\">\n",
       "      <th></th>\n",
       "      <th>0</th>\n",
       "    </tr>\n",
       "  </thead>\n",
       "  <tbody>\n",
       "    <tr>\n",
       "      <th>262</th>\n",
       "      <td>. You may change or delete this saved informa</td>\n",
       "    </tr>\n",
       "    <tr>\n",
       "      <th>176</th>\n",
       "      <td>e e-mail address is deleted. Access to the ab</td>\n",
       "    </tr>\n",
       "    <tr>\n",
       "      <th>78</th>\n",
       "      <td>formation we receiveDeleting and deactivating</td>\n",
       "    </tr>\n",
       "    <tr>\n",
       "      <th>60</th>\n",
       "      <td>rrect, suppress, or delete your personal info</td>\n",
       "    </tr>\n",
       "    <tr>\n",
       "      <th>178</th>\n",
       "      <td>e e-mail address is deleted. Access to the ab</td>\n",
       "    </tr>\n",
       "    <tr>\n",
       "      <th>195</th>\n",
       "      <td>orrect, restrict or delete personal informati</td>\n",
       "    </tr>\n",
       "    <tr>\n",
       "      <th>218</th>\n",
       "      <td>is inaccurate or to delete the data if SMUD i</td>\n",
       "    </tr>\n",
       "    <tr>\n",
       "      <th>123</th>\n",
       "      <td>manage, export, and delete your information.\\n</td>\n",
       "    </tr>\n",
       "    <tr>\n",
       "      <th>62</th>\n",
       "      <td>al consent, we will delete that information a</td>\n",
       "    </tr>\n",
       "    <tr>\n",
       "      <th>121</th>\n",
       "      <td>n access, manage or delete information that i</td>\n",
       "    </tr>\n",
       "  </tbody>\n",
       "</table>\n",
       "</div>"
      ],
      "text/plain": [
       "                                                  0\n",
       "262   . You may change or delete this saved informa\n",
       "176   e e-mail address is deleted. Access to the ab\n",
       "78    formation we receiveDeleting and deactivating\n",
       "60    rrect, suppress, or delete your personal info\n",
       "178   e e-mail address is deleted. Access to the ab\n",
       "195   orrect, restrict or delete personal informati\n",
       "218   is inaccurate or to delete the data if SMUD i\n",
       "123  manage, export, and delete your information.\\n\n",
       "62    al consent, we will delete that information a\n",
       "121   n access, manage or delete information that i"
      ]
     },
     "execution_count": 115,
     "metadata": {},
     "output_type": "execute_result"
    }
   ],
   "source": [
    "review_regex_matches(delete, filter_col, delete_re).sample(n=10)"
   ]
  },
  {
   "cell_type": "markdown",
   "metadata": {},
   "source": [
    "### Popularity of \"Forgotten\""
   ]
  },
  {
   "cell_type": "code",
   "execution_count": 228,
   "metadata": {},
   "outputs": [
    {
     "name": "stdout",
     "output_type": "stream",
     "text": [
      "0 / 249 policies mention forgotten\n"
     ]
    },
    {
     "data": {
      "image/png": "[encoded data removed]",
      "text/plain": [
       "<Figure size 864x504 with 1 Axes>"
      ]
     },
     "metadata": {
      "needs_background": "light"
     },
     "output_type": "display_data"
    }
   ],
   "source": [
    "forgot_re = 'forgotten'\n",
    "forgot, filter_col = key_match_data(df, forgot_re)\n",
    "result = prepare_heatmap_data(forgot, 'company', 'policy_date', filter_col)\n",
    "result.head()\n",
    "ax = policy_heatmap(result, 'Reference of \"Forgotten\" in Privacy Policy')\n",
    "# add vertical line for filter\n",
    "#_ = ax.vlines(105, .8, 20, color='purple')\n",
    "#_ = plt.text(100, 0.5, '2012', color='purple', fontsize=12)"
   ]
  },
  {
   "cell_type": "code",
   "execution_count": 122,
   "metadata": {},
   "outputs": [
    {
     "data": {
      "text/html": [
       "<div>\n",
       "<style scoped>\n",
       "    .dataframe tbody tr th:only-of-type {\n",
       "        vertical-align: middle;\n",
       "    }\n",
       "\n",
       "    .dataframe tbody tr th {\n",
       "        vertical-align: top;\n",
       "    }\n",
       "\n",
       "    .dataframe thead th {\n",
       "        text-align: right;\n",
       "    }\n",
       "</style>\n",
       "<table border=\"1\" class=\"dataframe\">\n",
       "  <thead>\n",
       "    <tr style=\"text-align: right;\">\n",
       "      <th></th>\n",
       "      <th>0</th>\n",
       "    </tr>\n",
       "  </thead>\n",
       "  <tbody>\n",
       "  </tbody>\n",
       "</table>\n",
       "</div>"
      ],
      "text/plain": [
       "Empty DataFrame\n",
       "Columns: [0]\n",
       "Index: []"
      ]
     },
     "execution_count": 122,
     "metadata": {},
     "output_type": "execute_result"
    }
   ],
   "source": [
    "review_regex_matches(forgot, filter_col, forgot_re)"
   ]
  },
  {
   "cell_type": "markdown",
   "metadata": {},
   "source": [
    "### TRUSTe"
   ]
  },
  {
   "cell_type": "code",
   "execution_count": null,
   "metadata": {},
   "outputs": [],
   "source": []
  },
  {
   "cell_type": "code",
   "execution_count": null,
   "metadata": {},
   "outputs": [],
   "source": []
  },
  {
   "cell_type": "markdown",
   "metadata": {},
   "source": [
    "## Google"
   ]
  },
  {
   "cell_type": "code",
   "execution_count": 18,
   "metadata": {},
   "outputs": [
    {
     "data": {
      "text/html": [
       "<div>\n",
       "<style scoped>\n",
       "    .dataframe tbody tr th:only-of-type {\n",
       "        vertical-align: middle;\n",
       "    }\n",
       "\n",
       "    .dataframe tbody tr th {\n",
       "        vertical-align: top;\n",
       "    }\n",
       "\n",
       "    .dataframe thead th {\n",
       "        text-align: right;\n",
       "    }\n",
       "</style>\n",
       "<table border=\"1\" class=\"dataframe\">\n",
       "  <thead>\n",
       "    <tr style=\"text-align: right;\">\n",
       "      <th></th>\n",
       "      <th>company</th>\n",
       "      <th>policy_date</th>\n",
       "      <th>policy_url</th>\n",
       "      <th>policy_path</th>\n",
       "      <th>company_id</th>\n",
       "      <th>policy_text</th>\n",
       "    </tr>\n",
       "  </thead>\n",
       "  <tbody>\n",
       "    <tr>\n",
       "      <th>95</th>\n",
       "      <td>google</td>\n",
       "      <td>1999-06-09</td>\n",
       "      <td>https://policies.google.com/privacy/archive/19...</td>\n",
       "      <td>google/google-1999-06-09.txt</td>\n",
       "      <td>7</td>\n",
       "      <td>Privacy &amp;amp; TermsOverviewPrivacy PolicyTerms...</td>\n",
       "    </tr>\n",
       "    <tr>\n",
       "      <th>96</th>\n",
       "      <td>google</td>\n",
       "      <td>1999-09-20</td>\n",
       "      <td>https://policies.google.com/privacy/archive/19...</td>\n",
       "      <td>google/google-1999-09-20.txt</td>\n",
       "      <td>7</td>\n",
       "      <td>Privacy &amp;amp; TermsOverviewPrivacy PolicyTerms...</td>\n",
       "    </tr>\n",
       "    <tr>\n",
       "      <th>97</th>\n",
       "      <td>google</td>\n",
       "      <td>2001-01-04</td>\n",
       "      <td>https://policies.google.com/privacy/archive/20...</td>\n",
       "      <td>google/google-2001-01-04.txt</td>\n",
       "      <td>7</td>\n",
       "      <td>Privacy &amp;amp; TermsOverviewPrivacy PolicyTerms...</td>\n",
       "    </tr>\n",
       "    <tr>\n",
       "      <th>98</th>\n",
       "      <td>google</td>\n",
       "      <td>2004-07-01</td>\n",
       "      <td>https://policies.google.com/privacy/archive/20...</td>\n",
       "      <td>google/google-2004-07-01.txt</td>\n",
       "      <td>7</td>\n",
       "      <td>Privacy &amp;amp; TermsOverviewPrivacy PolicyTerms...</td>\n",
       "    </tr>\n",
       "    <tr>\n",
       "      <th>99</th>\n",
       "      <td>google</td>\n",
       "      <td>2005-10-14</td>\n",
       "      <td>https://policies.google.com/privacy/archive/20...</td>\n",
       "      <td>google/google-2005-10-14.txt</td>\n",
       "      <td>7</td>\n",
       "      <td>Privacy &amp;amp; TermsOverviewPrivacy PolicyTerms...</td>\n",
       "    </tr>\n",
       "  </tbody>\n",
       "</table>\n",
       "</div>"
      ],
      "text/plain": [
       "   company policy_date                                         policy_url  \\\n",
       "95  google  1999-06-09  https://policies.google.com/privacy/archive/19...   \n",
       "96  google  1999-09-20  https://policies.google.com/privacy/archive/19...   \n",
       "97  google  2001-01-04  https://policies.google.com/privacy/archive/20...   \n",
       "98  google  2004-07-01  https://policies.google.com/privacy/archive/20...   \n",
       "99  google  2005-10-14  https://policies.google.com/privacy/archive/20...   \n",
       "\n",
       "                     policy_path  company_id  \\\n",
       "95  google/google-1999-06-09.txt           7   \n",
       "96  google/google-1999-09-20.txt           7   \n",
       "97  google/google-2001-01-04.txt           7   \n",
       "98  google/google-2004-07-01.txt           7   \n",
       "99  google/google-2005-10-14.txt           7   \n",
       "\n",
       "                                          policy_text  \n",
       "95  Privacy &amp; TermsOverviewPrivacy PolicyTerms...  \n",
       "96  Privacy &amp; TermsOverviewPrivacy PolicyTerms...  \n",
       "97  Privacy &amp; TermsOverviewPrivacy PolicyTerms...  \n",
       "98  Privacy &amp; TermsOverviewPrivacy PolicyTerms...  \n",
       "99  Privacy &amp; TermsOverviewPrivacy PolicyTerms...  "
      ]
     },
     "execution_count": 18,
     "metadata": {},
     "output_type": "execute_result"
    }
   ],
   "source": [
    "google = df[df.company == 'google']\n",
    "google.head()"
   ]
  },
  {
   "cell_type": "code",
   "execution_count": 19,
   "metadata": {},
   "outputs": [],
   "source": [
    "google = google.apply(get_policy_text, axis=1)"
   ]
  },
  {
   "cell_type": "code",
   "execution_count": 20,
   "metadata": {},
   "outputs": [],
   "source": [
    "google['policy_text_len'] = google.policy_text.str.len()"
   ]
  },
  {
   "cell_type": "code",
   "execution_count": 283,
   "metadata": {},
   "outputs": [
    {
     "data": {
      "text/plain": [
       "<matplotlib.axes._subplots.AxesSubplot at 0x2337669d2b0>"
      ]
     },
     "execution_count": 283,
     "metadata": {},
     "output_type": "execute_result"
    },
    {
     "data": {
      "image/png": "[encoded data removed]",
      "text/plain": [
       "<Figure size 864x504 with 1 Axes>"
      ]
     },
     "metadata": {
      "needs_background": "light"
     },
     "output_type": "display_data"
    }
   ],
   "source": [
    "google[['policy_date', 'policy_text_len']].plot.bar('policy_date', title=\"Google's Privacy Policy Length By Revision\", figsize=(12, 7))"
   ]
  },
  {
   "cell_type": "code",
   "execution_count": null,
   "metadata": {},
   "outputs": [],
   "source": []
  }
 ],
 "metadata": {
  "kernelspec": {
   "display_name": "Python 3",
   "language": "python",
   "name": "python3"
  },
  "language_info": {
   "codemirror_mode": {
    "name": "ipython",
    "version": 3
   },
   "file_extension": ".py",
   "mimetype": "text/x-python",
   "name": "python",
   "nbconvert_exporter": "python",
   "pygments_lexer": "ipython3",
   "version": "3.6.8"
  }
 },
 "nbformat": 4,
 "nbformat_minor": 2
}
