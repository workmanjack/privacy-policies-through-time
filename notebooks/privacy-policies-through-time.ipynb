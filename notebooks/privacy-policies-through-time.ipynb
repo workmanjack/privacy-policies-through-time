{
 "cells": [
  {
   "cell_type": "markdown",
   "metadata": {},
   "source": [
    "# Privacy Policies Through Time\n",
    "\n",
    "*An exploration of how privacy policies have evolved and reacted to different legislative and media events throughout the years.*\n",
    "\n"
   ]
  },
  {
   "cell_type": "code",
   "execution_count": 1,
   "metadata": {},
   "outputs": [],
   "source": [
    "# project imports\n",
    "import env\n",
    "from build_master_index import MASTER_CSV, PROBLEM_COMPANIES\n",
    "from wayback_search import POLICY_DIR\n",
    "\n",
    "\n",
    "# python & package imports\n",
    "import matplotlib.pyplot as plt\n",
    "import seaborn as sns\n",
    "import pandas as pd\n",
    "import numpy as np\n",
    "import os\n",
    "\n",
    "\n",
    "# plot things\n",
    "%matplotlib inline\n",
    "# autoreload modules\n",
    "%load_ext autoreload\n",
    "%autoreload 2"
   ]
  },
  {
   "cell_type": "markdown",
   "metadata": {},
   "source": [
    "## Dataset\n",
    "\n",
    "This project has put together a historical dataset containing all of the privacy policy revisions of various companies."
   ]
  },
  {
   "cell_type": "code",
   "execution_count": 2,
   "metadata": {},
   "outputs": [
    {
     "data": {
      "text/html": [
       "<div>\n",
       "<style scoped>\n",
       "    .dataframe tbody tr th:only-of-type {\n",
       "        vertical-align: middle;\n",
       "    }\n",
       "\n",
       "    .dataframe tbody tr th {\n",
       "        vertical-align: top;\n",
       "    }\n",
       "\n",
       "    .dataframe thead th {\n",
       "        text-align: right;\n",
       "    }\n",
       "</style>\n",
       "<table border=\"1\" class=\"dataframe\">\n",
       "  <thead>\n",
       "    <tr style=\"text-align: right;\">\n",
       "      <th></th>\n",
       "      <th>company</th>\n",
       "      <th>policy_date</th>\n",
       "      <th>policy_url</th>\n",
       "      <th>policy_path</th>\n",
       "      <th>company_id</th>\n",
       "    </tr>\n",
       "  </thead>\n",
       "  <tbody>\n",
       "    <tr>\n",
       "      <th>0</th>\n",
       "      <td>1password</td>\n",
       "      <td>2017-02-02</td>\n",
       "      <td>https://1password.com/legal/privacy/privacy-20...</td>\n",
       "      <td>1password/1password-2017-02-02.txt</td>\n",
       "      <td>0</td>\n",
       "    </tr>\n",
       "    <tr>\n",
       "      <th>1</th>\n",
       "      <td>1password</td>\n",
       "      <td>2017-03-16</td>\n",
       "      <td>https://1password.com/legal/privacy/privacy-20...</td>\n",
       "      <td>1password/1password-2017-03-16.txt</td>\n",
       "      <td>0</td>\n",
       "    </tr>\n",
       "    <tr>\n",
       "      <th>2</th>\n",
       "      <td>1password</td>\n",
       "      <td>2017-08-02</td>\n",
       "      <td>https://1password.com/legal/privacy/privacy-20...</td>\n",
       "      <td>1password/1password-2017-08-02.txt</td>\n",
       "      <td>0</td>\n",
       "    </tr>\n",
       "    <tr>\n",
       "      <th>3</th>\n",
       "      <td>1password</td>\n",
       "      <td>2018-03-15</td>\n",
       "      <td>https://1password.com/legal/privacy/privacy-20...</td>\n",
       "      <td>1password/1password-2018-03-15.txt</td>\n",
       "      <td>0</td>\n",
       "    </tr>\n",
       "    <tr>\n",
       "      <th>4</th>\n",
       "      <td>1password</td>\n",
       "      <td>2018-04-04</td>\n",
       "      <td>https://1password.com/legal/privacy/privacy-20...</td>\n",
       "      <td>1password/1password-2018-04-04.txt</td>\n",
       "      <td>0</td>\n",
       "    </tr>\n",
       "  </tbody>\n",
       "</table>\n",
       "</div>"
      ],
      "text/plain": [
       "     company policy_date                                         policy_url  \\\n",
       "0  1password  2017-02-02  https://1password.com/legal/privacy/privacy-20...   \n",
       "1  1password  2017-03-16  https://1password.com/legal/privacy/privacy-20...   \n",
       "2  1password  2017-08-02  https://1password.com/legal/privacy/privacy-20...   \n",
       "3  1password  2018-03-15  https://1password.com/legal/privacy/privacy-20...   \n",
       "4  1password  2018-04-04  https://1password.com/legal/privacy/privacy-20...   \n",
       "\n",
       "                          policy_path  company_id  \n",
       "0  1password/1password-2017-02-02.txt           0  \n",
       "1  1password/1password-2017-03-16.txt           0  \n",
       "2  1password/1password-2017-08-02.txt           0  \n",
       "3  1password/1password-2018-03-15.txt           0  \n",
       "4  1password/1password-2018-04-04.txt           0  "
      ]
     },
     "execution_count": 2,
     "metadata": {},
     "output_type": "execute_result"
    }
   ],
   "source": [
    "df = pd.read_csv(MASTER_CSV)\n",
    "df.policy_date = pd.to_datetime(df.policy_date)\n",
    "df.company = pd.Categorical(df.company)\n",
    "df['company_id'] = df.company.cat.codes\n",
    "df.head()"
   ]
  },
  {
   "cell_type": "code",
   "execution_count": 3,
   "metadata": {},
   "outputs": [
    {
     "data": {
      "text/html": [
       "<div>\n",
       "<style scoped>\n",
       "    .dataframe tbody tr th:only-of-type {\n",
       "        vertical-align: middle;\n",
       "    }\n",
       "\n",
       "    .dataframe tbody tr th {\n",
       "        vertical-align: top;\n",
       "    }\n",
       "\n",
       "    .dataframe thead th {\n",
       "        text-align: right;\n",
       "    }\n",
       "</style>\n",
       "<table border=\"1\" class=\"dataframe\">\n",
       "  <thead>\n",
       "    <tr style=\"text-align: right;\">\n",
       "      <th></th>\n",
       "      <th>company</th>\n",
       "      <th>policy_date</th>\n",
       "      <th>policy_url</th>\n",
       "      <th>policy_path</th>\n",
       "      <th>company_id</th>\n",
       "    </tr>\n",
       "  </thead>\n",
       "  <tbody>\n",
       "  </tbody>\n",
       "</table>\n",
       "</div>"
      ],
      "text/plain": [
       "Empty DataFrame\n",
       "Columns: [company, policy_date, policy_url, policy_path, company_id]\n",
       "Index: []"
      ]
     },
     "execution_count": 3,
     "metadata": {},
     "output_type": "execute_result"
    }
   ],
   "source": [
    "# check for any policy paths that do not exist\n",
    "df[~pd.Series([os.path.exists(os.path.join(POLICY_DIR, x)) for x in df.policy_path])]"
   ]
  },
  {
   "cell_type": "code",
   "execution_count": 4,
   "metadata": {},
   "outputs": [
    {
     "name": "stdout",
     "output_type": "stream",
     "text": [
      "20\n",
      "277\n",
      "291\n"
     ]
    }
   ],
   "source": [
    "print(len(df.company.unique()))\n",
    "print(len(df.policy_path.unique()))\n",
    "print(len(df))"
   ]
  },
  {
   "cell_type": "code",
   "execution_count": 5,
   "metadata": {},
   "outputs": [
    {
     "data": {
      "text/plain": [
       "277"
      ]
     },
     "execution_count": 5,
     "metadata": {},
     "output_type": "execute_result"
    }
   ],
   "source": [
    "# sometimes duplicate csv rows appear because of overlap in the\n",
    "# dates of two configurations; they are the same policy most likely\n",
    "# so we just drop the duplicate\n",
    "df = df[~df.duplicated('policy_path')]\n",
    "len(df)"
   ]
  },
  {
   "cell_type": "code",
   "execution_count": 6,
   "metadata": {},
   "outputs": [
    {
     "data": {
      "text/plain": [
       "249"
      ]
     },
     "execution_count": 6,
     "metadata": {},
     "output_type": "execute_result"
    }
   ],
   "source": [
    "# some companies proved more difficult than others when gathering\n",
    "# privacy policies, so we drop them here (the policies are left\n",
    "# as part of the original dataset because they are valid policies,\n",
    "# but we do not have all the revisions)\n",
    "df = df[~df.company.str.contains('|'.join(PROBLEM_COMPANIES))]\n",
    "len(df)"
   ]
  },
  {
   "cell_type": "code",
   "execution_count": 7,
   "metadata": {},
   "outputs": [
    {
     "name": "stdout",
     "output_type": "stream",
     "text": [
      "17\n"
     ]
    },
    {
     "data": {
      "text/plain": [
       "[1password, amazon, apple, cisco, facebook, ..., target, twitter, uber, walmart, washingtonpost]\n",
       "Length: 17\n",
       "Categories (17, object): [1password, amazon, apple, cisco, ..., twitter, uber, walmart, washingtonpost]"
      ]
     },
     "execution_count": 7,
     "metadata": {},
     "output_type": "execute_result"
    }
   ],
   "source": [
    "print(len(df.company.unique()))\n",
    "df.company.unique()"
   ]
  },
  {
   "cell_type": "code",
   "execution_count": 8,
   "metadata": {},
   "outputs": [
    {
     "name": "stdout",
     "output_type": "stream",
     "text": [
      "1999-06-09 00:00:00\n",
      "2019-11-08 00:00:00\n"
     ]
    }
   ],
   "source": [
    "print(min(df.policy_date))\n",
    "print(max(df.policy_date))"
   ]
  },
  {
   "cell_type": "code",
   "execution_count": 9,
   "metadata": {},
   "outputs": [
    {
     "data": {
      "text/plain": [
       "<matplotlib.axes._subplots.AxesSubplot at 0x20cf8f65ba8>"
      ]
     },
     "execution_count": 9,
     "metadata": {},
     "output_type": "execute_result"
    },
    {
     "data": {
      "image/png": "[encoded data removed]",
      "text/plain": [
       "<Figure size 432x288 with 1 Axes>"
      ]
     },
     "metadata": {
      "needs_background": "light"
     },
     "output_type": "display_data"
    }
   ],
   "source": [
    "grouped = df.groupby('company').policy_path.count()\n",
    "grouped.plot.bar(title='Privacy Policy Revisions by Company')"
   ]
  },
  {
   "cell_type": "code",
   "execution_count": 10,
   "metadata": {},
   "outputs": [
    {
     "data": {
      "text/plain": [
       "<matplotlib.axes._subplots.AxesSubplot at 0x20cfb07a5c0>"
      ]
     },
     "execution_count": 10,
     "metadata": {},
     "output_type": "execute_result"
    },
    {
     "data": {
      "image/png": "[encoded data removed]",
      "text/plain": [
       "<Figure size 432x288 with 1 Axes>"
      ]
     },
     "metadata": {
      "needs_background": "light"
     },
     "output_type": "display_data"
    }
   ],
   "source": [
    "grouped = df.groupby([df.policy_date.dt.year]).policy_path.count()\n",
    "grouped.plot.bar(title='Privacy Policy Revisions by Year (All Companies)')"
   ]
  },
  {
   "cell_type": "code",
   "execution_count": 11,
   "metadata": {},
   "outputs": [],
   "source": [
    "def get_policy_text(row):\n",
    "    \"\"\"\n",
    "    Creates a pd.Series of full text from policies\n",
    "\n",
    "    Args:\n",
    "        row: pd.Series, row of policy index dataframe\n",
    "        \n",
    "    Returns:\n",
    "        pd.Series, a new row with 'policy_text' col\n",
    "    \"\"\"\n",
    "    page = ''\n",
    "    with open(os.path.join(POLICY_DIR, row['policy_path']), 'r', encoding='utf-8') as f:\n",
    "        page = f.read()\n",
    "    row['policy_text'] = page\n",
    "    return row"
   ]
  },
  {
   "cell_type": "code",
   "execution_count": 12,
   "metadata": {},
   "outputs": [
    {
     "data": {
      "text/html": [
       "<div>\n",
       "<style scoped>\n",
       "    .dataframe tbody tr th:only-of-type {\n",
       "        vertical-align: middle;\n",
       "    }\n",
       "\n",
       "    .dataframe tbody tr th {\n",
       "        vertical-align: top;\n",
       "    }\n",
       "\n",
       "    .dataframe thead th {\n",
       "        text-align: right;\n",
       "    }\n",
       "</style>\n",
       "<table border=\"1\" class=\"dataframe\">\n",
       "  <thead>\n",
       "    <tr style=\"text-align: right;\">\n",
       "      <th></th>\n",
       "      <th>company</th>\n",
       "      <th>policy_date</th>\n",
       "      <th>policy_url</th>\n",
       "      <th>policy_path</th>\n",
       "      <th>company_id</th>\n",
       "      <th>policy_text</th>\n",
       "    </tr>\n",
       "  </thead>\n",
       "  <tbody>\n",
       "    <tr>\n",
       "      <th>0</th>\n",
       "      <td>1password</td>\n",
       "      <td>2017-02-02</td>\n",
       "      <td>https://1password.com/legal/privacy/privacy-20...</td>\n",
       "      <td>1password/1password-2017-02-02.txt</td>\n",
       "      <td>0</td>\n",
       "      <td>\\nMenuHomeTourFamiliesBusinessPricingSecurityS...</td>\n",
       "    </tr>\n",
       "    <tr>\n",
       "      <th>1</th>\n",
       "      <td>1password</td>\n",
       "      <td>2017-03-16</td>\n",
       "      <td>https://1password.com/legal/privacy/privacy-20...</td>\n",
       "      <td>1password/1password-2017-03-16.txt</td>\n",
       "      <td>0</td>\n",
       "      <td>\\nMenuHomeTourFamiliesBusinessPricingSecurityS...</td>\n",
       "    </tr>\n",
       "    <tr>\n",
       "      <th>2</th>\n",
       "      <td>1password</td>\n",
       "      <td>2017-08-02</td>\n",
       "      <td>https://1password.com/legal/privacy/privacy-20...</td>\n",
       "      <td>1password/1password-2017-08-02.txt</td>\n",
       "      <td>0</td>\n",
       "      <td>\\nMenuHomeTourFamiliesBusinessPricingSecurityS...</td>\n",
       "    </tr>\n",
       "    <tr>\n",
       "      <th>3</th>\n",
       "      <td>1password</td>\n",
       "      <td>2018-03-15</td>\n",
       "      <td>https://1password.com/legal/privacy/privacy-20...</td>\n",
       "      <td>1password/1password-2018-03-15.txt</td>\n",
       "      <td>0</td>\n",
       "      <td>\\nMenuHomeTourFamiliesBusinessPricingSecurityS...</td>\n",
       "    </tr>\n",
       "    <tr>\n",
       "      <th>4</th>\n",
       "      <td>1password</td>\n",
       "      <td>2018-04-04</td>\n",
       "      <td>https://1password.com/legal/privacy/privacy-20...</td>\n",
       "      <td>1password/1password-2018-04-04.txt</td>\n",
       "      <td>0</td>\n",
       "      <td>\\nMenuHomeTourFamiliesBusinessPricingSecurityS...</td>\n",
       "    </tr>\n",
       "  </tbody>\n",
       "</table>\n",
       "</div>"
      ],
      "text/plain": [
       "     company policy_date                                         policy_url  \\\n",
       "0  1password  2017-02-02  https://1password.com/legal/privacy/privacy-20...   \n",
       "1  1password  2017-03-16  https://1password.com/legal/privacy/privacy-20...   \n",
       "2  1password  2017-08-02  https://1password.com/legal/privacy/privacy-20...   \n",
       "3  1password  2018-03-15  https://1password.com/legal/privacy/privacy-20...   \n",
       "4  1password  2018-04-04  https://1password.com/legal/privacy/privacy-20...   \n",
       "\n",
       "                          policy_path  company_id  \\\n",
       "0  1password/1password-2017-02-02.txt           0   \n",
       "1  1password/1password-2017-03-16.txt           0   \n",
       "2  1password/1password-2017-08-02.txt           0   \n",
       "3  1password/1password-2018-03-15.txt           0   \n",
       "4  1password/1password-2018-04-04.txt           0   \n",
       "\n",
       "                                         policy_text  \n",
       "0  \\nMenuHomeTourFamiliesBusinessPricingSecurityS...  \n",
       "1  \\nMenuHomeTourFamiliesBusinessPricingSecurityS...  \n",
       "2  \\nMenuHomeTourFamiliesBusinessPricingSecurityS...  \n",
       "3  \\nMenuHomeTourFamiliesBusinessPricingSecurityS...  \n",
       "4  \\nMenuHomeTourFamiliesBusinessPricingSecurityS...  "
      ]
     },
     "execution_count": 12,
     "metadata": {},
     "output_type": "execute_result"
    }
   ],
   "source": [
    "df = df.apply(get_policy_text, axis=1)\n",
    "df.head()"
   ]
  },
  {
   "cell_type": "markdown",
   "metadata": {},
   "source": [
    "## Children's Online Privacy Protection Act (COPPA)\n",
    "\n",
    "From [Wikipedia](https://en.wikipedia.org/wiki/Children%27s_Online_Privacy_Protection_Act):\n",
    "\n",
    "   \"The act, effective April 21, 2000, applies to the online collection of personal information by persons or entities under\n",
    "   U.S. jurisdiction about children under 13 years of age or children with disabilities. **It details what a website\n",
    "   operator must include in a privacy policy**, when and how to seek verifiable consent from a parent or guardian, and what\n",
    "   responsibilities an operator has to protect children's privacy and safety online including restrictions on the marketing\n",
    "   of those under 13.\"\n",
    "\n",
    "Based on the above, we should expect to see privacy policies mention their practices with children's data starting in April of 2000."
   ]
  },
  {
   "cell_type": "code",
   "execution_count": 13,
   "metadata": {},
   "outputs": [
    {
     "name": "stdout",
     "output_type": "stream",
     "text": [
      "188 / 249 policies mention children\n"
     ]
    }
   ],
   "source": [
    "coppa = df.copy()\n",
    "# https://chrisalbon.com/python/data_wrangling/pandas_create_column_using_conditional/\n",
    "coppa['mentions_children'] = np.where(coppa.policy_text.str.contains('children|Children|CHILDREN'), 1, 0)\n",
    "#coppa = coppa[['company', 'policy_date', 'mentions_children']]\n",
    "print('{} / {} policies mention children'.format(len(coppa[coppa.mentions_children == 1]), len(coppa)))"
   ]
  },
  {
   "cell_type": "code",
   "execution_count": 14,
   "metadata": {},
   "outputs": [
    {
     "data": {
      "text/html": [
       "<div>\n",
       "<style scoped>\n",
       "    .dataframe tbody tr th:only-of-type {\n",
       "        vertical-align: middle;\n",
       "    }\n",
       "\n",
       "    .dataframe tbody tr th {\n",
       "        vertical-align: top;\n",
       "    }\n",
       "\n",
       "    .dataframe thead th {\n",
       "        text-align: right;\n",
       "    }\n",
       "</style>\n",
       "<table border=\"1\" class=\"dataframe\">\n",
       "  <thead>\n",
       "    <tr style=\"text-align: right;\">\n",
       "      <th></th>\n",
       "      <th>company</th>\n",
       "      <th>policy_date</th>\n",
       "      <th>policy_url</th>\n",
       "      <th>policy_path</th>\n",
       "      <th>company_id</th>\n",
       "      <th>policy_text</th>\n",
       "      <th>mentions_children</th>\n",
       "    </tr>\n",
       "  </thead>\n",
       "  <tbody>\n",
       "    <tr>\n",
       "      <th>0</th>\n",
       "      <td>1password</td>\n",
       "      <td>2017-02-02</td>\n",
       "      <td>https://1password.com/legal/privacy/privacy-20...</td>\n",
       "      <td>1password/1password-2017-02-02.txt</td>\n",
       "      <td>0</td>\n",
       "      <td>\\nMenuHomeTourFamiliesBusinessPricingSecurityS...</td>\n",
       "      <td>1</td>\n",
       "    </tr>\n",
       "    <tr>\n",
       "      <th>1</th>\n",
       "      <td>1password</td>\n",
       "      <td>2017-03-16</td>\n",
       "      <td>https://1password.com/legal/privacy/privacy-20...</td>\n",
       "      <td>1password/1password-2017-03-16.txt</td>\n",
       "      <td>0</td>\n",
       "      <td>\\nMenuHomeTourFamiliesBusinessPricingSecurityS...</td>\n",
       "      <td>1</td>\n",
       "    </tr>\n",
       "    <tr>\n",
       "      <th>2</th>\n",
       "      <td>1password</td>\n",
       "      <td>2017-08-02</td>\n",
       "      <td>https://1password.com/legal/privacy/privacy-20...</td>\n",
       "      <td>1password/1password-2017-08-02.txt</td>\n",
       "      <td>0</td>\n",
       "      <td>\\nMenuHomeTourFamiliesBusinessPricingSecurityS...</td>\n",
       "      <td>1</td>\n",
       "    </tr>\n",
       "    <tr>\n",
       "      <th>3</th>\n",
       "      <td>1password</td>\n",
       "      <td>2018-03-15</td>\n",
       "      <td>https://1password.com/legal/privacy/privacy-20...</td>\n",
       "      <td>1password/1password-2018-03-15.txt</td>\n",
       "      <td>0</td>\n",
       "      <td>\\nMenuHomeTourFamiliesBusinessPricingSecurityS...</td>\n",
       "      <td>0</td>\n",
       "    </tr>\n",
       "    <tr>\n",
       "      <th>4</th>\n",
       "      <td>1password</td>\n",
       "      <td>2018-04-04</td>\n",
       "      <td>https://1password.com/legal/privacy/privacy-20...</td>\n",
       "      <td>1password/1password-2018-04-04.txt</td>\n",
       "      <td>0</td>\n",
       "      <td>\\nMenuHomeTourFamiliesBusinessPricingSecurityS...</td>\n",
       "      <td>0</td>\n",
       "    </tr>\n",
       "  </tbody>\n",
       "</table>\n",
       "</div>"
      ],
      "text/plain": [
       "     company policy_date                                         policy_url  \\\n",
       "0  1password  2017-02-02  https://1password.com/legal/privacy/privacy-20...   \n",
       "1  1password  2017-03-16  https://1password.com/legal/privacy/privacy-20...   \n",
       "2  1password  2017-08-02  https://1password.com/legal/privacy/privacy-20...   \n",
       "3  1password  2018-03-15  https://1password.com/legal/privacy/privacy-20...   \n",
       "4  1password  2018-04-04  https://1password.com/legal/privacy/privacy-20...   \n",
       "\n",
       "                          policy_path  company_id  \\\n",
       "0  1password/1password-2017-02-02.txt           0   \n",
       "1  1password/1password-2017-03-16.txt           0   \n",
       "2  1password/1password-2017-08-02.txt           0   \n",
       "3  1password/1password-2018-03-15.txt           0   \n",
       "4  1password/1password-2018-04-04.txt           0   \n",
       "\n",
       "                                         policy_text  mentions_children  \n",
       "0  \\nMenuHomeTourFamiliesBusinessPricingSecurityS...                  1  \n",
       "1  \\nMenuHomeTourFamiliesBusinessPricingSecurityS...                  1  \n",
       "2  \\nMenuHomeTourFamiliesBusinessPricingSecurityS...                  1  \n",
       "3  \\nMenuHomeTourFamiliesBusinessPricingSecurityS...                  0  \n",
       "4  \\nMenuHomeTourFamiliesBusinessPricingSecurityS...                  0  "
      ]
     },
     "execution_count": 14,
     "metadata": {},
     "output_type": "execute_result"
    }
   ],
   "source": [
    "#coppa.policy_date = coppa.policy_date.astype(str).str.replace('-', '').astype(int)\n",
    "#coppa['policy_date_plt'] = mdates.date2num(coppa.policy_date)\n",
    "coppa.head()"
   ]
  },
  {
   "cell_type": "code",
   "execution_count": 15,
   "metadata": {},
   "outputs": [
    {
     "data": {
      "text/html": [
       "<div>\n",
       "<style scoped>\n",
       "    .dataframe tbody tr th:only-of-type {\n",
       "        vertical-align: middle;\n",
       "    }\n",
       "\n",
       "    .dataframe tbody tr th {\n",
       "        vertical-align: top;\n",
       "    }\n",
       "\n",
       "    .dataframe thead th {\n",
       "        text-align: right;\n",
       "    }\n",
       "</style>\n",
       "<table border=\"1\" class=\"dataframe\">\n",
       "  <thead>\n",
       "    <tr style=\"text-align: right;\">\n",
       "      <th>policy_date</th>\n",
       "      <th>1999-06-09 00:00:00</th>\n",
       "      <th>1999-09-20 00:00:00</th>\n",
       "      <th>2000-10-31 00:00:00</th>\n",
       "      <th>2001-01-04 00:00:00</th>\n",
       "      <th>2001-05-04 00:00:00</th>\n",
       "      <th>2001-06-04 00:00:00</th>\n",
       "      <th>2001-11-06 00:00:00</th>\n",
       "      <th>2002-06-09 00:00:00</th>\n",
       "      <th>2002-08-27 00:00:00</th>\n",
       "      <th>2002-10-03 00:00:00</th>\n",
       "      <th>...</th>\n",
       "      <th>2018-05-25 00:00:00</th>\n",
       "      <th>2018-09-18 00:00:00</th>\n",
       "      <th>2018-10-26 00:00:00</th>\n",
       "      <th>2018-12-10 00:00:00</th>\n",
       "      <th>2018-12-17 00:00:00</th>\n",
       "      <th>2019-01-22 00:00:00</th>\n",
       "      <th>2019-02-01 00:00:00</th>\n",
       "      <th>2019-04-23 00:00:00</th>\n",
       "      <th>2019-05-21 00:00:00</th>\n",
       "      <th>2019-11-08 00:00:00</th>\n",
       "    </tr>\n",
       "    <tr>\n",
       "      <th>company</th>\n",
       "      <th></th>\n",
       "      <th></th>\n",
       "      <th></th>\n",
       "      <th></th>\n",
       "      <th></th>\n",
       "      <th></th>\n",
       "      <th></th>\n",
       "      <th></th>\n",
       "      <th></th>\n",
       "      <th></th>\n",
       "      <th></th>\n",
       "      <th></th>\n",
       "      <th></th>\n",
       "      <th></th>\n",
       "      <th></th>\n",
       "      <th></th>\n",
       "      <th></th>\n",
       "      <th></th>\n",
       "      <th></th>\n",
       "      <th></th>\n",
       "      <th></th>\n",
       "    </tr>\n",
       "  </thead>\n",
       "  <tbody>\n",
       "    <tr>\n",
       "      <th>1password</th>\n",
       "      <td>NaN</td>\n",
       "      <td>NaN</td>\n",
       "      <td>NaN</td>\n",
       "      <td>NaN</td>\n",
       "      <td>NaN</td>\n",
       "      <td>NaN</td>\n",
       "      <td>NaN</td>\n",
       "      <td>NaN</td>\n",
       "      <td>NaN</td>\n",
       "      <td>NaN</td>\n",
       "      <td>...</td>\n",
       "      <td>NaN</td>\n",
       "      <td>NaN</td>\n",
       "      <td>0.0</td>\n",
       "      <td>NaN</td>\n",
       "      <td>NaN</td>\n",
       "      <td>NaN</td>\n",
       "      <td>NaN</td>\n",
       "      <td>NaN</td>\n",
       "      <td>NaN</td>\n",
       "      <td>NaN</td>\n",
       "    </tr>\n",
       "    <tr>\n",
       "      <th>amazon</th>\n",
       "      <td>NaN</td>\n",
       "      <td>NaN</td>\n",
       "      <td>NaN</td>\n",
       "      <td>NaN</td>\n",
       "      <td>NaN</td>\n",
       "      <td>NaN</td>\n",
       "      <td>NaN</td>\n",
       "      <td>NaN</td>\n",
       "      <td>NaN</td>\n",
       "      <td>NaN</td>\n",
       "      <td>...</td>\n",
       "      <td>NaN</td>\n",
       "      <td>NaN</td>\n",
       "      <td>NaN</td>\n",
       "      <td>NaN</td>\n",
       "      <td>NaN</td>\n",
       "      <td>NaN</td>\n",
       "      <td>NaN</td>\n",
       "      <td>NaN</td>\n",
       "      <td>NaN</td>\n",
       "      <td>NaN</td>\n",
       "    </tr>\n",
       "    <tr>\n",
       "      <th>apple</th>\n",
       "      <td>NaN</td>\n",
       "      <td>NaN</td>\n",
       "      <td>1.0</td>\n",
       "      <td>NaN</td>\n",
       "      <td>1.0</td>\n",
       "      <td>1.0</td>\n",
       "      <td>NaN</td>\n",
       "      <td>NaN</td>\n",
       "      <td>NaN</td>\n",
       "      <td>NaN</td>\n",
       "      <td>...</td>\n",
       "      <td>NaN</td>\n",
       "      <td>NaN</td>\n",
       "      <td>NaN</td>\n",
       "      <td>NaN</td>\n",
       "      <td>NaN</td>\n",
       "      <td>NaN</td>\n",
       "      <td>NaN</td>\n",
       "      <td>NaN</td>\n",
       "      <td>NaN</td>\n",
       "      <td>NaN</td>\n",
       "    </tr>\n",
       "    <tr>\n",
       "      <th>cisco</th>\n",
       "      <td>NaN</td>\n",
       "      <td>NaN</td>\n",
       "      <td>NaN</td>\n",
       "      <td>NaN</td>\n",
       "      <td>NaN</td>\n",
       "      <td>NaN</td>\n",
       "      <td>1.0</td>\n",
       "      <td>NaN</td>\n",
       "      <td>NaN</td>\n",
       "      <td>1.0</td>\n",
       "      <td>...</td>\n",
       "      <td>NaN</td>\n",
       "      <td>NaN</td>\n",
       "      <td>NaN</td>\n",
       "      <td>NaN</td>\n",
       "      <td>NaN</td>\n",
       "      <td>NaN</td>\n",
       "      <td>NaN</td>\n",
       "      <td>NaN</td>\n",
       "      <td>NaN</td>\n",
       "      <td>NaN</td>\n",
       "    </tr>\n",
       "    <tr>\n",
       "      <th>facebook</th>\n",
       "      <td>NaN</td>\n",
       "      <td>NaN</td>\n",
       "      <td>NaN</td>\n",
       "      <td>NaN</td>\n",
       "      <td>NaN</td>\n",
       "      <td>NaN</td>\n",
       "      <td>NaN</td>\n",
       "      <td>NaN</td>\n",
       "      <td>NaN</td>\n",
       "      <td>NaN</td>\n",
       "      <td>...</td>\n",
       "      <td>NaN</td>\n",
       "      <td>NaN</td>\n",
       "      <td>NaN</td>\n",
       "      <td>NaN</td>\n",
       "      <td>NaN</td>\n",
       "      <td>NaN</td>\n",
       "      <td>NaN</td>\n",
       "      <td>NaN</td>\n",
       "      <td>NaN</td>\n",
       "      <td>NaN</td>\n",
       "    </tr>\n",
       "  </tbody>\n",
       "</table>\n",
       "<p>5 rows × 236 columns</p>\n",
       "</div>"
      ],
      "text/plain": [
       "policy_date  1999-06-09  1999-09-20  2000-10-31  2001-01-04  2001-05-04  \\\n",
       "company                                                                   \n",
       "1password           NaN         NaN         NaN         NaN         NaN   \n",
       "amazon              NaN         NaN         NaN         NaN         NaN   \n",
       "apple               NaN         NaN         1.0         NaN         1.0   \n",
       "cisco               NaN         NaN         NaN         NaN         NaN   \n",
       "facebook            NaN         NaN         NaN         NaN         NaN   \n",
       "\n",
       "policy_date  2001-06-04  2001-11-06  2002-06-09  2002-08-27  2002-10-03  ...  \\\n",
       "company                                                                  ...   \n",
       "1password           NaN         NaN         NaN         NaN         NaN  ...   \n",
       "amazon              NaN         NaN         NaN         NaN         NaN  ...   \n",
       "apple               1.0         NaN         NaN         NaN         NaN  ...   \n",
       "cisco               NaN         1.0         NaN         NaN         1.0  ...   \n",
       "facebook            NaN         NaN         NaN         NaN         NaN  ...   \n",
       "\n",
       "policy_date  2018-05-25  2018-09-18  2018-10-26  2018-12-10  2018-12-17  \\\n",
       "company                                                                   \n",
       "1password           NaN         NaN         0.0         NaN         NaN   \n",
       "amazon              NaN         NaN         NaN         NaN         NaN   \n",
       "apple               NaN         NaN         NaN         NaN         NaN   \n",
       "cisco               NaN         NaN         NaN         NaN         NaN   \n",
       "facebook            NaN         NaN         NaN         NaN         NaN   \n",
       "\n",
       "policy_date  2019-01-22  2019-02-01  2019-04-23  2019-05-21  2019-11-08  \n",
       "company                                                                  \n",
       "1password           NaN         NaN         NaN         NaN         NaN  \n",
       "amazon              NaN         NaN         NaN         NaN         NaN  \n",
       "apple               NaN         NaN         NaN         NaN         NaN  \n",
       "cisco               NaN         NaN         NaN         NaN         NaN  \n",
       "facebook            NaN         NaN         NaN         NaN         NaN  \n",
       "\n",
       "[5 rows x 236 columns]"
      ]
     },
     "execution_count": 15,
     "metadata": {},
     "output_type": "execute_result"
    }
   ],
   "source": [
    "result = coppa.pivot(index='company', columns='policy_date', values='mentions_children')\n",
    "result.head()"
   ]
  },
  {
   "cell_type": "code",
   "execution_count": 16,
   "metadata": {},
   "outputs": [
    {
     "data": {
      "text/html": [
       "<div>\n",
       "<style scoped>\n",
       "    .dataframe tbody tr th:only-of-type {\n",
       "        vertical-align: middle;\n",
       "    }\n",
       "\n",
       "    .dataframe tbody tr th {\n",
       "        vertical-align: top;\n",
       "    }\n",
       "\n",
       "    .dataframe thead th {\n",
       "        text-align: right;\n",
       "    }\n",
       "</style>\n",
       "<table border=\"1\" class=\"dataframe\">\n",
       "  <thead>\n",
       "    <tr style=\"text-align: right;\">\n",
       "      <th>policy_date</th>\n",
       "      <th>1999-06-09 00:00:00</th>\n",
       "      <th>1999-09-20 00:00:00</th>\n",
       "      <th>2000-10-31 00:00:00</th>\n",
       "      <th>2001-01-04 00:00:00</th>\n",
       "      <th>2001-05-04 00:00:00</th>\n",
       "      <th>2001-06-04 00:00:00</th>\n",
       "      <th>2001-11-06 00:00:00</th>\n",
       "      <th>2002-06-09 00:00:00</th>\n",
       "      <th>2002-08-27 00:00:00</th>\n",
       "      <th>2002-10-03 00:00:00</th>\n",
       "      <th>...</th>\n",
       "      <th>2018-05-25 00:00:00</th>\n",
       "      <th>2018-09-18 00:00:00</th>\n",
       "      <th>2018-10-26 00:00:00</th>\n",
       "      <th>2018-12-10 00:00:00</th>\n",
       "      <th>2018-12-17 00:00:00</th>\n",
       "      <th>2019-01-22 00:00:00</th>\n",
       "      <th>2019-02-01 00:00:00</th>\n",
       "      <th>2019-04-23 00:00:00</th>\n",
       "      <th>2019-05-21 00:00:00</th>\n",
       "      <th>2019-11-08 00:00:00</th>\n",
       "    </tr>\n",
       "    <tr>\n",
       "      <th>company</th>\n",
       "      <th></th>\n",
       "      <th></th>\n",
       "      <th></th>\n",
       "      <th></th>\n",
       "      <th></th>\n",
       "      <th></th>\n",
       "      <th></th>\n",
       "      <th></th>\n",
       "      <th></th>\n",
       "      <th></th>\n",
       "      <th></th>\n",
       "      <th></th>\n",
       "      <th></th>\n",
       "      <th></th>\n",
       "      <th></th>\n",
       "      <th></th>\n",
       "      <th></th>\n",
       "      <th></th>\n",
       "      <th></th>\n",
       "      <th></th>\n",
       "      <th></th>\n",
       "    </tr>\n",
       "  </thead>\n",
       "  <tbody>\n",
       "    <tr>\n",
       "      <th>1password</th>\n",
       "      <td>NaN</td>\n",
       "      <td>NaN</td>\n",
       "      <td>NaN</td>\n",
       "      <td>NaN</td>\n",
       "      <td>NaN</td>\n",
       "      <td>NaN</td>\n",
       "      <td>NaN</td>\n",
       "      <td>NaN</td>\n",
       "      <td>NaN</td>\n",
       "      <td>NaN</td>\n",
       "      <td>...</td>\n",
       "      <td>0.0</td>\n",
       "      <td>0.0</td>\n",
       "      <td>0.0</td>\n",
       "      <td>0.0</td>\n",
       "      <td>0.0</td>\n",
       "      <td>0.0</td>\n",
       "      <td>0.0</td>\n",
       "      <td>0.0</td>\n",
       "      <td>0.0</td>\n",
       "      <td>0.0</td>\n",
       "    </tr>\n",
       "    <tr>\n",
       "      <th>amazon</th>\n",
       "      <td>NaN</td>\n",
       "      <td>NaN</td>\n",
       "      <td>NaN</td>\n",
       "      <td>NaN</td>\n",
       "      <td>NaN</td>\n",
       "      <td>NaN</td>\n",
       "      <td>NaN</td>\n",
       "      <td>NaN</td>\n",
       "      <td>NaN</td>\n",
       "      <td>NaN</td>\n",
       "      <td>...</td>\n",
       "      <td>1.0</td>\n",
       "      <td>1.0</td>\n",
       "      <td>1.0</td>\n",
       "      <td>1.0</td>\n",
       "      <td>1.0</td>\n",
       "      <td>1.0</td>\n",
       "      <td>1.0</td>\n",
       "      <td>1.0</td>\n",
       "      <td>1.0</td>\n",
       "      <td>1.0</td>\n",
       "    </tr>\n",
       "    <tr>\n",
       "      <th>apple</th>\n",
       "      <td>NaN</td>\n",
       "      <td>NaN</td>\n",
       "      <td>1.0</td>\n",
       "      <td>1.0</td>\n",
       "      <td>1.0</td>\n",
       "      <td>1.0</td>\n",
       "      <td>1.0</td>\n",
       "      <td>1.0</td>\n",
       "      <td>1.0</td>\n",
       "      <td>1.0</td>\n",
       "      <td>...</td>\n",
       "      <td>1.0</td>\n",
       "      <td>1.0</td>\n",
       "      <td>1.0</td>\n",
       "      <td>1.0</td>\n",
       "      <td>1.0</td>\n",
       "      <td>1.0</td>\n",
       "      <td>1.0</td>\n",
       "      <td>1.0</td>\n",
       "      <td>1.0</td>\n",
       "      <td>1.0</td>\n",
       "    </tr>\n",
       "    <tr>\n",
       "      <th>cisco</th>\n",
       "      <td>NaN</td>\n",
       "      <td>NaN</td>\n",
       "      <td>NaN</td>\n",
       "      <td>NaN</td>\n",
       "      <td>NaN</td>\n",
       "      <td>NaN</td>\n",
       "      <td>1.0</td>\n",
       "      <td>1.0</td>\n",
       "      <td>1.0</td>\n",
       "      <td>1.0</td>\n",
       "      <td>...</td>\n",
       "      <td>1.0</td>\n",
       "      <td>1.0</td>\n",
       "      <td>1.0</td>\n",
       "      <td>1.0</td>\n",
       "      <td>1.0</td>\n",
       "      <td>1.0</td>\n",
       "      <td>1.0</td>\n",
       "      <td>1.0</td>\n",
       "      <td>1.0</td>\n",
       "      <td>1.0</td>\n",
       "    </tr>\n",
       "    <tr>\n",
       "      <th>facebook</th>\n",
       "      <td>NaN</td>\n",
       "      <td>NaN</td>\n",
       "      <td>NaN</td>\n",
       "      <td>NaN</td>\n",
       "      <td>NaN</td>\n",
       "      <td>NaN</td>\n",
       "      <td>NaN</td>\n",
       "      <td>NaN</td>\n",
       "      <td>NaN</td>\n",
       "      <td>NaN</td>\n",
       "      <td>...</td>\n",
       "      <td>0.0</td>\n",
       "      <td>0.0</td>\n",
       "      <td>0.0</td>\n",
       "      <td>0.0</td>\n",
       "      <td>0.0</td>\n",
       "      <td>0.0</td>\n",
       "      <td>0.0</td>\n",
       "      <td>0.0</td>\n",
       "      <td>0.0</td>\n",
       "      <td>0.0</td>\n",
       "    </tr>\n",
       "  </tbody>\n",
       "</table>\n",
       "<p>5 rows × 236 columns</p>\n",
       "</div>"
      ],
      "text/plain": [
       "policy_date  1999-06-09  1999-09-20  2000-10-31  2001-01-04  2001-05-04  \\\n",
       "company                                                                   \n",
       "1password           NaN         NaN         NaN         NaN         NaN   \n",
       "amazon              NaN         NaN         NaN         NaN         NaN   \n",
       "apple               NaN         NaN         1.0         1.0         1.0   \n",
       "cisco               NaN         NaN         NaN         NaN         NaN   \n",
       "facebook            NaN         NaN         NaN         NaN         NaN   \n",
       "\n",
       "policy_date  2001-06-04  2001-11-06  2002-06-09  2002-08-27  2002-10-03  ...  \\\n",
       "company                                                                  ...   \n",
       "1password           NaN         NaN         NaN         NaN         NaN  ...   \n",
       "amazon              NaN         NaN         NaN         NaN         NaN  ...   \n",
       "apple               1.0         1.0         1.0         1.0         1.0  ...   \n",
       "cisco               NaN         1.0         1.0         1.0         1.0  ...   \n",
       "facebook            NaN         NaN         NaN         NaN         NaN  ...   \n",
       "\n",
       "policy_date  2018-05-25  2018-09-18  2018-10-26  2018-12-10  2018-12-17  \\\n",
       "company                                                                   \n",
       "1password           0.0         0.0         0.0         0.0         0.0   \n",
       "amazon              1.0         1.0         1.0         1.0         1.0   \n",
       "apple               1.0         1.0         1.0         1.0         1.0   \n",
       "cisco               1.0         1.0         1.0         1.0         1.0   \n",
       "facebook            0.0         0.0         0.0         0.0         0.0   \n",
       "\n",
       "policy_date  2019-01-22  2019-02-01  2019-04-23  2019-05-21  2019-11-08  \n",
       "company                                                                  \n",
       "1password           0.0         0.0         0.0         0.0         0.0  \n",
       "amazon              1.0         1.0         1.0         1.0         1.0  \n",
       "apple               1.0         1.0         1.0         1.0         1.0  \n",
       "cisco               1.0         1.0         1.0         1.0         1.0  \n",
       "facebook            0.0         0.0         0.0         0.0         0.0  \n",
       "\n",
       "[5 rows x 236 columns]"
      ]
     },
     "execution_count": 16,
     "metadata": {},
     "output_type": "execute_result"
    }
   ],
   "source": [
    "for i1, row in result.transpose().iteritems():\n",
    "    last = np.nan\n",
    "    for i2, value in row.iteritems():\n",
    "        if np.isnan(value):\n",
    "            # set it equal to last value\n",
    "            value = last\n",
    "        result.at[i1, i2] = value\n",
    "        last = value\n",
    "        \n",
    "result.head()"
   ]
  },
  {
   "cell_type": "code",
   "execution_count": 18,
   "metadata": {},
   "outputs": [
    {
     "data": {
      "image/png": "[encoded data removed]",
      "text/plain": [
       "<Figure size 864x504 with 1 Axes>"
      ]
     },
     "metadata": {
      "needs_background": "light"
     },
     "output_type": "display_data"
    }
   ],
   "source": [
    "# init plot\n",
    "fig, ax = plt.subplots(figsize=(12, 7))\n",
    "ax.set_title('Reference of \"Children\" in Privacy Policy')\n",
    "\n",
    "# prepare mask for null values when a company does not yet have a published privacy policy\n",
    "mask = np.zeros_like(result)\n",
    "mask[np.isnan(result)] = True\n",
    "\n",
    "# do plot\n",
    "# https://stackoverflow.com/questions/37790429/seaborn-heatmap-using-pandas-dataframe\n",
    "sp = sns.heatmap(result, ax=ax, fmt=\"g\", cmap=sns.color_palette(\"RdBu\", 7), mask=mask, cbar=False)\n",
    "\n",
    "# add vertical line for coppa\n",
    "ax.vlines(5, .8, 20, color='purple')\n",
    "plt.text(5, 0.5, 'April 21, 2000: COPPA Begins', color='purple', fontsize=12)\n",
    "\n",
    "# format and space xticks\n",
    "xlocs, xlabels = plt.xticks()\n",
    "#print(list(zip(xlocs, xlabels)))\n",
    "for i, x in enumerate(xlabels):\n",
    "    text = ''\n",
    "    if i % 7 == 0:\n",
    "        text = x._text[:x._text.find('T')]\n",
    "    xlabels[i]._text = text\n",
    "_ = ax.set_xticklabels(xlabels)    \n",
    "fig.autofmt_xdate()"
   ]
  },
  {
   "cell_type": "markdown",
   "metadata": {},
   "source": [
    "## Google"
   ]
  },
  {
   "cell_type": "code",
   "execution_count": null,
   "metadata": {},
   "outputs": [],
   "source": [
    "google = df[df.company == 'google']\n",
    "google.head()"
   ]
  },
  {
   "cell_type": "code",
   "execution_count": null,
   "metadata": {},
   "outputs": [],
   "source": [
    "google = google.apply(get_policy_text, axis=1)"
   ]
  },
  {
   "cell_type": "code",
   "execution_count": null,
   "metadata": {},
   "outputs": [],
   "source": [
    "google['policy_text_len'] = google.policy_text.str.len()"
   ]
  },
  {
   "cell_type": "code",
   "execution_count": null,
   "metadata": {},
   "outputs": [],
   "source": [
    "google[['policy_date', 'policy_text_len']].plot.bar('policy_date', title=\"Google's Privacy Policy Length By Revision\")"
   ]
  },
  {
   "cell_type": "code",
   "execution_count": null,
   "metadata": {},
   "outputs": [],
   "source": []
  }
 ],
 "metadata": {
  "kernelspec": {
   "display_name": "Python 3",
   "language": "python",
   "name": "python3"
  },
  "language_info": {
   "codemirror_mode": {
    "name": "ipython",
    "version": 3
   },
   "file_extension": ".py",
   "mimetype": "text/x-python",
   "name": "python",
   "nbconvert_exporter": "python",
   "pygments_lexer": "ipython3",
   "version": "3.6.8"
  }
 },
 "nbformat": 4,
 "nbformat_minor": 2
}
