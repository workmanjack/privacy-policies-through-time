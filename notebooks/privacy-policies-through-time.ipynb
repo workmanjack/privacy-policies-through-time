{
 "cells": [
  {
   "cell_type": "code",
   "execution_count": 1,
   "metadata": {},
   "outputs": [],
   "source": [
    "# project imports\n",
    "import env\n",
    "from wayback_search import POLICY_DIR\n",
    "from build_master_index import MASTER_CSV\n",
    "\n",
    "\n",
    "# python & package imports\n",
    "import pandas as pd\n",
    "\n",
    "\n",
    "# plot things\n",
    "%matplotlib inline\n",
    "# autoreload modules\n",
    "%load_ext autoreload\n",
    "%autoreload 2"
   ]
  },
  {
   "cell_type": "code",
   "execution_count": 2,
   "metadata": {},
   "outputs": [
    {
     "data": {
      "text/html": [
       "<div>\n",
       "<style scoped>\n",
       "    .dataframe tbody tr th:only-of-type {\n",
       "        vertical-align: middle;\n",
       "    }\n",
       "\n",
       "    .dataframe tbody tr th {\n",
       "        vertical-align: top;\n",
       "    }\n",
       "\n",
       "    .dataframe thead th {\n",
       "        text-align: right;\n",
       "    }\n",
       "</style>\n",
       "<table border=\"1\" class=\"dataframe\">\n",
       "  <thead>\n",
       "    <tr style=\"text-align: right;\">\n",
       "      <th></th>\n",
       "      <th>company</th>\n",
       "      <th>policy_date</th>\n",
       "      <th>policy_url</th>\n",
       "      <th>policy_path</th>\n",
       "    </tr>\n",
       "  </thead>\n",
       "  <tbody>\n",
       "    <tr>\n",
       "      <th>0</th>\n",
       "      <td>2017-02-02 00:00:00</td>\n",
       "      <td>https://1password.com/legal/privacy/privacy-20...</td>\n",
       "      <td>1password/1password-2017-02-02.txt</td>\n",
       "      <td>NaN</td>\n",
       "    </tr>\n",
       "    <tr>\n",
       "      <th>1</th>\n",
       "      <td>2017-03-16 00:00:00</td>\n",
       "      <td>https://1password.com/legal/privacy/privacy-20...</td>\n",
       "      <td>1password/1password-2017-03-16.txt</td>\n",
       "      <td>NaN</td>\n",
       "    </tr>\n",
       "    <tr>\n",
       "      <th>2</th>\n",
       "      <td>2017-08-02 00:00:00</td>\n",
       "      <td>https://1password.com/legal/privacy/privacy-20...</td>\n",
       "      <td>1password/1password-2017-08-02.txt</td>\n",
       "      <td>NaN</td>\n",
       "    </tr>\n",
       "    <tr>\n",
       "      <th>3</th>\n",
       "      <td>2018-03-15 00:00:00</td>\n",
       "      <td>https://1password.com/legal/privacy/privacy-20...</td>\n",
       "      <td>1password/1password-2018-03-15.txt</td>\n",
       "      <td>NaN</td>\n",
       "    </tr>\n",
       "    <tr>\n",
       "      <th>4</th>\n",
       "      <td>2018-04-04 00:00:00</td>\n",
       "      <td>https://1password.com/legal/privacy/privacy-20...</td>\n",
       "      <td>1password/1password-2018-04-04.txt</td>\n",
       "      <td>NaN</td>\n",
       "    </tr>\n",
       "  </tbody>\n",
       "</table>\n",
       "</div>"
      ],
      "text/plain": [
       "               company                                        policy_date  \\\n",
       "0  2017-02-02 00:00:00  https://1password.com/legal/privacy/privacy-20...   \n",
       "1  2017-03-16 00:00:00  https://1password.com/legal/privacy/privacy-20...   \n",
       "2  2017-08-02 00:00:00  https://1password.com/legal/privacy/privacy-20...   \n",
       "3  2018-03-15 00:00:00  https://1password.com/legal/privacy/privacy-20...   \n",
       "4  2018-04-04 00:00:00  https://1password.com/legal/privacy/privacy-20...   \n",
       "\n",
       "                           policy_url policy_path  \n",
       "0  1password/1password-2017-02-02.txt         NaN  \n",
       "1  1password/1password-2017-03-16.txt         NaN  \n",
       "2  1password/1password-2017-08-02.txt         NaN  \n",
       "3  1password/1password-2018-03-15.txt         NaN  \n",
       "4  1password/1password-2018-04-04.txt         NaN  "
      ]
     },
     "execution_count": 2,
     "metadata": {},
     "output_type": "execute_result"
    }
   ],
   "source": [
    "df = pd.read_csv(MASTER_CSV)\n",
    "df.head()"
   ]
  },
  {
   "cell_type": "code",
   "execution_count": null,
   "metadata": {},
   "outputs": [],
   "source": []
  }
 ],
 "metadata": {
  "kernelspec": {
   "display_name": "Python 3",
   "language": "python",
   "name": "python3"
  },
  "language_info": {
   "codemirror_mode": {
    "name": "ipython",
    "version": 3
   },
   "file_extension": ".py",
   "mimetype": "text/x-python",
   "name": "python",
   "nbconvert_exporter": "python",
   "pygments_lexer": "ipython3",
   "version": "3.6.8"
  }
 },
 "nbformat": 4,
 "nbformat_minor": 2
}
