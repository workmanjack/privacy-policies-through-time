{
 "cells": [
  {
   "cell_type": "markdown",
   "metadata": {},
   "source": [
    "# Privacy Policies Through Time\n",
    "\n",
    "*An exploration of how privacy policies have evolved and reacted to different legislative and media events throughout the years.*\n",
    "\n"
   ]
  },
  {
   "cell_type": "code",
   "execution_count": 1,
   "metadata": {},
   "outputs": [],
   "source": [
    "# project imports\n",
    "import env\n",
    "from build_master_index import MASTER_CSV, PROBLEM_COMPANIES\n",
    "from wayback_search import POLICY_DIR\n",
    "\n",
    "\n",
    "# python & package imports\n",
    "from collections import defaultdict\n",
    "import matplotlib.pyplot as plt\n",
    "from datetime import date\n",
    "import seaborn as sns\n",
    "import pandas as pd\n",
    "import numpy as np\n",
    "import os\n",
    "import re\n",
    "\n",
    "\n",
    "# plot things\n",
    "%matplotlib inline\n",
    "# autoreload modules\n",
    "%load_ext autoreload\n",
    "%autoreload 2"
   ]
  },
  {
   "cell_type": "markdown",
   "metadata": {},
   "source": [
    "## Dataset Introduction\n",
    "\n",
    "This project has put together a historical dataset containing all of the privacy policy revisions of various companies with the help of the Internet Archive's [Wayback Machine](https://archive.org/web/).\n",
    "\n",
    "Here we import the master csv of the dataset and prepare it for analysis."
   ]
  },
  {
   "cell_type": "code",
   "execution_count": 2,
   "metadata": {},
   "outputs": [
    {
     "name": "stdout",
     "output_type": "stream",
     "text": [
      "Policy count before dropping duplicates: 310\n",
      "Policy count before removing problematic companies: 295\n",
      "Company count before removing problematic companies: 21\n",
      "Final policy count: 267\n"
     ]
    }
   ],
   "source": [
    "# import and prepare the dataframe\n",
    "df = pd.read_csv(MASTER_CSV)\n",
    "df.policy_date = pd.to_datetime(df.policy_date)\n",
    "df.company = pd.Categorical(df.company)\n",
    "df['company_id'] = df.company.cat.codes\n",
    "\n",
    "# sanity-check: check for any policy paths that do not exist\n",
    "assert len(df[~pd.Series([os.path.exists(os.path.join(POLICY_DIR, x)) for x in df.policy_path])]) == 0\n",
    "\n",
    "# sometimes duplicate csv rows appear because of overlap in the\n",
    "# dates of two configurations; they are the same policy most likely\n",
    "# so we just drop the duplicate\n",
    "print('Policy count before dropping duplicates: {}'.format(len(df)))\n",
    "df = df[~df.duplicated('policy_path')]\n",
    "\n",
    "# some companies proved more difficult than others when gathering\n",
    "# privacy policies, so we drop them here (the policies are left\n",
    "# as part of the original dataset because they are valid policies,\n",
    "# but we do not have all the revisions)\n",
    "print('Policy count before removing problematic companies: {}'.format(len(df)))\n",
    "print('Company count before removing problematic companies: {}'.format(len(df.company.unique())))\n",
    "df = df[~df.company.str.contains('|'.join(PROBLEM_COMPANIES))]\n",
    "print('Final policy count: {}'.format(len(df)))"
   ]
  },
  {
   "cell_type": "markdown",
   "metadata": {},
   "source": [
    "A quick look inside the dataframe shows the available columns, the mix of companies, and a range of policy dates"
   ]
  },
  {
   "cell_type": "code",
   "execution_count": 3,
   "metadata": {},
   "outputs": [
    {
     "data": {
      "text/html": [
       "<div>\n",
       "<style scoped>\n",
       "    .dataframe tbody tr th:only-of-type {\n",
       "        vertical-align: middle;\n",
       "    }\n",
       "\n",
       "    .dataframe tbody tr th {\n",
       "        vertical-align: top;\n",
       "    }\n",
       "\n",
       "    .dataframe thead th {\n",
       "        text-align: right;\n",
       "    }\n",
       "</style>\n",
       "<table border=\"1\" class=\"dataframe\">\n",
       "  <thead>\n",
       "    <tr style=\"text-align: right;\">\n",
       "      <th></th>\n",
       "      <th>company</th>\n",
       "      <th>policy_date</th>\n",
       "      <th>policy_url</th>\n",
       "      <th>policy_path</th>\n",
       "      <th>company_id</th>\n",
       "    </tr>\n",
       "  </thead>\n",
       "  <tbody>\n",
       "    <tr>\n",
       "      <th>170</th>\n",
       "      <td>nytimes</td>\n",
       "      <td>2008-08-10</td>\n",
       "      <td>http://web.archive.org/web/20080901063330/http...</td>\n",
       "      <td>nytimes/nytimes-2008-08-10.txt</td>\n",
       "      <td>11</td>\n",
       "    </tr>\n",
       "    <tr>\n",
       "      <th>74</th>\n",
       "      <td>facebook</td>\n",
       "      <td>2010-12-22</td>\n",
       "      <td>http://web.archive.org/web/20101231191335/http...</td>\n",
       "      <td>facebook/facebook-2010-12-22.txt</td>\n",
       "      <td>4</td>\n",
       "    </tr>\n",
       "    <tr>\n",
       "      <th>25</th>\n",
       "      <td>apple</td>\n",
       "      <td>2007-06-29</td>\n",
       "      <td>http://web.archive.org/web/20070630044333/http...</td>\n",
       "      <td>apple/apple-2007-06-29.txt</td>\n",
       "      <td>2</td>\n",
       "    </tr>\n",
       "    <tr>\n",
       "      <th>22</th>\n",
       "      <td>apple</td>\n",
       "      <td>2001-06-04</td>\n",
       "      <td>http://web.archive.org/web/20010605001045/http...</td>\n",
       "      <td>apple/apple-2001-06-04.txt</td>\n",
       "      <td>2</td>\n",
       "    </tr>\n",
       "    <tr>\n",
       "      <th>260</th>\n",
       "      <td>verizon</td>\n",
       "      <td>2001-04-19</td>\n",
       "      <td>http://web.archive.org/web/20020606030746/http...</td>\n",
       "      <td>verizon/verizon-2001-04-19.txt</td>\n",
       "      <td>18</td>\n",
       "    </tr>\n",
       "  </tbody>\n",
       "</table>\n",
       "</div>"
      ],
      "text/plain": [
       "      company policy_date                                         policy_url  \\\n",
       "170   nytimes  2008-08-10  http://web.archive.org/web/20080901063330/http...   \n",
       "74   facebook  2010-12-22  http://web.archive.org/web/20101231191335/http...   \n",
       "25      apple  2007-06-29  http://web.archive.org/web/20070630044333/http...   \n",
       "22      apple  2001-06-04  http://web.archive.org/web/20010605001045/http...   \n",
       "260   verizon  2001-04-19  http://web.archive.org/web/20020606030746/http...   \n",
       "\n",
       "                          policy_path  company_id  \n",
       "170    nytimes/nytimes-2008-08-10.txt          11  \n",
       "74   facebook/facebook-2010-12-22.txt           4  \n",
       "25         apple/apple-2007-06-29.txt           2  \n",
       "22         apple/apple-2001-06-04.txt           2  \n",
       "260    verizon/verizon-2001-04-19.txt          18  "
      ]
     },
     "execution_count": 3,
     "metadata": {},
     "output_type": "execute_result"
    }
   ],
   "source": [
    "df.sample(n=5)"
   ]
  },
  {
   "cell_type": "markdown",
   "metadata": {},
   "source": [
    "## Dataset Metadata\n",
    "\n",
    "Here we explore the dataset metadata and begin to explore what's inside."
   ]
  },
  {
   "cell_type": "markdown",
   "metadata": {},
   "source": [
    "How many and what companies are covered?"
   ]
  },
  {
   "cell_type": "code",
   "execution_count": 4,
   "metadata": {},
   "outputs": [
    {
     "name": "stdout",
     "output_type": "stream",
     "text": [
      "Companies: 1password, amazon, apple, cisco, facebook, fitbit, goodreads, google, intuit, netflix, nytimes, smud, target, twitter, uber, verizon, walmart, washingtonpost\n",
      "Count: 18\n"
     ]
    }
   ],
   "source": [
    "companies = df.company.unique()\n",
    "print('Companies: {}'.format(', '.join(list(companies))))\n",
    "print('Count: {}'.format(len(companies)))"
   ]
  },
  {
   "cell_type": "markdown",
   "metadata": {},
   "source": [
    "How many policies are there?"
   ]
  },
  {
   "cell_type": "code",
   "execution_count": 5,
   "metadata": {},
   "outputs": [
    {
     "name": "stdout",
     "output_type": "stream",
     "text": [
      "Count of policies (number of rows in the dataset): 267\n"
     ]
    }
   ],
   "source": [
    "policies = df.policy_path.unique()\n",
    "# sanity-check: we removed duplicates so this should be the same\n",
    "assert len(df) == len(policies)\n",
    "print(\"Count of policies (number of rows in the dataset): {}\".format(len(df)))"
   ]
  },
  {
   "cell_type": "markdown",
   "metadata": {},
   "source": [
    "How many policies per company?"
   ]
  },
  {
   "cell_type": "code",
   "execution_count": 6,
   "metadata": {},
   "outputs": [
    {
     "data": {
      "image/png": "[encoded data removed]",
      "text/plain": [
       "<Figure size 864x360 with 1 Axes>"
      ]
     },
     "metadata": {
      "needs_background": "light"
     },
     "output_type": "display_data"
    }
   ],
   "source": [
    "grouped = df.groupby('company').policy_path.count()\n",
    "_ = grouped.plot.bar(title='Privacy Policy Revisions by Company', figsize=(12, 5))"
   ]
  },
  {
   "cell_type": "markdown",
   "metadata": {},
   "source": [
    "What date range do the policies cover?"
   ]
  },
  {
   "cell_type": "code",
   "execution_count": 7,
   "metadata": {},
   "outputs": [
    {
     "name": "stdout",
     "output_type": "stream",
     "text": [
      "Oldest policy: 1999-06-09\n",
      "Most recent policy: 2019-01-22\n"
     ]
    }
   ],
   "source": [
    "print('Oldest policy: {}'.format(min(df.policy_date).strftime('%Y-%m-%d')))\n",
    "print('Most recent policy: {}'.format(max(df.policy_date).strftime('%Y-%m-%d')))"
   ]
  },
  {
   "cell_type": "markdown",
   "metadata": {},
   "source": [
    "How many policies by year?"
   ]
  },
  {
   "cell_type": "code",
   "execution_count": 8,
   "metadata": {},
   "outputs": [
    {
     "data": {
      "image/png": "[encoded data removed]",
      "text/plain": [
       "<Figure size 864x360 with 1 Axes>"
      ]
     },
     "metadata": {
      "needs_background": "light"
     },
     "output_type": "display_data"
    }
   ],
   "source": [
    "grouped = df.groupby([df.policy_date.dt.year]).policy_path.count()\n",
    "_ = grouped.plot.bar(title='Privacy Policy Revisions by Year (All Companies)', figsize=(12, 5))"
   ]
  },
  {
   "cell_type": "markdown",
   "metadata": {},
   "source": [
    "## The Privacy Policies\n",
    "\n",
    "Now let's explore the policies themselves. We'll start by pulling all of the policy text into the dataframe, and then running some pandas cmds to gather metadata about the texts."
   ]
  },
  {
   "cell_type": "code",
   "execution_count": 9,
   "metadata": {},
   "outputs": [],
   "source": [
    "def get_policy_text(row):\n",
    "    \"\"\"\n",
    "    Creates a pd.Series of full text from policies\n",
    "\n",
    "    Args:\n",
    "        row: pd.Series, row of policy index dataframe\n",
    "        \n",
    "    Returns:\n",
    "        pd.Series, a new row with 'policy_text' col\n",
    "    \"\"\"\n",
    "    page = ''\n",
    "    with open(os.path.join(POLICY_DIR, row['policy_path']), 'r', encoding='utf-8') as f:\n",
    "        page = f.read()\n",
    "    row['policy_text'] = page\n",
    "    return row"
   ]
  },
  {
   "cell_type": "markdown",
   "metadata": {},
   "source": [
    "Looking inside again shows the same as before with the addition of the new text column"
   ]
  },
  {
   "cell_type": "code",
   "execution_count": 10,
   "metadata": {},
   "outputs": [
    {
     "data": {
      "text/html": [
       "<div>\n",
       "<style scoped>\n",
       "    .dataframe tbody tr th:only-of-type {\n",
       "        vertical-align: middle;\n",
       "    }\n",
       "\n",
       "    .dataframe tbody tr th {\n",
       "        vertical-align: top;\n",
       "    }\n",
       "\n",
       "    .dataframe thead th {\n",
       "        text-align: right;\n",
       "    }\n",
       "</style>\n",
       "<table border=\"1\" class=\"dataframe\">\n",
       "  <thead>\n",
       "    <tr style=\"text-align: right;\">\n",
       "      <th></th>\n",
       "      <th>company</th>\n",
       "      <th>policy_date</th>\n",
       "      <th>policy_url</th>\n",
       "      <th>policy_path</th>\n",
       "      <th>company_id</th>\n",
       "      <th>policy_text</th>\n",
       "    </tr>\n",
       "  </thead>\n",
       "  <tbody>\n",
       "    <tr>\n",
       "      <th>255</th>\n",
       "      <td>uber</td>\n",
       "      <td>2013-07-13</td>\n",
       "      <td>http://web.archive.org/web/20140122053622/http...</td>\n",
       "      <td>uber/uber-2013-07-13.txt</td>\n",
       "      <td>17</td>\n",
       "      <td>\\nYou are using an outdated browser. Please up...</td>\n",
       "    </tr>\n",
       "    <tr>\n",
       "      <th>47</th>\n",
       "      <td>cisco</td>\n",
       "      <td>2010-03-31</td>\n",
       "      <td>http://web.archive.org/web/20100404015546/http...</td>\n",
       "      <td>cisco/cisco-2010-03-31.txt</td>\n",
       "      <td>3</td>\n",
       "      <td>\\nHome |\\nSkip to Content |\\nSkip to Navigatio...</td>\n",
       "    </tr>\n",
       "    <tr>\n",
       "      <th>88</th>\n",
       "      <td>fitbit</td>\n",
       "      <td>2014-12-09</td>\n",
       "      <td>http://web.archive.org/web/20150103022306/http...</td>\n",
       "      <td>fitbit/fitbit-2014-12-09.txt</td>\n",
       "      <td>5</td>\n",
       "      <td>\\nFitbit\\nProducts\\nEveryday\\nFitbit Zip®\\nFit...</td>\n",
       "    </tr>\n",
       "    <tr>\n",
       "      <th>306</th>\n",
       "      <td>washingtonpost</td>\n",
       "      <td>2017-06-16</td>\n",
       "      <td>http://web.archive.org/web/20170630231159/http...</td>\n",
       "      <td>washingtonpost/washingtonpost-2017-06-16.txt</td>\n",
       "      <td>20</td>\n",
       "      <td>2 Desktop notifications are on &amp;nbsp; | Turn ...</td>\n",
       "    </tr>\n",
       "    <tr>\n",
       "      <th>225</th>\n",
       "      <td>target</td>\n",
       "      <td>2011-04-08</td>\n",
       "      <td>http://web.archive.org/web/20110502151207/http...</td>\n",
       "      <td>target/target-2011-04-08.txt</td>\n",
       "      <td>15</td>\n",
       "      <td>\\n&lt;!----&gt;\\nTarget.com Home Page\\nSearch\\nFind ...</td>\n",
       "    </tr>\n",
       "    <tr>\n",
       "      <th>66</th>\n",
       "      <td>facebook</td>\n",
       "      <td>2007-05-24</td>\n",
       "      <td>http://web.archive.org/web/20070630042429/http...</td>\n",
       "      <td>facebook/facebook-2007-05-24.txt</td>\n",
       "      <td>4</td>\n",
       "      <td>\\nEmail:\\nPassword:\\nForgot Password?\\nRegiste...</td>\n",
       "    </tr>\n",
       "    <tr>\n",
       "      <th>61</th>\n",
       "      <td>facebook</td>\n",
       "      <td>2005-06-28</td>\n",
       "      <td>http://web.archive.org/web/20060222121022/http...</td>\n",
       "      <td>facebook/facebook-2005-06-28.txt</td>\n",
       "      <td>4</td>\n",
       "      <td>\\nFacebook\\nlogin\\nregisterhelp\\nE-mail:\\nPass...</td>\n",
       "    </tr>\n",
       "    <tr>\n",
       "      <th>176</th>\n",
       "      <td>nytimes</td>\n",
       "      <td>2011-02-18</td>\n",
       "      <td>http://web.archive.org/web/20110225085514/http...</td>\n",
       "      <td>nytimes/nytimes-2011-02-18.txt</td>\n",
       "      <td>11</td>\n",
       "      <td>\\nHelp &amp;gt; Permissions and Policies &amp;gt; Priv...</td>\n",
       "    </tr>\n",
       "    <tr>\n",
       "      <th>308</th>\n",
       "      <td>washingtonpost</td>\n",
       "      <td>2018-04-24</td>\n",
       "      <td>http://web.archive.org/web/20180430164905/http...</td>\n",
       "      <td>washingtonpost/washingtonpost-2018-04-24.txt</td>\n",
       "      <td>20</td>\n",
       "      <td>&lt;!-- Democracy Dies in Darkness Sections Home...</td>\n",
       "    </tr>\n",
       "    <tr>\n",
       "      <th>57</th>\n",
       "      <td>cisco</td>\n",
       "      <td>2016-09-28</td>\n",
       "      <td>http://web.archive.org/web/20161119010545/http...</td>\n",
       "      <td>cisco/cisco-2016-09-28.txt</td>\n",
       "      <td>3</td>\n",
       "      <td>\\nHome Skip to content Skip to navigation Skip...</td>\n",
       "    </tr>\n",
       "  </tbody>\n",
       "</table>\n",
       "</div>"
      ],
      "text/plain": [
       "            company policy_date  \\\n",
       "255            uber  2013-07-13   \n",
       "47            cisco  2010-03-31   \n",
       "88           fitbit  2014-12-09   \n",
       "306  washingtonpost  2017-06-16   \n",
       "225          target  2011-04-08   \n",
       "66         facebook  2007-05-24   \n",
       "61         facebook  2005-06-28   \n",
       "176         nytimes  2011-02-18   \n",
       "308  washingtonpost  2018-04-24   \n",
       "57            cisco  2016-09-28   \n",
       "\n",
       "                                            policy_url  \\\n",
       "255  http://web.archive.org/web/20140122053622/http...   \n",
       "47   http://web.archive.org/web/20100404015546/http...   \n",
       "88   http://web.archive.org/web/20150103022306/http...   \n",
       "306  http://web.archive.org/web/20170630231159/http...   \n",
       "225  http://web.archive.org/web/20110502151207/http...   \n",
       "66   http://web.archive.org/web/20070630042429/http...   \n",
       "61   http://web.archive.org/web/20060222121022/http...   \n",
       "176  http://web.archive.org/web/20110225085514/http...   \n",
       "308  http://web.archive.org/web/20180430164905/http...   \n",
       "57   http://web.archive.org/web/20161119010545/http...   \n",
       "\n",
       "                                      policy_path  company_id  \\\n",
       "255                      uber/uber-2013-07-13.txt          17   \n",
       "47                     cisco/cisco-2010-03-31.txt           3   \n",
       "88                   fitbit/fitbit-2014-12-09.txt           5   \n",
       "306  washingtonpost/washingtonpost-2017-06-16.txt          20   \n",
       "225                  target/target-2011-04-08.txt          15   \n",
       "66               facebook/facebook-2007-05-24.txt           4   \n",
       "61               facebook/facebook-2005-06-28.txt           4   \n",
       "176                nytimes/nytimes-2011-02-18.txt          11   \n",
       "308  washingtonpost/washingtonpost-2018-04-24.txt          20   \n",
       "57                     cisco/cisco-2016-09-28.txt           3   \n",
       "\n",
       "                                           policy_text  \n",
       "255  \\nYou are using an outdated browser. Please up...  \n",
       "47   \\nHome |\\nSkip to Content |\\nSkip to Navigatio...  \n",
       "88   \\nFitbit\\nProducts\\nEveryday\\nFitbit Zip®\\nFit...  \n",
       "306   2 Desktop notifications are on &nbsp; | Turn ...  \n",
       "225  \\n<!---->\\nTarget.com Home Page\\nSearch\\nFind ...  \n",
       "66   \\nEmail:\\nPassword:\\nForgot Password?\\nRegiste...  \n",
       "61   \\nFacebook\\nlogin\\nregisterhelp\\nE-mail:\\nPass...  \n",
       "176  \\nHelp &gt; Permissions and Policies &gt; Priv...  \n",
       "308   <!-- Democracy Dies in Darkness Sections Home...  \n",
       "57   \\nHome Skip to content Skip to navigation Skip...  "
      ]
     },
     "execution_count": 10,
     "metadata": {},
     "output_type": "execute_result"
    }
   ],
   "source": [
    "df = df.apply(get_policy_text, axis=1)\n",
    "df.sample(n=10)"
   ]
  },
  {
   "cell_type": "markdown",
   "metadata": {},
   "source": [
    "How many total words?"
   ]
  },
  {
   "cell_type": "code",
   "execution_count": 11,
   "metadata": {},
   "outputs": [
    {
     "name": "stdout",
     "output_type": "stream",
     "text": [
      "Total words: 5849719\n",
      "Total occurences of \"privacy\": 7601\n",
      "Total occurences of \"data\": 3756\n",
      "Total occurences of \"personal information\": 5088\n"
     ]
    }
   ],
   "source": [
    "print('Total words: {}'.format(df.policy_text.str.len().sum()))\n",
    "print('Total occurences of \"privacy\": {}'.format(df.policy_text.str.count('privacy', flags=re.IGNORECASE).sum()))\n",
    "print('Total occurences of \"data\": {}'.format(df.policy_text.str.count('data', flags=re.IGNORECASE).sum()))\n",
    "print('Total occurences of \"personal information\": {}'.format(df.policy_text.str.count('personal information', flags=re.IGNORECASE).sum()))"
   ]
  },
  {
   "cell_type": "markdown",
   "metadata": {},
   "source": [
    "How many words per company?\n",
    "\n",
    "Warning: this might be slightly biased based on how long countries have been operating.\n",
    "Warning: this is biased by number of revisions"
   ]
  },
  {
   "cell_type": "code",
   "execution_count": 12,
   "metadata": {},
   "outputs": [
    {
     "data": {
      "image/png": "[encoded data removed]",
      "text/plain": [
       "<Figure size 864x504 with 1 Axes>"
      ]
     },
     "metadata": {
      "needs_background": "light"
     },
     "output_type": "display_data"
    }
   ],
   "source": [
    "df_tmp = df.copy()\n",
    "df_tmp['policy_len'] = df_tmp.policy_text.str.len()\n",
    "grouped = df_tmp.groupby('company').policy_len.sum()\n",
    "_ = grouped.plot.bar(title='Word Count of Privacy Policies by Company', figsize=(12, 7))"
   ]
  },
  {
   "cell_type": "markdown",
   "metadata": {},
   "source": [
    "## Key Privacy Event Analysis\n",
    "\n",
    "In the following sections, we investigate the impact that certain key legislative and popular events had on the privacy policies at large. We do this with a heatmap-derived visualization that shows us when certain terminology enters the vernacular of the policies per company."
   ]
  },
  {
   "cell_type": "code",
   "execution_count": 13,
   "metadata": {},
   "outputs": [],
   "source": [
    "def prepare_heatmap_data(data, ycol, xcol, valuecol):\n",
    "    \"\"\"\n",
    "    There has to be a better way to do this... but I procrastinated :)\n",
    "    \n",
    "    1. Pivot data and extend a policy's np.nan/0/1 up unto the next policy revision\n",
    "       (originally, companies would have a 1 in the months where there were revisions\n",
    "        followed by a string of np.nans and another 1 at the next revision)\n",
    "    2. Fill the gaps between policy revision columns; create a new col for each\n",
    "       year-month pair between the first and last policies in the dataset and extend\n",
    "       between cols as before\n",
    "    3. Rebuild new, complete dataframe\n",
    "    \"\"\"\n",
    "    ### 1\n",
    "    result = data.pivot(index=ycol, columns=xcol, values=valuecol)\n",
    "    for i1, row in result.transpose().iteritems():\n",
    "        last = np.nan\n",
    "        for i2, value in row.iteritems():\n",
    "            if np.isnan(value):\n",
    "                # set it equal to last value\n",
    "                value = last\n",
    "            result.at[i1, i2] = value\n",
    "            last = value\n",
    "\n",
    "    ### 2\n",
    "    min_date = result.columns.min()\n",
    "    max_date = result.columns.max()\n",
    "    companies = result.index\n",
    "\n",
    "    last = None\n",
    "    dates = defaultdict(lambda: defaultdict(lambda: defaultdict(int)))\n",
    "    for year in range(min_date.year, max_date.year + 1):\n",
    "        for month in range(1, 13):\n",
    "            # create name of new col\n",
    "            ym = date(year=year, month=month, day=1).strftime('%Y-%m')\n",
    "            # get all old cols (y-m-d) that will need to be combined into this col\n",
    "            col_matches = [x for x in result.columns if ym in str(x)]\n",
    "            # if there are no revisions in this y-m, then just reuse last month's data\n",
    "            if last and len(col_matches) == 0:\n",
    "                col_matches = last\n",
    "            # set data\n",
    "            for col in col_matches:\n",
    "                for company in companies:\n",
    "                    dates[year][month][company] = result.at[company, col]\n",
    "            last = col_matches\n",
    "\n",
    "    ### 3\n",
    "    new = pd.DataFrame(index=result.index)\n",
    "    for year, months in dates.items():\n",
    "        for month, companies in months.items():\n",
    "            # new col\n",
    "            ym = date(year=year, month=month, day=1).strftime('%Y-%m')\n",
    "            for company, val in companies.items():\n",
    "                if ym not in new.columns:\n",
    "                    # create new col with np.nan\n",
    "                    new[ym] = pd.Series([np.nan] * len(new.index))\n",
    "                # set value\n",
    "                new.at[company, ym] = val\n",
    "\n",
    "    return new"
   ]
  },
  {
   "cell_type": "code",
   "execution_count": 14,
   "metadata": {},
   "outputs": [],
   "source": [
    "def policy_heatmap(data, title):\n",
    "    # init plot\n",
    "    fig, ax = plt.subplots(figsize=(12, 5))\n",
    "    ax.set_title(title)\n",
    "\n",
    "    # prepare mask for null values when a company does not yet have a published privacy policy\n",
    "    mask = np.zeros_like(result)\n",
    "    mask[np.isnan(result)] = True\n",
    "\n",
    "    # do plot\n",
    "    # https://stackoverflow.com/questions/37790429/seaborn-heatmap-using-pandas-dataframe\n",
    "    sp = sns.heatmap(data, ax=ax, fmt=\"g\", cmap=sns.color_palette(\"RdBu\", 7), mask=mask, cbar=False)\n",
    "\n",
    "    # format and space xticks\n",
    "    xlocs, xlabels = plt.xticks()\n",
    "    #print(list(zip(xlocs, xlabels)))\n",
    "    for i, x in enumerate(xlabels):\n",
    "        text = ''\n",
    "        if i % 6 == 0:\n",
    "            text = x._text[:x._text.find('T')]\n",
    "        xlabels[i]._text = text\n",
    "    _ = ax.set_xticklabels(xlabels)    \n",
    "    fig.autofmt_xdate()\n",
    "    \n",
    "    return ax"
   ]
  },
  {
   "cell_type": "code",
   "execution_count": 15,
   "metadata": {},
   "outputs": [],
   "source": [
    "def review_regex_matches(data, filter_col, filter_key, buffer=20):\n",
    "    return data[data[filter_col] == 1].policy_text.str.extract(\n",
    "        '(.{0,' + str(buffer) + '}' + str(filter_key) + '.{0,' + str(buffer) + '})', flags=re.IGNORECASE|re.DOTALL)"
   ]
  },
  {
   "cell_type": "code",
   "execution_count": 16,
   "metadata": {},
   "outputs": [],
   "source": [
    "def key_match_data(data, filter_key):\n",
    "    df_copy = data.copy()\n",
    "    filter_col = 'mentions_{}'.format(filter_key)\n",
    "    # https://chrisalbon.com/python/data_wrangling/pandas_create_column_using_conditional/\n",
    "    df_copy[filter_col] = np.where(df_copy.policy_text.str.contains(filter_key, flags=re.IGNORECASE), 1, 0)\n",
    "    print('{} / {} policies mention {}'.format(len(df_copy[df_copy[filter_col] == 1]), len(df_copy), filter_key))\n",
    "    return df_copy, filter_col"
   ]
  },
  {
   "cell_type": "markdown",
   "metadata": {},
   "source": [
    "### Children's Online Privacy Protection Act (COPPA)\n",
    "\n",
    "From [Wikipedia](https://en.wikipedia.org/wiki/Children%27s_Online_Privacy_Protection_Act):\n",
    "\n",
    "   \"The act, effective April 21, 2000, applies to the online collection of personal information by persons or entities under\n",
    "   U.S. jurisdiction about children under 13 years of age or children with disabilities. **It details what a website\n",
    "   operator must include in a privacy policy**, when and how to seek verifiable consent from a parent or guardian, and what\n",
    "   responsibilities an operator has to protect children's privacy and safety online including restrictions on the marketing\n",
    "   of those under 13.\"\n",
    "\n",
    "Based on the above, we should expect to see privacy policies mention their practices with children's data starting in April of 2000."
   ]
  },
  {
   "cell_type": "code",
   "execution_count": 17,
   "metadata": {},
   "outputs": [
    {
     "name": "stdout",
     "output_type": "stream",
     "text": [
      "196 / 267 policies mention children\n"
     ]
    },
    {
     "data": {
      "image/png": "[encoded data removed]",
      "text/plain": [
       "<Figure size 864x360 with 1 Axes>"
      ]
     },
     "metadata": {
      "needs_background": "light"
     },
     "output_type": "display_data"
    }
   ],
   "source": [
    "coppa, filter_col = key_match_data(df, 'children')\n",
    "result = prepare_heatmap_data(coppa, 'company', 'policy_date', filter_col)\n",
    "ax = policy_heatmap(result, 'Reference of \"Children\" in Privacy Policy')\n",
    "# add vertical line for coppa\n",
    "_ = ax.vlines(11, .8, 20, color='purple')\n",
    "_ = plt.text(6, 0.5, 'April 21, 2000: COPPA Begins', color='purple', fontsize=12)"
   ]
  },
  {
   "cell_type": "markdown",
   "metadata": {},
   "source": [
    "Double-checking that our matches are reasonable"
   ]
  },
  {
   "cell_type": "code",
   "execution_count": 18,
   "metadata": {},
   "outputs": [
    {
     "data": {
      "text/html": [
       "<div>\n",
       "<style scoped>\n",
       "    .dataframe tbody tr th:only-of-type {\n",
       "        vertical-align: middle;\n",
       "    }\n",
       "\n",
       "    .dataframe tbody tr th {\n",
       "        vertical-align: top;\n",
       "    }\n",
       "\n",
       "    .dataframe thead th {\n",
       "        text-align: right;\n",
       "    }\n",
       "</style>\n",
       "<table border=\"1\" class=\"dataframe\">\n",
       "  <thead>\n",
       "    <tr style=\"text-align: right;\">\n",
       "      <th></th>\n",
       "      <th>0</th>\n",
       "    </tr>\n",
       "  </thead>\n",
       "  <tbody>\n",
       "    <tr>\n",
       "      <th>18</th>\n",
       "      <td>ices Do I Have?\\nAre Children Allowed to Use Amaz</td>\n",
       "    </tr>\n",
       "    <tr>\n",
       "      <th>68</th>\n",
       "      <td>n the United States.Children Under Age 13Faceboo</td>\n",
       "    </tr>\n",
       "    <tr>\n",
       "      <th>94</th>\n",
       "      <td>in services to you.\\nChildren's Privacy\\nProte...</td>\n",
       "    </tr>\n",
       "    <tr>\n",
       "      <th>73</th>\n",
       "      <td>No information from children under age 13. If yo</td>\n",
       "    </tr>\n",
       "    <tr>\n",
       "      <th>67</th>\n",
       "      <td>the United States.\\nChildren Under Age 13\\nFa...</td>\n",
       "    </tr>\n",
       "    <tr>\n",
       "      <th>220</th>\n",
       "      <td>his privacy policy.\\nChildren\\nWe recognize th...</td>\n",
       "    </tr>\n",
       "    <tr>\n",
       "      <th>186</th>\n",
       "      <td>With Legal Process\\nChildren's Guidelines\\nYo...</td>\n",
       "    </tr>\n",
       "    <tr>\n",
       "      <th>188</th>\n",
       "      <td>With Legal Process\\nChildren's Guidelines\\nYo...</td>\n",
       "    </tr>\n",
       "    <tr>\n",
       "      <th>234</th>\n",
       "      <td>ormation Protected?\\tChildren’s Personal Informat</td>\n",
       "    </tr>\n",
       "    <tr>\n",
       "      <th>284</th>\n",
       "      <td>l information about children under the age of 13</td>\n",
       "    </tr>\n",
       "  </tbody>\n",
       "</table>\n",
       "</div>"
      ],
      "text/plain": [
       "                                                     0\n",
       "18   ices Do I Have?\\nAre Children Allowed to Use Amaz\n",
       "68    n the United States.Children Under Age 13Faceboo\n",
       "94   in services to you.\\nChildren's Privacy\\nProte...\n",
       "73    No information from children under age 13. If yo\n",
       "67    the United States.\\nChildren Under Age 13\\nFa...\n",
       "220  his privacy policy.\\nChildren\\nWe recognize th...\n",
       "186   With Legal Process\\nChildren's Guidelines\\nYo...\n",
       "188   With Legal Process\\nChildren's Guidelines\\nYo...\n",
       "234  ormation Protected?\\tChildren’s Personal Informat\n",
       "284   l information about children under the age of 13"
      ]
     },
     "execution_count": 18,
     "metadata": {},
     "output_type": "execute_result"
    }
   ],
   "source": [
    "review_regex_matches(coppa, 'mentions_children', 'children').sample(n=10)"
   ]
  },
  {
   "cell_type": "markdown",
   "metadata": {},
   "source": [
    "## International Safe Harbor Privacy Principles\n",
    "\n",
    "From [Wikipedia](https://en.wikipedia.org/wiki/International_Safe_Harbor_Privacy_Principles),\n",
    "\n",
    "\"The International Safe Harbor Privacy Principles or Safe Harbour Privacy Principles were principles **developed between 1998 and 2000** in order to prevent private organizations within the European Union or United States which store customer data from accidentally disclosing or losing personal information. **They were overturned on October 6, 2015 by the European Court of Justice (ECJ)**, which enabled some US companies to comply with privacy laws protecting European Union and Swiss citizens. US companies storing customer data could self-certify that they adhered to 7 principles, to comply with the EU Data Protection Directive and with Swiss requirements. The US Department of Commerce developed privacy frameworks in conjunction with both the European Union and the Federal Data Protection and Information Commissioner of Switzerland.\"\n",
    "\n",
    "Let's see if \"Safe Harbor\" begins to disappear from policies around the year 2015."
   ]
  },
  {
   "cell_type": "code",
   "execution_count": 19,
   "metadata": {},
   "outputs": [
    {
     "name": "stdout",
     "output_type": "stream",
     "text": [
      "75 / 267 policies mention safe\\s*harbor\n"
     ]
    },
    {
     "data": {
      "image/png": "[encoded data removed]",
      "text/plain": [
       "<Figure size 864x360 with 1 Axes>"
      ]
     },
     "metadata": {
      "needs_background": "light"
     },
     "output_type": "display_data"
    }
   ],
   "source": [
    "safeharbor, filter_col = key_match_data(df, 'safe\\s*harbor')\n",
    "result = prepare_heatmap_data(safeharbor, 'company', 'policy_date', filter_col)\n",
    "result.head()\n",
    "ax = policy_heatmap(result, 'Reference of \"Safe Harbor\" in Privacy Policy')\n",
    "# add vertical line for safe harbor\n",
    "_ = ax.vlines(208, .8, 20, color='purple')\n",
    "_ = plt.text(140, 0.5, 'Oct 6, 2015: Safe Harbor Ends', color='purple', fontsize=12)"
   ]
  },
  {
   "cell_type": "code",
   "execution_count": 20,
   "metadata": {},
   "outputs": [
    {
     "data": {
      "text/html": [
       "<div>\n",
       "<style scoped>\n",
       "    .dataframe tbody tr th:only-of-type {\n",
       "        vertical-align: middle;\n",
       "    }\n",
       "\n",
       "    .dataframe tbody tr th {\n",
       "        vertical-align: top;\n",
       "    }\n",
       "\n",
       "    .dataframe thead th {\n",
       "        text-align: right;\n",
       "    }\n",
       "</style>\n",
       "<table border=\"1\" class=\"dataframe\">\n",
       "  <thead>\n",
       "    <tr style=\"text-align: right;\">\n",
       "      <th></th>\n",
       "      <th>0</th>\n",
       "    </tr>\n",
       "  </thead>\n",
       "  <tbody>\n",
       "    <tr>\n",
       "      <th>55</th>\n",
       "      <td>under the U.S.-E.U. Safe Harbor framework and ...</td>\n",
       "    </tr>\n",
       "    <tr>\n",
       "      <th>128</th>\n",
       "      <td>ly with the U.S.-EU Safe Harbor Framework and ...</td>\n",
       "    </tr>\n",
       "    <tr>\n",
       "      <th>66</th>\n",
       "      <td>ve your concerns.EU Safe Harbor Participation\\...</td>\n",
       "    </tr>\n",
       "    <tr>\n",
       "      <th>247</th>\n",
       "      <td>and teens here.\\nEU Safe Harbor Framework\\nTw...</td>\n",
       "    </tr>\n",
       "    <tr>\n",
       "      <th>132</th>\n",
       "      <td>ly with the U.S.-EU Safe Harbor Framework and ...</td>\n",
       "    </tr>\n",
       "    <tr>\n",
       "      <th>69</th>\n",
       "      <td>ve your concerns.EU Safe Harbor ParticipationW...</td>\n",
       "    </tr>\n",
       "    <tr>\n",
       "      <th>246</th>\n",
       "      <td>and teens here.\\nEU Safe Harbor Framework\\nTw...</td>\n",
       "    </tr>\n",
       "    <tr>\n",
       "      <th>57</th>\n",
       "      <td>ommission.\\nSwiss-US Safe Harbor Certification...</td>\n",
       "    </tr>\n",
       "    <tr>\n",
       "      <th>272</th>\n",
       "      <td>rivacy Policy--&gt;\\nEU Safe Harbor\\nVerizon Part...</td>\n",
       "    </tr>\n",
       "    <tr>\n",
       "      <th>138</th>\n",
       "      <td>ly with the U.S.-EU Safe Harbor Framework and ...</td>\n",
       "    </tr>\n",
       "  </tbody>\n",
       "</table>\n",
       "</div>"
      ],
      "text/plain": [
       "                                                     0\n",
       "55   under the U.S.-E.U. Safe Harbor framework and ...\n",
       "128  ly with the U.S.-EU Safe Harbor Framework and ...\n",
       "66   ve your concerns.EU Safe Harbor Participation\\...\n",
       "247   and teens here.\\nEU Safe Harbor Framework\\nTw...\n",
       "132  ly with the U.S.-EU Safe Harbor Framework and ...\n",
       "69   ve your concerns.EU Safe Harbor ParticipationW...\n",
       "246   and teens here.\\nEU Safe Harbor Framework\\nTw...\n",
       "57   ommission.\\nSwiss-US Safe Harbor Certification...\n",
       "272  rivacy Policy-->\\nEU Safe Harbor\\nVerizon Part...\n",
       "138  ly with the U.S.-EU Safe Harbor Framework and ..."
      ]
     },
     "execution_count": 20,
     "metadata": {},
     "output_type": "execute_result"
    }
   ],
   "source": [
    "review_regex_matches(safeharbor, filter_col, 'safe\\s*harbor').sample(n=10)"
   ]
  },
  {
   "cell_type": "markdown",
   "metadata": {},
   "source": [
    "### EU-US Privacy Shield\n",
    "\n",
    "From Wikipedia,\n",
    "\n",
    "\"In October 2015 the European Court of Justice declared the previous framework called the International Safe Harbor Privacy Principles invalid. Soon after this decision the European Commission and the U.S. Government started talks about a new framework and **on February 2, 2016 they reached a political agreement**. The European Commission published the 'adequacy decision' draft, declaring principles to be equivalent to the protections offered by EU law.\"\n",
    "\n",
    "As we observed, references to \"Safe Harbor\" begin to disappear after 2015 to be replaced by this EU-US Privacy Shield, but how many websites complied?"
   ]
  },
  {
   "cell_type": "code",
   "execution_count": 21,
   "metadata": {},
   "outputs": [
    {
     "name": "stdout",
     "output_type": "stream",
     "text": [
      "29 / 267 policies mention shield\n"
     ]
    },
    {
     "data": {
      "image/png": "[encoded data removed]",
      "text/plain": [
       "<Figure size 864x360 with 1 Axes>"
      ]
     },
     "metadata": {
      "needs_background": "light"
     },
     "output_type": "display_data"
    }
   ],
   "source": [
    "shield, filter_col = key_match_data(df, 'shield')\n",
    "result = prepare_heatmap_data(shield, 'company', 'policy_date', filter_col)\n",
    "result.head()\n",
    "ax = policy_heatmap(result, 'Reference of \"Shield\" in Privacy Policy')\n",
    "# add vertical line for coppa\n",
    "_ = ax.vlines(202, .8, 20, color='purple')\n",
    "_ = plt.text(113, 0.5, 'Feb 2, 2016: EU-US Privacy Shield Begins', color='purple', fontsize=12)"
   ]
  },
  {
   "cell_type": "code",
   "execution_count": 22,
   "metadata": {},
   "outputs": [
    {
     "data": {
      "text/html": [
       "<div>\n",
       "<style scoped>\n",
       "    .dataframe tbody tr th:only-of-type {\n",
       "        vertical-align: middle;\n",
       "    }\n",
       "\n",
       "    .dataframe tbody tr th {\n",
       "        vertical-align: top;\n",
       "    }\n",
       "\n",
       "    .dataframe thead th {\n",
       "        text-align: right;\n",
       "    }\n",
       "</style>\n",
       "<table border=\"1\" class=\"dataframe\">\n",
       "  <thead>\n",
       "    <tr style=\"text-align: right;\">\n",
       "      <th></th>\n",
       "      <th>0</th>\n",
       "    </tr>\n",
       "  </thead>\n",
       "  <tbody>\n",
       "    <tr>\n",
       "      <th>121</th>\n",
       "      <td>nd Swiss-US Privacy Shield Frameworks. When we</td>\n",
       "    </tr>\n",
       "    <tr>\n",
       "      <th>140</th>\n",
       "      <td>wiss - U.S. Privacy Shield Frameworks and comp</td>\n",
       "    </tr>\n",
       "    <tr>\n",
       "      <th>118</th>\n",
       "      <td>g the EU-US Privacy Shield Framework. When we</td>\n",
       "    </tr>\n",
       "    <tr>\n",
       "      <th>309</th>\n",
       "      <td>rvices. Our Privacy Shield Policy governs use</td>\n",
       "    </tr>\n",
       "    <tr>\n",
       "      <th>60</th>\n",
       "      <td>nd Swiss-US Privacy Shields\\nCisco participates</td>\n",
       "    </tr>\n",
       "    <tr>\n",
       "      <th>92</th>\n",
       "      <td>nd Swiss-US Privacy Shield, and EU Commission</td>\n",
       "    </tr>\n",
       "    <tr>\n",
       "      <th>5</th>\n",
       "      <td>a U.S.-E.U. Privacy Shield Framework. See http</td>\n",
       "    </tr>\n",
       "    <tr>\n",
       "      <th>17</th>\n",
       "      <td>.com?\\nEU-US Privacy Shield\\nConditions of Use,</td>\n",
       "    </tr>\n",
       "    <tr>\n",
       "      <th>120</th>\n",
       "      <td>nd Swiss-US Privacy Shield Frameworks. When we</td>\n",
       "    </tr>\n",
       "    <tr>\n",
       "      <th>141</th>\n",
       "      <td>wiss - U.S. Privacy Shield Frameworks and comp</td>\n",
       "    </tr>\n",
       "  </tbody>\n",
       "</table>\n",
       "</div>"
      ],
      "text/plain": [
       "                                                    0\n",
       "121    nd Swiss-US Privacy Shield Frameworks. When we\n",
       "140    wiss - U.S. Privacy Shield Frameworks and comp\n",
       "118    g the EU-US Privacy Shield Framework. When we \n",
       "309    rvices. Our Privacy Shield Policy governs use \n",
       "60    nd Swiss-US Privacy Shields\\nCisco participates\n",
       "92     nd Swiss-US Privacy Shield, and EU Commission \n",
       "5      a U.S.-E.U. Privacy Shield Framework. See http\n",
       "17   .com?\\nEU-US Privacy Shield\\nConditions of Use, \n",
       "120    nd Swiss-US Privacy Shield Frameworks. When we\n",
       "141    wiss - U.S. Privacy Shield Frameworks and comp"
      ]
     },
     "execution_count": 22,
     "metadata": {},
     "output_type": "execute_result"
    }
   ],
   "source": [
    "review_regex_matches(shield, filter_col, 'shield').sample(n=10)"
   ]
  },
  {
   "cell_type": "markdown",
   "metadata": {},
   "source": [
    "### Popularity of \"Personal Information\""
   ]
  },
  {
   "cell_type": "code",
   "execution_count": 23,
   "metadata": {},
   "outputs": [
    {
     "name": "stdout",
     "output_type": "stream",
     "text": [
      "252 / 267 policies mention personal\\s*information\n"
     ]
    },
    {
     "data": {
      "image/png": "[encoded data removed]",
      "text/plain": [
       "<Figure size 864x360 with 1 Axes>"
      ]
     },
     "metadata": {
      "needs_background": "light"
     },
     "output_type": "display_data"
    }
   ],
   "source": [
    "personalinfo, filter_col = key_match_data(df, 'personal\\s*information')\n",
    "result = prepare_heatmap_data(personalinfo, 'company', 'policy_date', filter_col)\n",
    "result.head()\n",
    "ax = policy_heatmap(result, 'Reference of \"Personal Information\" in Privacy Policy')\n",
    "# add vertical line for coppa\n",
    "#_ = ax.vlines(180, .8, 20, color='purple')\n",
    "#_ = plt.text(100, 0.5, 'Feb 2, 2016: EU-US Privacy Shield Begins', color='purple', fontsize=12)"
   ]
  },
  {
   "cell_type": "code",
   "execution_count": 24,
   "metadata": {},
   "outputs": [
    {
     "data": {
      "text/html": [
       "<div>\n",
       "<style scoped>\n",
       "    .dataframe tbody tr th:only-of-type {\n",
       "        vertical-align: middle;\n",
       "    }\n",
       "\n",
       "    .dataframe tbody tr th {\n",
       "        vertical-align: top;\n",
       "    }\n",
       "\n",
       "    .dataframe thead th {\n",
       "        text-align: right;\n",
       "    }\n",
       "</style>\n",
       "<table border=\"1\" class=\"dataframe\">\n",
       "  <thead>\n",
       "    <tr style=\"text-align: right;\">\n",
       "      <th></th>\n",
       "      <th>0</th>\n",
       "    </tr>\n",
       "  </thead>\n",
       "  <tbody>\n",
       "    <tr>\n",
       "      <th>177</th>\n",
       "      <td>change or update my personal information?\\nHow...</td>\n",
       "    </tr>\n",
       "    <tr>\n",
       "      <th>136</th>\n",
       "      <td>ormation We Collect\\nPersonal information such...</td>\n",
       "    </tr>\n",
       "    <tr>\n",
       "      <th>268</th>\n",
       "      <td>and fraud, collect personal information only ...</td>\n",
       "    </tr>\n",
       "    <tr>\n",
       "      <th>93</th>\n",
       "      <td>e do not share your personal information excep...</td>\n",
       "    </tr>\n",
       "    <tr>\n",
       "      <th>218</th>\n",
       "      <td>any questions.\\nYour personal information\\nSMU...</td>\n",
       "    </tr>\n",
       "    <tr>\n",
       "      <th>181</th>\n",
       "      <td>change or update my personal information?\\nHow...</td>\n",
       "    </tr>\n",
       "    <tr>\n",
       "      <th>250</th>\n",
       "      <td>rovide us with some personal information, such...</td>\n",
       "    </tr>\n",
       "    <tr>\n",
       "      <th>265</th>\n",
       "      <td>nd security of your personal information is ou...</td>\n",
       "    </tr>\n",
       "    <tr>\n",
       "      <th>153</th>\n",
       "      <td>disclosure of your personal information. As w...</td>\n",
       "    </tr>\n",
       "    <tr>\n",
       "      <th>25</th>\n",
       "      <td>, and disclosure of personal information that ...</td>\n",
       "    </tr>\n",
       "  </tbody>\n",
       "</table>\n",
       "</div>"
      ],
      "text/plain": [
       "                                                     0\n",
       "177  change or update my personal information?\\nHow...\n",
       "136  ormation We Collect\\nPersonal information such...\n",
       "268   and fraud, collect personal information only ...\n",
       "93   e do not share your personal information excep...\n",
       "218  any questions.\\nYour personal information\\nSMU...\n",
       "181  change or update my personal information?\\nHow...\n",
       "250  rovide us with some personal information, such...\n",
       "265  nd security of your personal information is ou...\n",
       "153   disclosure of your personal information. As w...\n",
       "25   , and disclosure of personal information that ..."
      ]
     },
     "execution_count": 24,
     "metadata": {},
     "output_type": "execute_result"
    }
   ],
   "source": [
    "review_regex_matches(personalinfo, filter_col, 'personal\\s*information').sample(n=10)"
   ]
  },
  {
   "cell_type": "markdown",
   "metadata": {},
   "source": [
    "### Popularity of \"Data Privacy\""
   ]
  },
  {
   "cell_type": "code",
   "execution_count": 25,
   "metadata": {},
   "outputs": [
    {
     "name": "stdout",
     "output_type": "stream",
     "text": [
      "15 / 267 policies mention data\\s*privacy\n"
     ]
    },
    {
     "data": {
      "image/png": "[encoded data removed]",
      "text/plain": [
       "<Figure size 864x360 with 1 Axes>"
      ]
     },
     "metadata": {
      "needs_background": "light"
     },
     "output_type": "display_data"
    }
   ],
   "source": [
    "dataprivacy, filter_col = key_match_data(df, 'data\\s*privacy')\n",
    "result = prepare_heatmap_data(dataprivacy, 'company', 'policy_date', filter_col)\n",
    "result.head()\n",
    "ax = policy_heatmap(result, 'Reference of \"Data Privacy\" in Privacy Policy')\n",
    "# add vertical line for filter\n",
    "#_ = ax.vlines(180, .8, 20, color='purple')\n",
    "#_ = plt.text(100, 0.5, 'Feb 2, 2016: EU-US Privacy Shield Begins', color='purple', fontsize=12)"
   ]
  },
  {
   "cell_type": "code",
   "execution_count": 26,
   "metadata": {},
   "outputs": [
    {
     "data": {
      "text/html": [
       "<div>\n",
       "<style scoped>\n",
       "    .dataframe tbody tr th:only-of-type {\n",
       "        vertical-align: middle;\n",
       "    }\n",
       "\n",
       "    .dataframe tbody tr th {\n",
       "        vertical-align: top;\n",
       "    }\n",
       "\n",
       "    .dataframe thead th {\n",
       "        text-align: right;\n",
       "    }\n",
       "</style>\n",
       "<table border=\"1\" class=\"dataframe\">\n",
       "  <thead>\n",
       "    <tr style=\"text-align: right;\">\n",
       "      <th></th>\n",
       "      <th>0</th>\n",
       "    </tr>\n",
       "  </thead>\n",
       "  <tbody>\n",
       "    <tr>\n",
       "      <th>6</th>\n",
       "      <td>otection&amp;rdquo; for data privacy of individual...</td>\n",
       "    </tr>\n",
       "    <tr>\n",
       "      <th>48</th>\n",
       "      <td>nt\\nLearn more about Data Privacy\\nPowering th...</td>\n",
       "    </tr>\n",
       "    <tr>\n",
       "      <th>45</th>\n",
       "      <td>om\\nLearn more about Data Privacy\\nPowering th...</td>\n",
       "    </tr>\n",
       "    <tr>\n",
       "      <th>88</th>\n",
       "      <td>iveRamp Advertising Data Privacy Policy explai...</td>\n",
       "    </tr>\n",
       "    <tr>\n",
       "      <th>52</th>\n",
       "      <td>SA\\nLearn more about Data Privacy\\nPowering th...</td>\n",
       "    </tr>\n",
       "    <tr>\n",
       "      <th>46</th>\n",
       "      <td>om\\nLearn more about Data Privacy\\nPowering th...</td>\n",
       "    </tr>\n",
       "    <tr>\n",
       "      <th>5</th>\n",
       "      <td>otection&amp;rdquo; for data privacy of individual...</td>\n",
       "    </tr>\n",
       "    <tr>\n",
       "      <th>4</th>\n",
       "      <td>otection&amp;rdquo; for data privacy of individual...</td>\n",
       "    </tr>\n",
       "    <tr>\n",
       "      <th>309</th>\n",
       "      <td>freedoms related to data privacy. Transfers. P...</td>\n",
       "    </tr>\n",
       "    <tr>\n",
       "      <th>49</th>\n",
       "      <td>nt\\nLearn more about Data Privacy\\nPowering th...</td>\n",
       "    </tr>\n",
       "  </tbody>\n",
       "</table>\n",
       "</div>"
      ],
      "text/plain": [
       "                                                     0\n",
       "6    otection&rdquo; for data privacy of individual...\n",
       "48   nt\\nLearn more about Data Privacy\\nPowering th...\n",
       "45   om\\nLearn more about Data Privacy\\nPowering th...\n",
       "88   iveRamp Advertising Data Privacy Policy explai...\n",
       "52   SA\\nLearn more about Data Privacy\\nPowering th...\n",
       "46   om\\nLearn more about Data Privacy\\nPowering th...\n",
       "5    otection&rdquo; for data privacy of individual...\n",
       "4    otection&rdquo; for data privacy of individual...\n",
       "309  freedoms related to data privacy. Transfers. P...\n",
       "49   nt\\nLearn more about Data Privacy\\nPowering th..."
      ]
     },
     "execution_count": 26,
     "metadata": {},
     "output_type": "execute_result"
    }
   ],
   "source": [
    "review_regex_matches(dataprivacy, filter_col, 'data\\s*privacy').sample(n=10)"
   ]
  },
  {
   "cell_type": "markdown",
   "metadata": {},
   "source": [
    "### Do Not Track\n",
    "\n",
    "From [Wikipedia](https://en.wikipedia.org/wiki/Do_Not_Track_legislation),\n",
    "\n",
    "\"**On December 1, 2010**, the U.S. Federal Trade Commission (FTC) published a preliminary report highlighting the consumers’ right to prevent websites from tracking their online behaviors. The central plank of the bill was to adopt a Do Not Track opt-out function to web browsers. The FTC judged that online marketers’ pervasive collection of personal information could possibly violate privacy. **This issue began to surface again in 2012** after Google announced its new privacy policy. Reps. Edward Markey, Joe Barton, and Cliff Stearns asked the FTC to investigate the legality of Google’s change of privacy policy; they sent a letter to the FTC regarding Google’s changed privacy policy.\"\n",
    "\n",
    "From the above, we imagine that we might begin to see Do Not Track references in 2010/2011 with more starting to surface in and after 2012."
   ]
  },
  {
   "cell_type": "code",
   "execution_count": 27,
   "metadata": {},
   "outputs": [
    {
     "name": "stderr",
     "output_type": "stream",
     "text": [
      "c:\\program files\\python36\\lib\\site-packages\\ipykernel_launcher.py:5: UserWarning: This pattern has match groups. To actually get the groups, use str.extract.\n",
      "  \"\"\"\n"
     ]
    },
    {
     "name": "stdout",
     "output_type": "stream",
     "text": [
      "57 / 267 policies mention (do\\s*not\\s*track|dnt)\n"
     ]
    },
    {
     "data": {
      "image/png": "[encoded data removed]",
      "text/plain": [
       "<Figure size 864x360 with 1 Axes>"
      ]
     },
     "metadata": {
      "needs_background": "light"
     },
     "output_type": "display_data"
    }
   ],
   "source": [
    "dnt_re = '(do\\s*not\\s*track|dnt)'\n",
    "dnt, filter_col = key_match_data(df, dnt_re)\n",
    "result = prepare_heatmap_data(dnt, 'company', 'policy_date', filter_col)\n",
    "result.head()\n",
    "ax = policy_heatmap(result, 'Reference of \"Do Not Track\" in Privacy Policy')\n",
    "# add vertical line for filter\n",
    "_ = ax.vlines(152, .8, 20, color='purple')\n",
    "_ = plt.text(146, 0.5, '2012', color='purple', fontsize=12)"
   ]
  },
  {
   "cell_type": "code",
   "execution_count": 28,
   "metadata": {},
   "outputs": [
    {
     "data": {
      "text/html": [
       "<div>\n",
       "<style scoped>\n",
       "    .dataframe tbody tr th:only-of-type {\n",
       "        vertical-align: middle;\n",
       "    }\n",
       "\n",
       "    .dataframe tbody tr th {\n",
       "        vertical-align: top;\n",
       "    }\n",
       "\n",
       "    .dataframe thead th {\n",
       "        text-align: right;\n",
       "    }\n",
       "</style>\n",
       "<table border=\"1\" class=\"dataframe\">\n",
       "  <thead>\n",
       "    <tr style=\"text-align: right;\">\n",
       "      <th></th>\n",
       "      <th>0</th>\n",
       "      <th>1</th>\n",
       "    </tr>\n",
       "  </thead>\n",
       "  <tbody>\n",
       "    <tr>\n",
       "      <th>183</th>\n",
       "      <td>Privacy Policy. We do not track or store a re...</td>\n",
       "      <td>do not track</td>\n",
       "    </tr>\n",
       "    <tr>\n",
       "      <th>57</th>\n",
       "      <td>bility to enable a \"do not track\" feature that...</td>\n",
       "      <td>do not track</td>\n",
       "    </tr>\n",
       "    <tr>\n",
       "      <th>60</th>\n",
       "      <td>y to enable a &amp;quot;do not track&amp;quot; feature...</td>\n",
       "      <td>do not track</td>\n",
       "    </tr>\n",
       "    <tr>\n",
       "      <th>251</th>\n",
       "      <td>ngs rather than the Do Not Track browser optio...</td>\n",
       "      <td>Do Not Track</td>\n",
       "    </tr>\n",
       "    <tr>\n",
       "      <th>138</th>\n",
       "      <td>g\\nPreferences&amp;nbsp;\\nDo Not Track:Tools and I...</td>\n",
       "      <td>Do Not Track</td>\n",
       "    </tr>\n",
       "    <tr>\n",
       "      <th>52</th>\n",
       "      <td>bility to enable a \"do not track\" feature that...</td>\n",
       "      <td>do not track</td>\n",
       "    </tr>\n",
       "    <tr>\n",
       "      <th>125</th>\n",
       "      <td>leave our sites. We do not track URLs that you...</td>\n",
       "      <td>do not track</td>\n",
       "    </tr>\n",
       "    <tr>\n",
       "      <th>231</th>\n",
       "      <td>respond to browser “do not track” signals, but...</td>\n",
       "      <td>do not track</td>\n",
       "    </tr>\n",
       "    <tr>\n",
       "      <th>185</th>\n",
       "      <td>Privacy Policy. We do not track or store a re...</td>\n",
       "      <td>do not track</td>\n",
       "    </tr>\n",
       "    <tr>\n",
       "      <th>31</th>\n",
       "      <td>.\\n&amp;nbsp;\\nCalifornia Do Not Track Disclosure&amp;...</td>\n",
       "      <td>Do Not Track</td>\n",
       "    </tr>\n",
       "  </tbody>\n",
       "</table>\n",
       "</div>"
      ],
      "text/plain": [
       "                                                     0             1\n",
       "183   Privacy Policy. We do not track or store a re...  do not track\n",
       "57   bility to enable a \"do not track\" feature that...  do not track\n",
       "60   y to enable a &quot;do not track&quot; feature...  do not track\n",
       "251  ngs rather than the Do Not Track browser optio...  Do Not Track\n",
       "138  g\\nPreferences&nbsp;\\nDo Not Track:Tools and I...  Do Not Track\n",
       "52   bility to enable a \"do not track\" feature that...  do not track\n",
       "125  leave our sites. We do not track URLs that you...  do not track\n",
       "231  respond to browser “do not track” signals, but...  do not track\n",
       "185   Privacy Policy. We do not track or store a re...  do not track\n",
       "31   .\\n&nbsp;\\nCalifornia Do Not Track Disclosure&...  Do Not Track"
      ]
     },
     "execution_count": 28,
     "metadata": {},
     "output_type": "execute_result"
    }
   ],
   "source": [
    "review_regex_matches(dnt, filter_col, dnt_re).sample(n=10)"
   ]
  },
  {
   "cell_type": "markdown",
   "metadata": {},
   "source": [
    "### General Data Protection Regulation (GDPR)\n",
    "\n",
    "From Wikipedia,\n",
    "\n",
    "\"The General Data Protection Regulation (EU) 2016/679 ('GDPR') is a regulation in EU law on data protection and privacy for all individuals within the European Union (EU) and the European Economic Area (EEA). It also addresses the export of personal data outside the EU and EEA areas. The GDPR aims primarily to give control to individuals over their personal data and to simplify the regulatory environment for international business by unifying the regulation within the EU.... **The GDPR was adopted on 14 April 2016, and became enforceable beginning 25 May 2018.** As the GDPR is a regulation, not a directive, it is directly binding and applicable, but does provide flexibility for certain aspects of the regulation to be adjusted by individual member states.\"\n",
    "\n",
    "We should therefore see GDPR references in 2018."
   ]
  },
  {
   "cell_type": "code",
   "execution_count": 29,
   "metadata": {},
   "outputs": [
    {
     "name": "stderr",
     "output_type": "stream",
     "text": [
      "c:\\program files\\python36\\lib\\site-packages\\ipykernel_launcher.py:5: UserWarning: This pattern has match groups. To actually get the groups, use str.extract.\n",
      "  \"\"\"\n"
     ]
    },
    {
     "name": "stdout",
     "output_type": "stream",
     "text": [
      "8 / 267 policies mention gdpr|(General Data Protection Regulation)\n"
     ]
    },
    {
     "data": {
      "image/png": "[encoded data removed]",
      "text/plain": [
       "<Figure size 864x360 with 1 Axes>"
      ]
     },
     "metadata": {
      "needs_background": "light"
     },
     "output_type": "display_data"
    }
   ],
   "source": [
    "gdpr_re = 'gdpr|(General Data Protection Regulation)'\n",
    "gdpr, filter_col = key_match_data(df, gdpr_re)\n",
    "result = prepare_heatmap_data(gdpr, 'company', 'policy_date', filter_col)\n",
    "result.head()\n",
    "ax = policy_heatmap(result, 'Reference of \"GDPR\" in Privacy Policy')\n",
    "# add vertical line for filter\n",
    "_ = ax.vlines(231, 1, 20, color='purple')\n",
    "_ = plt.text(180, -.32, 'May 25, 2018: GDPR Begins', color='purple', fontsize=12)"
   ]
  },
  {
   "cell_type": "markdown",
   "metadata": {},
   "source": [
    "Interestingly, there are very few references to GDPR..."
   ]
  },
  {
   "cell_type": "code",
   "execution_count": 30,
   "metadata": {},
   "outputs": [
    {
     "data": {
      "text/html": [
       "<div>\n",
       "<style scoped>\n",
       "    .dataframe tbody tr th:only-of-type {\n",
       "        vertical-align: middle;\n",
       "    }\n",
       "\n",
       "    .dataframe tbody tr th {\n",
       "        vertical-align: top;\n",
       "    }\n",
       "\n",
       "    .dataframe thead th {\n",
       "        text-align: right;\n",
       "    }\n",
       "</style>\n",
       "<table border=\"1\" class=\"dataframe\">\n",
       "  <thead>\n",
       "    <tr style=\"text-align: right;\">\n",
       "      <th></th>\n",
       "      <th>0</th>\n",
       "      <th>1</th>\n",
       "    </tr>\n",
       "  </thead>\n",
       "  <tbody>\n",
       "    <tr>\n",
       "      <th>6</th>\n",
       "      <td>es.As stated in our GDPR</td>\n",
       "      <td>NaN</td>\n",
       "    </tr>\n",
       "    <tr>\n",
       "      <th>93</th>\n",
       "      <td>General Data Protection Regulation (&amp;#x201C;GD...</td>\n",
       "      <td>General Data Protection Regulation</td>\n",
       "    </tr>\n",
       "    <tr>\n",
       "      <th>4</th>\n",
       "      <td>es.As stated in our GDPR</td>\n",
       "      <td>NaN</td>\n",
       "    </tr>\n",
       "    <tr>\n",
       "      <th>3</th>\n",
       "      <td>es.As stated in our GDPR</td>\n",
       "      <td>NaN</td>\n",
       "    </tr>\n",
       "    <tr>\n",
       "      <th>5</th>\n",
       "      <td>es.As stated in our GDPR</td>\n",
       "      <td>NaN</td>\n",
       "    </tr>\n",
       "    <tr>\n",
       "      <th>309</th>\n",
       "      <td>General Data Protection Regulation. To make a ...</td>\n",
       "      <td>General Data Protection Regulation</td>\n",
       "    </tr>\n",
       "    <tr>\n",
       "      <th>92</th>\n",
       "      <td>General Data Protection Regulation (&amp;#x201C;GD...</td>\n",
       "      <td>General Data Protection Regulation</td>\n",
       "    </tr>\n",
       "  </tbody>\n",
       "</table>\n",
       "</div>"
      ],
      "text/plain": [
       "                                                     0  \\\n",
       "6                             es.As stated in our GDPR   \n",
       "93   General Data Protection Regulation (&#x201C;GD...   \n",
       "4                             es.As stated in our GDPR   \n",
       "3                             es.As stated in our GDPR   \n",
       "5                             es.As stated in our GDPR   \n",
       "309  General Data Protection Regulation. To make a ...   \n",
       "92   General Data Protection Regulation (&#x201C;GD...   \n",
       "\n",
       "                                      1  \n",
       "6                                   NaN  \n",
       "93   General Data Protection Regulation  \n",
       "4                                   NaN  \n",
       "3                                   NaN  \n",
       "5                                   NaN  \n",
       "309  General Data Protection Regulation  \n",
       "92   General Data Protection Regulation  "
      ]
     },
     "execution_count": 30,
     "metadata": {},
     "output_type": "execute_result"
    }
   ],
   "source": [
    "review_regex_matches(gdpr, filter_col, gdpr_re).sample(n=7)"
   ]
  },
  {
   "cell_type": "markdown",
   "metadata": {},
   "source": [
    "### Popularity of \"Delete\"\n",
    "\n",
    "With GDPR came the notion of the \"right to be forgotten\" where you can request your data to be removed from a company's data stores. Let's see if GDPR adoption is signaled by the word \"delete\" making its way into privacy policies."
   ]
  },
  {
   "cell_type": "code",
   "execution_count": 31,
   "metadata": {},
   "outputs": [
    {
     "name": "stdout",
     "output_type": "stream",
     "text": [
      "206 / 267 policies mention delet\n"
     ]
    },
    {
     "data": {
      "image/png": "[encoded data removed]",
      "text/plain": [
       "<Figure size 864x360 with 1 Axes>"
      ]
     },
     "metadata": {
      "needs_background": "light"
     },
     "output_type": "display_data"
    }
   ],
   "source": [
    "delete_re = 'delet'\n",
    "delete, filter_col = key_match_data(df, delete_re)\n",
    "result = prepare_heatmap_data(delete, 'company', 'policy_date', filter_col)\n",
    "result.head()\n",
    "ax = policy_heatmap(result, 'Reference of \"Delete\" in Privacy Policy')\n",
    "# add vertical line for filter\n",
    "#_ = ax.vlines(105, .8, 20, color='purple')\n",
    "#_ = plt.text(100, 0.5, '2012', color='purple', fontsize=12)"
   ]
  },
  {
   "cell_type": "markdown",
   "metadata": {},
   "source": [
    "Surprisingly, many companies supported deleting data before GPDR. Of course, this is not a complete check. This does not tell us to what extent these companies allowed you to delete your data."
   ]
  },
  {
   "cell_type": "code",
   "execution_count": 32,
   "metadata": {},
   "outputs": [
    {
     "data": {
      "text/html": [
       "<div>\n",
       "<style scoped>\n",
       "    .dataframe tbody tr th:only-of-type {\n",
       "        vertical-align: middle;\n",
       "    }\n",
       "\n",
       "    .dataframe tbody tr th {\n",
       "        vertical-align: top;\n",
       "    }\n",
       "\n",
       "    .dataframe thead th {\n",
       "        text-align: right;\n",
       "    }\n",
       "</style>\n",
       "<table border=\"1\" class=\"dataframe\">\n",
       "  <thead>\n",
       "    <tr style=\"text-align: right;\">\n",
       "      <th></th>\n",
       "      <th>0</th>\n",
       "    </tr>\n",
       "  </thead>\n",
       "  <tbody>\n",
       "    <tr>\n",
       "      <th>176</th>\n",
       "      <td>e e-mail address is deleted. Access to the ab</td>\n",
       "    </tr>\n",
       "    <tr>\n",
       "      <th>296</th>\n",
       "      <td>and we will work to delete it.&amp;nbsp;\\nPrivacy</td>\n",
       "    </tr>\n",
       "    <tr>\n",
       "      <th>44</th>\n",
       "      <td>computer until you delete them or they expir</td>\n",
       "    </tr>\n",
       "    <tr>\n",
       "      <th>155</th>\n",
       "      <td>that we correct or delete this personal info</td>\n",
       "    </tr>\n",
       "    <tr>\n",
       "      <th>113</th>\n",
       "      <td>n access, manage or delete information that i</td>\n",
       "    </tr>\n",
       "    <tr>\n",
       "      <th>188</th>\n",
       "      <td>he email address is deleted. Access to the ab</td>\n",
       "    </tr>\n",
       "    <tr>\n",
       "      <th>40</th>\n",
       "      <td>Unless you request deletion of your personal</td>\n",
       "    </tr>\n",
       "    <tr>\n",
       "      <th>37</th>\n",
       "      <td>it is inaccurate or delete the data if Apple</td>\n",
       "    </tr>\n",
       "    <tr>\n",
       "      <th>180</th>\n",
       "      <td>e e-mail address is deleted. Access to the ab</td>\n",
       "    </tr>\n",
       "    <tr>\n",
       "      <th>220</th>\n",
       "      <td>t us us and we will delete the information ab</td>\n",
       "    </tr>\n",
       "  </tbody>\n",
       "</table>\n",
       "</div>"
      ],
      "text/plain": [
       "                                                  0\n",
       "176   e e-mail address is deleted. Access to the ab\n",
       "296  and we will work to delete it.&nbsp;\\nPrivacy \n",
       "44     computer until you delete them or they expir\n",
       "155    that we correct or delete this personal info\n",
       "113   n access, manage or delete information that i\n",
       "188   he email address is deleted. Access to the ab\n",
       "40     Unless you request deletion of your personal\n",
       "37    it is inaccurate or delete the data if Apple \n",
       "180   e e-mail address is deleted. Access to the ab\n",
       "220   t us us and we will delete the information ab"
      ]
     },
     "execution_count": 32,
     "metadata": {},
     "output_type": "execute_result"
    }
   ],
   "source": [
    "review_regex_matches(delete, filter_col, delete_re).sample(n=10)"
   ]
  },
  {
   "cell_type": "markdown",
   "metadata": {},
   "source": [
    "### Popularity of \"Forgotten\""
   ]
  },
  {
   "cell_type": "code",
   "execution_count": 33,
   "metadata": {},
   "outputs": [
    {
     "name": "stdout",
     "output_type": "stream",
     "text": [
      "0 / 267 policies mention forgotten\n"
     ]
    },
    {
     "data": {
      "image/png": "[encoded data removed]",
      "text/plain": [
       "<Figure size 864x360 with 1 Axes>"
      ]
     },
     "metadata": {
      "needs_background": "light"
     },
     "output_type": "display_data"
    }
   ],
   "source": [
    "forgot_re = 'forgotten'\n",
    "forgot, filter_col = key_match_data(df, forgot_re)\n",
    "result = prepare_heatmap_data(forgot, 'company', 'policy_date', filter_col)\n",
    "result.head()\n",
    "ax = policy_heatmap(result, 'Reference of \"Forgotten\" in Privacy Policy')\n",
    "# add vertical line for filter\n",
    "#_ = ax.vlines(105, .8, 20, color='purple')\n",
    "#_ = plt.text(100, 0.5, '2012', color='purple', fontsize=12)"
   ]
  },
  {
   "cell_type": "code",
   "execution_count": 34,
   "metadata": {},
   "outputs": [
    {
     "data": {
      "text/html": [
       "<div>\n",
       "<style scoped>\n",
       "    .dataframe tbody tr th:only-of-type {\n",
       "        vertical-align: middle;\n",
       "    }\n",
       "\n",
       "    .dataframe tbody tr th {\n",
       "        vertical-align: top;\n",
       "    }\n",
       "\n",
       "    .dataframe thead th {\n",
       "        text-align: right;\n",
       "    }\n",
       "</style>\n",
       "<table border=\"1\" class=\"dataframe\">\n",
       "  <thead>\n",
       "    <tr style=\"text-align: right;\">\n",
       "      <th></th>\n",
       "      <th>0</th>\n",
       "    </tr>\n",
       "  </thead>\n",
       "  <tbody>\n",
       "  </tbody>\n",
       "</table>\n",
       "</div>"
      ],
      "text/plain": [
       "Empty DataFrame\n",
       "Columns: [0]\n",
       "Index: []"
      ]
     },
     "execution_count": 34,
     "metadata": {},
     "output_type": "execute_result"
    }
   ],
   "source": [
    "review_regex_matches(forgot, filter_col, forgot_re)"
   ]
  },
  {
   "cell_type": "markdown",
   "metadata": {},
   "source": [
    "### TRUSTe"
   ]
  },
  {
   "cell_type": "code",
   "execution_count": null,
   "metadata": {},
   "outputs": [],
   "source": []
  },
  {
   "cell_type": "code",
   "execution_count": null,
   "metadata": {},
   "outputs": [],
   "source": []
  },
  {
   "cell_type": "markdown",
   "metadata": {},
   "source": [
    "## Google"
   ]
  },
  {
   "cell_type": "code",
   "execution_count": 35,
   "metadata": {},
   "outputs": [
    {
     "data": {
      "text/html": [
       "<div>\n",
       "<style scoped>\n",
       "    .dataframe tbody tr th:only-of-type {\n",
       "        vertical-align: middle;\n",
       "    }\n",
       "\n",
       "    .dataframe tbody tr th {\n",
       "        vertical-align: top;\n",
       "    }\n",
       "\n",
       "    .dataframe thead th {\n",
       "        text-align: right;\n",
       "    }\n",
       "</style>\n",
       "<table border=\"1\" class=\"dataframe\">\n",
       "  <thead>\n",
       "    <tr style=\"text-align: right;\">\n",
       "      <th></th>\n",
       "      <th>company</th>\n",
       "      <th>policy_date</th>\n",
       "      <th>policy_url</th>\n",
       "      <th>policy_path</th>\n",
       "      <th>company_id</th>\n",
       "      <th>policy_text</th>\n",
       "    </tr>\n",
       "  </thead>\n",
       "  <tbody>\n",
       "    <tr>\n",
       "      <th>95</th>\n",
       "      <td>google</td>\n",
       "      <td>1999-06-09</td>\n",
       "      <td>https://policies.google.com/privacy/archive/19...</td>\n",
       "      <td>google/google-1999-06-09.txt</td>\n",
       "      <td>7</td>\n",
       "      <td>Privacy &amp;amp; TermsOverviewPrivacy PolicyTerms...</td>\n",
       "    </tr>\n",
       "    <tr>\n",
       "      <th>96</th>\n",
       "      <td>google</td>\n",
       "      <td>1999-09-20</td>\n",
       "      <td>https://policies.google.com/privacy/archive/19...</td>\n",
       "      <td>google/google-1999-09-20.txt</td>\n",
       "      <td>7</td>\n",
       "      <td>Privacy &amp;amp; TermsOverviewPrivacy PolicyTerms...</td>\n",
       "    </tr>\n",
       "    <tr>\n",
       "      <th>97</th>\n",
       "      <td>google</td>\n",
       "      <td>2001-01-04</td>\n",
       "      <td>https://policies.google.com/privacy/archive/20...</td>\n",
       "      <td>google/google-2001-01-04.txt</td>\n",
       "      <td>7</td>\n",
       "      <td>Privacy &amp;amp; TermsOverviewPrivacy PolicyTerms...</td>\n",
       "    </tr>\n",
       "    <tr>\n",
       "      <th>98</th>\n",
       "      <td>google</td>\n",
       "      <td>2004-07-01</td>\n",
       "      <td>https://policies.google.com/privacy/archive/20...</td>\n",
       "      <td>google/google-2004-07-01.txt</td>\n",
       "      <td>7</td>\n",
       "      <td>Privacy &amp;amp; TermsOverviewPrivacy PolicyTerms...</td>\n",
       "    </tr>\n",
       "    <tr>\n",
       "      <th>99</th>\n",
       "      <td>google</td>\n",
       "      <td>2005-10-14</td>\n",
       "      <td>https://policies.google.com/privacy/archive/20...</td>\n",
       "      <td>google/google-2005-10-14.txt</td>\n",
       "      <td>7</td>\n",
       "      <td>Privacy &amp;amp; TermsOverviewPrivacy PolicyTerms...</td>\n",
       "    </tr>\n",
       "  </tbody>\n",
       "</table>\n",
       "</div>"
      ],
      "text/plain": [
       "   company policy_date                                         policy_url  \\\n",
       "95  google  1999-06-09  https://policies.google.com/privacy/archive/19...   \n",
       "96  google  1999-09-20  https://policies.google.com/privacy/archive/19...   \n",
       "97  google  2001-01-04  https://policies.google.com/privacy/archive/20...   \n",
       "98  google  2004-07-01  https://policies.google.com/privacy/archive/20...   \n",
       "99  google  2005-10-14  https://policies.google.com/privacy/archive/20...   \n",
       "\n",
       "                     policy_path  company_id  \\\n",
       "95  google/google-1999-06-09.txt           7   \n",
       "96  google/google-1999-09-20.txt           7   \n",
       "97  google/google-2001-01-04.txt           7   \n",
       "98  google/google-2004-07-01.txt           7   \n",
       "99  google/google-2005-10-14.txt           7   \n",
       "\n",
       "                                          policy_text  \n",
       "95  Privacy &amp; TermsOverviewPrivacy PolicyTerms...  \n",
       "96  Privacy &amp; TermsOverviewPrivacy PolicyTerms...  \n",
       "97  Privacy &amp; TermsOverviewPrivacy PolicyTerms...  \n",
       "98  Privacy &amp; TermsOverviewPrivacy PolicyTerms...  \n",
       "99  Privacy &amp; TermsOverviewPrivacy PolicyTerms...  "
      ]
     },
     "execution_count": 35,
     "metadata": {},
     "output_type": "execute_result"
    }
   ],
   "source": [
    "google = df[df.company == 'google']\n",
    "google.head()"
   ]
  },
  {
   "cell_type": "code",
   "execution_count": 36,
   "metadata": {},
   "outputs": [],
   "source": [
    "google = google.apply(get_policy_text, axis=1)"
   ]
  },
  {
   "cell_type": "code",
   "execution_count": 37,
   "metadata": {},
   "outputs": [],
   "source": [
    "google['policy_text_len'] = google.policy_text.str.len()"
   ]
  },
  {
   "cell_type": "code",
   "execution_count": 39,
   "metadata": {},
   "outputs": [
    {
     "data": {
      "text/plain": [
       "<matplotlib.axes._subplots.AxesSubplot at 0x2494e127da0>"
      ]
     },
     "execution_count": 39,
     "metadata": {},
     "output_type": "execute_result"
    },
    {
     "data": {
      "image/png": "[encoded data removed]",
      "text/plain": [
       "<Figure size 864x360 with 1 Axes>"
      ]
     },
     "metadata": {
      "needs_background": "light"
     },
     "output_type": "display_data"
    }
   ],
   "source": [
    "google[['policy_date', 'policy_text_len']].plot.bar('policy_date', title=\"Google's Privacy Policy Length By Revision\", figsize=(12, 5))"
   ]
  },
  {
   "cell_type": "code",
   "execution_count": null,
   "metadata": {},
   "outputs": [],
   "source": []
  }
 ],
 "metadata": {
  "kernelspec": {
   "display_name": "Python 3",
   "language": "python",
   "name": "python3"
  },
  "language_info": {
   "codemirror_mode": {
    "name": "ipython",
    "version": 3
   },
   "file_extension": ".py",
   "mimetype": "text/x-python",
   "name": "python",
   "nbconvert_exporter": "python",
   "pygments_lexer": "ipython3",
   "version": "3.6.8"
  }
 },
 "nbformat": 4,
 "nbformat_minor": 2
}
