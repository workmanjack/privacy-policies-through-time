{
 "cells": [
  {
   "cell_type": "code",
   "execution_count": 13,
   "metadata": {},
   "outputs": [
    {
     "name": "stdout",
     "output_type": "stream",
     "text": [
      "The autoreload extension is already loaded. To reload it, use:\n",
      "  %reload_ext autoreload\n"
     ]
    }
   ],
   "source": [
    "# project imports\n",
    "import env\n",
    "from wayback_search import POLICY_DIR\n",
    "from build_master_index import MASTER_CSV, PROBLEM_COMPANIES\n",
    "\n",
    "\n",
    "# python & package imports\n",
    "import pandas as pd\n",
    "import os\n",
    "\n",
    "\n",
    "# plot things\n",
    "%matplotlib inline\n",
    "# autoreload modules\n",
    "%load_ext autoreload\n",
    "%autoreload 2"
   ]
  },
  {
   "cell_type": "code",
   "execution_count": 14,
   "metadata": {},
   "outputs": [
    {
     "data": {
      "text/html": [
       "<div>\n",
       "<style scoped>\n",
       "    .dataframe tbody tr th:only-of-type {\n",
       "        vertical-align: middle;\n",
       "    }\n",
       "\n",
       "    .dataframe tbody tr th {\n",
       "        vertical-align: top;\n",
       "    }\n",
       "\n",
       "    .dataframe thead th {\n",
       "        text-align: right;\n",
       "    }\n",
       "</style>\n",
       "<table border=\"1\" class=\"dataframe\">\n",
       "  <thead>\n",
       "    <tr style=\"text-align: right;\">\n",
       "      <th></th>\n",
       "      <th>company</th>\n",
       "      <th>policy_date</th>\n",
       "      <th>policy_url</th>\n",
       "      <th>policy_path</th>\n",
       "    </tr>\n",
       "  </thead>\n",
       "  <tbody>\n",
       "    <tr>\n",
       "      <th>0</th>\n",
       "      <td>1password</td>\n",
       "      <td>2017-02-02</td>\n",
       "      <td>https://1password.com/legal/privacy/privacy-20...</td>\n",
       "      <td>1password/1password-2017-02-02.txt</td>\n",
       "    </tr>\n",
       "    <tr>\n",
       "      <th>1</th>\n",
       "      <td>1password</td>\n",
       "      <td>2017-03-16</td>\n",
       "      <td>https://1password.com/legal/privacy/privacy-20...</td>\n",
       "      <td>1password/1password-2017-03-16.txt</td>\n",
       "    </tr>\n",
       "    <tr>\n",
       "      <th>2</th>\n",
       "      <td>1password</td>\n",
       "      <td>2017-08-02</td>\n",
       "      <td>https://1password.com/legal/privacy/privacy-20...</td>\n",
       "      <td>1password/1password-2017-08-02.txt</td>\n",
       "    </tr>\n",
       "    <tr>\n",
       "      <th>3</th>\n",
       "      <td>1password</td>\n",
       "      <td>2018-03-15</td>\n",
       "      <td>https://1password.com/legal/privacy/privacy-20...</td>\n",
       "      <td>1password/1password-2018-03-15.txt</td>\n",
       "    </tr>\n",
       "    <tr>\n",
       "      <th>4</th>\n",
       "      <td>1password</td>\n",
       "      <td>2018-04-04</td>\n",
       "      <td>https://1password.com/legal/privacy/privacy-20...</td>\n",
       "      <td>1password/1password-2018-04-04.txt</td>\n",
       "    </tr>\n",
       "  </tbody>\n",
       "</table>\n",
       "</div>"
      ],
      "text/plain": [
       "     company policy_date                                         policy_url  \\\n",
       "0  1password  2017-02-02  https://1password.com/legal/privacy/privacy-20...   \n",
       "1  1password  2017-03-16  https://1password.com/legal/privacy/privacy-20...   \n",
       "2  1password  2017-08-02  https://1password.com/legal/privacy/privacy-20...   \n",
       "3  1password  2018-03-15  https://1password.com/legal/privacy/privacy-20...   \n",
       "4  1password  2018-04-04  https://1password.com/legal/privacy/privacy-20...   \n",
       "\n",
       "                          policy_path  \n",
       "0  1password/1password-2017-02-02.txt  \n",
       "1  1password/1password-2017-03-16.txt  \n",
       "2  1password/1password-2017-08-02.txt  \n",
       "3  1password/1password-2018-03-15.txt  \n",
       "4  1password/1password-2018-04-04.txt  "
      ]
     },
     "execution_count": 14,
     "metadata": {},
     "output_type": "execute_result"
    }
   ],
   "source": [
    "df = pd.read_csv(MASTER_CSV)\n",
    "df.policy_date = pd.to_datetime(df.policy_date)\n",
    "#df['policy_year'] = df.policy_date.dt.year\n",
    "#df['policy_month'] = df.policy_date.dt.year\n",
    "#df['policy_day'] = df.policy_date.dt.year\n",
    "df.head()"
   ]
  },
  {
   "cell_type": "code",
   "execution_count": 17,
   "metadata": {},
   "outputs": [
    {
     "data": {
      "text/html": [
       "<div>\n",
       "<style scoped>\n",
       "    .dataframe tbody tr th:only-of-type {\n",
       "        vertical-align: middle;\n",
       "    }\n",
       "\n",
       "    .dataframe tbody tr th {\n",
       "        vertical-align: top;\n",
       "    }\n",
       "\n",
       "    .dataframe thead th {\n",
       "        text-align: right;\n",
       "    }\n",
       "</style>\n",
       "<table border=\"1\" class=\"dataframe\">\n",
       "  <thead>\n",
       "    <tr style=\"text-align: right;\">\n",
       "      <th></th>\n",
       "      <th>company</th>\n",
       "      <th>policy_date</th>\n",
       "      <th>policy_url</th>\n",
       "      <th>policy_path</th>\n",
       "    </tr>\n",
       "  </thead>\n",
       "  <tbody>\n",
       "  </tbody>\n",
       "</table>\n",
       "</div>"
      ],
      "text/plain": [
       "Empty DataFrame\n",
       "Columns: [company, policy_date, policy_url, policy_path]\n",
       "Index: []"
      ]
     },
     "execution_count": 17,
     "metadata": {},
     "output_type": "execute_result"
    }
   ],
   "source": [
    "# check for any policy paths that do not exist\n",
    "df[~pd.Series([os.path.exists(os.path.join(POLICY_DIR, x)) for x in df.policy_path])]"
   ]
  },
  {
   "cell_type": "code",
   "execution_count": 18,
   "metadata": {},
   "outputs": [
    {
     "name": "stdout",
     "output_type": "stream",
     "text": [
      "18\n",
      "226\n",
      "238\n"
     ]
    }
   ],
   "source": [
    "print(len(df.company.unique()))\n",
    "print(len(df.policy_path.unique()))\n",
    "print(len(df))"
   ]
  },
  {
   "cell_type": "code",
   "execution_count": 19,
   "metadata": {},
   "outputs": [
    {
     "data": {
      "text/plain": [
       "226"
      ]
     },
     "execution_count": 19,
     "metadata": {},
     "output_type": "execute_result"
    }
   ],
   "source": [
    "# sometimes duplicate csv rows appear because of overlap in the\n",
    "# dates of two configurations; they are the same policy most likely\n",
    "# so we just drop the duplicate\n",
    "df = df[~df.duplicated('policy_path')]\n",
    "len(df)"
   ]
  },
  {
   "cell_type": "code",
   "execution_count": 20,
   "metadata": {},
   "outputs": [
    {
     "data": {
      "text/plain": [
       "198"
      ]
     },
     "execution_count": 20,
     "metadata": {},
     "output_type": "execute_result"
    }
   ],
   "source": [
    "# some companies proved more difficult than others when gathering\n",
    "# privacy policies, so we drop them here (the policies are left\n",
    "# as part of the original dataset because they are valid policies,\n",
    "# but we do not have all the revisions)\n",
    "df = df[~df.company.str.contains('|'.join(PROBLEM_COMPANIES))]\n",
    "len(df)"
   ]
  },
  {
   "cell_type": "code",
   "execution_count": 22,
   "metadata": {},
   "outputs": [
    {
     "name": "stdout",
     "output_type": "stream",
     "text": [
      "15\n"
     ]
    },
    {
     "data": {
      "text/plain": [
       "array(['1password', 'amazon', 'apple', 'cisco', 'facebook', 'fitbit',\n",
       "       'goodreads', 'google', 'intuit', 'netflix', 'smud', 'target',\n",
       "       'twitter', 'uber', 'walmart'], dtype=object)"
      ]
     },
     "execution_count": 22,
     "metadata": {},
     "output_type": "execute_result"
    }
   ],
   "source": [
    "print(len(df.company.unique()))\n",
    "df.company.unique()"
   ]
  },
  {
   "cell_type": "code",
   "execution_count": 23,
   "metadata": {},
   "outputs": [
    {
     "name": "stdout",
     "output_type": "stream",
     "text": [
      "1999-06-09 00:00:00\n",
      "2019-01-22 00:00:00\n"
     ]
    }
   ],
   "source": [
    "print(min(df.policy_date))\n",
    "print(max(df.policy_date))"
   ]
  },
  {
   "cell_type": "code",
   "execution_count": 24,
   "metadata": {},
   "outputs": [
    {
     "data": {
      "text/plain": [
       "<matplotlib.axes._subplots.AxesSubplot at 0x2277aee9fd0>"
      ]
     },
     "execution_count": 24,
     "metadata": {},
     "output_type": "execute_result"
    },
    {
     "data": {
      "image/png": "[encoded data removed]",
      "text/plain": [
       "<Figure size 432x288 with 1 Axes>"
      ]
     },
     "metadata": {
      "needs_background": "light"
     },
     "output_type": "display_data"
    }
   ],
   "source": [
    "grouped = df.groupby('company').policy_path.count()\n",
    "grouped.plot.bar(title='Privacy Policy Revisions by Company')"
   ]
  },
  {
   "cell_type": "code",
   "execution_count": 25,
   "metadata": {},
   "outputs": [
    {
     "data": {
      "text/plain": [
       "<matplotlib.axes._subplots.AxesSubplot at 0x2277cfe69e8>"
      ]
     },
     "execution_count": 25,
     "metadata": {},
     "output_type": "execute_result"
    },
    {
     "data": {
      "image/png": "[encoded data removed]",
      "text/plain": [
       "<Figure size 432x288 with 1 Axes>"
      ]
     },
     "metadata": {
      "needs_background": "light"
     },
     "output_type": "display_data"
    }
   ],
   "source": [
    "grouped = df.groupby([df.policy_date.dt.year]).policy_path.count()\n",
    "grouped.plot.bar(title='Privacy Policy Revisions by Year (All Companies)')"
   ]
  },
  {
   "cell_type": "markdown",
   "metadata": {},
   "source": [
    "## Google"
   ]
  },
  {
   "cell_type": "code",
   "execution_count": 26,
   "metadata": {},
   "outputs": [
    {
     "data": {
      "text/html": [
       "<div>\n",
       "<style scoped>\n",
       "    .dataframe tbody tr th:only-of-type {\n",
       "        vertical-align: middle;\n",
       "    }\n",
       "\n",
       "    .dataframe tbody tr th {\n",
       "        vertical-align: top;\n",
       "    }\n",
       "\n",
       "    .dataframe thead th {\n",
       "        text-align: right;\n",
       "    }\n",
       "</style>\n",
       "<table border=\"1\" class=\"dataframe\">\n",
       "  <thead>\n",
       "    <tr style=\"text-align: right;\">\n",
       "      <th></th>\n",
       "      <th>company</th>\n",
       "      <th>policy_date</th>\n",
       "      <th>policy_url</th>\n",
       "      <th>policy_path</th>\n",
       "    </tr>\n",
       "  </thead>\n",
       "  <tbody>\n",
       "    <tr>\n",
       "      <th>95</th>\n",
       "      <td>google</td>\n",
       "      <td>1999-06-09</td>\n",
       "      <td>https://policies.google.com/privacy/archive/19...</td>\n",
       "      <td>google/google-1999-06-09.txt</td>\n",
       "    </tr>\n",
       "    <tr>\n",
       "      <th>96</th>\n",
       "      <td>google</td>\n",
       "      <td>1999-09-20</td>\n",
       "      <td>https://policies.google.com/privacy/archive/19...</td>\n",
       "      <td>google/google-1999-09-20.txt</td>\n",
       "    </tr>\n",
       "    <tr>\n",
       "      <th>97</th>\n",
       "      <td>google</td>\n",
       "      <td>2001-01-04</td>\n",
       "      <td>https://policies.google.com/privacy/archive/20...</td>\n",
       "      <td>google/google-2001-01-04.txt</td>\n",
       "    </tr>\n",
       "    <tr>\n",
       "      <th>98</th>\n",
       "      <td>google</td>\n",
       "      <td>2004-07-01</td>\n",
       "      <td>https://policies.google.com/privacy/archive/20...</td>\n",
       "      <td>google/google-2004-07-01.txt</td>\n",
       "    </tr>\n",
       "    <tr>\n",
       "      <th>99</th>\n",
       "      <td>google</td>\n",
       "      <td>2005-10-14</td>\n",
       "      <td>https://policies.google.com/privacy/archive/20...</td>\n",
       "      <td>google/google-2005-10-14.txt</td>\n",
       "    </tr>\n",
       "  </tbody>\n",
       "</table>\n",
       "</div>"
      ],
      "text/plain": [
       "   company policy_date                                         policy_url  \\\n",
       "95  google  1999-06-09  https://policies.google.com/privacy/archive/19...   \n",
       "96  google  1999-09-20  https://policies.google.com/privacy/archive/19...   \n",
       "97  google  2001-01-04  https://policies.google.com/privacy/archive/20...   \n",
       "98  google  2004-07-01  https://policies.google.com/privacy/archive/20...   \n",
       "99  google  2005-10-14  https://policies.google.com/privacy/archive/20...   \n",
       "\n",
       "                     policy_path  \n",
       "95  google/google-1999-06-09.txt  \n",
       "96  google/google-1999-09-20.txt  \n",
       "97  google/google-2001-01-04.txt  \n",
       "98  google/google-2004-07-01.txt  \n",
       "99  google/google-2005-10-14.txt  "
      ]
     },
     "execution_count": 26,
     "metadata": {},
     "output_type": "execute_result"
    }
   ],
   "source": [
    "google = df[df.company == 'google']\n",
    "google.head()"
   ]
  },
  {
   "cell_type": "code",
   "execution_count": 38,
   "metadata": {},
   "outputs": [],
   "source": [
    "def get_policy_text(row):\n",
    "    \"\"\"\n",
    "    Creates a pd.Series of full text from policies\n",
    "\n",
    "    Args:\n",
    "        row: pd.Series, row of policy index dataframe\n",
    "        \n",
    "    Returns:\n",
    "        pd.Series, a new row with 'policy_text' col\n",
    "    \"\"\"\n",
    "    page = ''\n",
    "    with open(os.path.join(POLICY_DIR, row['policy_path']), 'r', encoding='utf-8') as f:\n",
    "        page = f.read()\n",
    "    row['policy_text'] = page\n",
    "    return row"
   ]
  },
  {
   "cell_type": "code",
   "execution_count": 40,
   "metadata": {},
   "outputs": [],
   "source": [
    "google = google.apply(get_policy_text, axis=1)"
   ]
  },
  {
   "cell_type": "code",
   "execution_count": 49,
   "metadata": {},
   "outputs": [],
   "source": [
    "google['policy_text_len'] = google.policy_text.str.len()"
   ]
  },
  {
   "cell_type": "code",
   "execution_count": 52,
   "metadata": {},
   "outputs": [
    {
     "data": {
      "text/plain": [
       "<matplotlib.axes._subplots.AxesSubplot at 0x2277e6b75f8>"
      ]
     },
     "execution_count": 52,
     "metadata": {},
     "output_type": "execute_result"
    },
    {
     "data": {
      "image/png": "[encoded data removed]",
      "text/plain": [
       "<Figure size 432x288 with 1 Axes>"
      ]
     },
     "metadata": {
      "needs_background": "light"
     },
     "output_type": "display_data"
    }
   ],
   "source": [
    "google[['policy_date', 'policy_text_len']].plot.bar('policy_date', title=\"Google's Privacy Policy Length By Revision\")"
   ]
  },
  {
   "cell_type": "code",
   "execution_count": null,
   "metadata": {},
   "outputs": [],
   "source": []
  }
 ],
 "metadata": {
  "kernelspec": {
   "display_name": "Python 3",
   "language": "python",
   "name": "python3"
  },
  "language_info": {
   "codemirror_mode": {
    "name": "ipython",
    "version": 3
   },
   "file_extension": ".py",
   "mimetype": "text/x-python",
   "name": "python",
   "nbconvert_exporter": "python",
   "pygments_lexer": "ipython3",
   "version": "3.6.8"
  }
 },
 "nbformat": 4,
 "nbformat_minor": 2
}
