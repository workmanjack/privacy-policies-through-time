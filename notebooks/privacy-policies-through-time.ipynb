{
 "cells": [
  {
   "cell_type": "markdown",
   "metadata": {},
   "source": [
    "# Privacy Policies Through Time\n",
    "\n",
    "*An exploration of how privacy policies have evolved and reacted to different legislative and media events throughout the years.*\n",
    "\n"
   ]
  },
  {
   "cell_type": "code",
   "execution_count": 1,
   "metadata": {},
   "outputs": [],
   "source": [
    "# project imports\n",
    "import env\n",
    "from build_master_index import MASTER_CSV, PROBLEM_COMPANIES\n",
    "from wayback_search import POLICY_DIR\n",
    "\n",
    "\n",
    "# python & package imports\n",
    "from collections import defaultdict\n",
    "import matplotlib.pyplot as plt\n",
    "from datetime import date\n",
    "import seaborn as sns\n",
    "import pandas as pd\n",
    "import numpy as np\n",
    "import os\n",
    "import re\n",
    "\n",
    "\n",
    "# plot things\n",
    "%matplotlib inline\n",
    "# autoreload modules\n",
    "%load_ext autoreload\n",
    "%autoreload 2"
   ]
  },
  {
   "cell_type": "markdown",
   "metadata": {},
   "source": [
    "## Dataset Introduction\n",
    "\n",
    "This project has put together a historical dataset containing all of the privacy policy revisions of various companies with the help of the Internet Archive's [Wayback Machine](https://archive.org/web/).\n",
    "\n",
    "Here we import the master csv of the dataset and prepare it for analysis."
   ]
  },
  {
   "cell_type": "code",
   "execution_count": 2,
   "metadata": {},
   "outputs": [
    {
     "name": "stdout",
     "output_type": "stream",
     "text": [
      "Policy count before dropping duplicates: 314\n",
      "Policy count before removing problematic companies: 299\n",
      "Company count before removing problematic companies: 21\n",
      "Final policy count: 271\n"
     ]
    }
   ],
   "source": [
    "# import and prepare the dataframe\n",
    "df = pd.read_csv(MASTER_CSV)\n",
    "df.policy_date = pd.to_datetime(df.policy_date)\n",
    "df.company = pd.Categorical(df.company)\n",
    "df['company_id'] = df.company.cat.codes\n",
    "\n",
    "# sanity-check: check for any policy paths that do not exist\n",
    "assert len(df[~pd.Series([os.path.exists(os.path.join(POLICY_DIR, x)) for x in df.policy_path])]) == 0\n",
    "\n",
    "# sometimes duplicate csv rows appear because of overlap in the\n",
    "# dates of two configurations; they are the same policy most likely\n",
    "# so we just drop the duplicate\n",
    "print('Policy count before dropping duplicates: {}'.format(len(df)))\n",
    "df = df[~df.duplicated('policy_path')]\n",
    "\n",
    "# some companies proved more difficult than others when gathering\n",
    "# privacy policies, so we drop them here (the policies are left\n",
    "# as part of the original dataset because they are valid policies,\n",
    "# but we do not have all the revisions)\n",
    "print('Policy count before removing problematic companies: {}'.format(len(df)))\n",
    "print('Company count before removing problematic companies: {}'.format(len(df.company.unique())))\n",
    "df = df[~df.company.str.contains('|'.join(PROBLEM_COMPANIES))]\n",
    "print('Final policy count: {}'.format(len(df)))"
   ]
  },
  {
   "cell_type": "markdown",
   "metadata": {},
   "source": [
    "A quick look inside the dataframe shows the available columns, the mix of companies, and a range of policy dates"
   ]
  },
  {
   "cell_type": "code",
   "execution_count": 3,
   "metadata": {},
   "outputs": [
    {
     "data": {
      "text/html": [
       "<div>\n",
       "<style scoped>\n",
       "    .dataframe tbody tr th:only-of-type {\n",
       "        vertical-align: middle;\n",
       "    }\n",
       "\n",
       "    .dataframe tbody tr th {\n",
       "        vertical-align: top;\n",
       "    }\n",
       "\n",
       "    .dataframe thead th {\n",
       "        text-align: right;\n",
       "    }\n",
       "</style>\n",
       "<table border=\"1\" class=\"dataframe\">\n",
       "  <thead>\n",
       "    <tr style=\"text-align: right;\">\n",
       "      <th></th>\n",
       "      <th>company</th>\n",
       "      <th>policy_date</th>\n",
       "      <th>policy_url</th>\n",
       "      <th>policy_path</th>\n",
       "      <th>company_id</th>\n",
       "    </tr>\n",
       "  </thead>\n",
       "  <tbody>\n",
       "    <tr>\n",
       "      <th>237</th>\n",
       "      <td>target</td>\n",
       "      <td>2017-08-01</td>\n",
       "      <td>http://web.archive.org/web/20170901064726/http...</td>\n",
       "      <td>target/target-2017-08-01.txt</td>\n",
       "      <td>15</td>\n",
       "    </tr>\n",
       "    <tr>\n",
       "      <th>304</th>\n",
       "      <td>washingtonpost</td>\n",
       "      <td>2014-01-09</td>\n",
       "      <td>http://web.archive.org/web/20140131153744/http...</td>\n",
       "      <td>washingtonpost/washingtonpost-2014-01-09.txt</td>\n",
       "      <td>20</td>\n",
       "    </tr>\n",
       "    <tr>\n",
       "      <th>171</th>\n",
       "      <td>nytimes</td>\n",
       "      <td>2008-09-22</td>\n",
       "      <td>http://web.archive.org/web/20080929111502/http...</td>\n",
       "      <td>nytimes/nytimes-2008-09-22.txt</td>\n",
       "      <td>11</td>\n",
       "    </tr>\n",
       "    <tr>\n",
       "      <th>71</th>\n",
       "      <td>facebook</td>\n",
       "      <td>2009-12-09</td>\n",
       "      <td>http://web.archive.org/web/20100101040835/http...</td>\n",
       "      <td>facebook/facebook-2009-12-09.txt</td>\n",
       "      <td>4</td>\n",
       "    </tr>\n",
       "    <tr>\n",
       "      <th>1</th>\n",
       "      <td>1password</td>\n",
       "      <td>2017-03-16</td>\n",
       "      <td>https://1password.com/legal/privacy/privacy-20...</td>\n",
       "      <td>1password/1password-2017-03-16.txt</td>\n",
       "      <td>0</td>\n",
       "    </tr>\n",
       "  </tbody>\n",
       "</table>\n",
       "</div>"
      ],
      "text/plain": [
       "            company policy_date  \\\n",
       "237          target  2017-08-01   \n",
       "304  washingtonpost  2014-01-09   \n",
       "171         nytimes  2008-09-22   \n",
       "71         facebook  2009-12-09   \n",
       "1         1password  2017-03-16   \n",
       "\n",
       "                                            policy_url  \\\n",
       "237  http://web.archive.org/web/20170901064726/http...   \n",
       "304  http://web.archive.org/web/20140131153744/http...   \n",
       "171  http://web.archive.org/web/20080929111502/http...   \n",
       "71   http://web.archive.org/web/20100101040835/http...   \n",
       "1    https://1password.com/legal/privacy/privacy-20...   \n",
       "\n",
       "                                      policy_path  company_id  \n",
       "237                  target/target-2017-08-01.txt          15  \n",
       "304  washingtonpost/washingtonpost-2014-01-09.txt          20  \n",
       "171                nytimes/nytimes-2008-09-22.txt          11  \n",
       "71               facebook/facebook-2009-12-09.txt           4  \n",
       "1              1password/1password-2017-03-16.txt           0  "
      ]
     },
     "execution_count": 3,
     "metadata": {},
     "output_type": "execute_result"
    }
   ],
   "source": [
    "df.sample(n=5)"
   ]
  },
  {
   "cell_type": "markdown",
   "metadata": {},
   "source": [
    "## Dataset Metadata\n",
    "\n",
    "Here we explore the dataset metadata and begin to explore what's inside."
   ]
  },
  {
   "cell_type": "markdown",
   "metadata": {},
   "source": [
    "How many and what companies are covered?"
   ]
  },
  {
   "cell_type": "code",
   "execution_count": 4,
   "metadata": {},
   "outputs": [
    {
     "name": "stdout",
     "output_type": "stream",
     "text": [
      "Companies: 1password, amazon, apple, cisco, facebook, fitbit, goodreads, google, intuit, netflix, nytimes, smud, target, twitter, uber, verizon, walmart, washingtonpost\n",
      "Count: 18\n"
     ]
    }
   ],
   "source": [
    "companies = df.company.unique()\n",
    "print('Companies: {}'.format(', '.join(list(companies))))\n",
    "print('Count: {}'.format(len(companies)))"
   ]
  },
  {
   "cell_type": "markdown",
   "metadata": {},
   "source": [
    "How many policies are there?"
   ]
  },
  {
   "cell_type": "code",
   "execution_count": 5,
   "metadata": {},
   "outputs": [
    {
     "name": "stdout",
     "output_type": "stream",
     "text": [
      "Count of policies (number of rows in the dataset): 271\n"
     ]
    }
   ],
   "source": [
    "policies = df.policy_path.unique()\n",
    "# sanity-check: we removed duplicates so this should be the same\n",
    "assert len(df) == len(policies)\n",
    "print(\"Count of policies (number of rows in the dataset): {}\".format(len(df)))"
   ]
  },
  {
   "cell_type": "markdown",
   "metadata": {},
   "source": [
    "How many policies per company?"
   ]
  },
  {
   "cell_type": "code",
   "execution_count": 6,
   "metadata": {},
   "outputs": [
    {
     "data": {
      "image/png": "[encoded data removed]",
      "text/plain": [
       "<Figure size 864x360 with 1 Axes>"
      ]
     },
     "metadata": {
      "needs_background": "light"
     },
     "output_type": "display_data"
    }
   ],
   "source": [
    "grouped = df.groupby('company').policy_path.count()\n",
    "_ = grouped.plot.bar(title='Privacy Policy Revisions by Company', figsize=(12, 5))"
   ]
  },
  {
   "cell_type": "markdown",
   "metadata": {},
   "source": [
    "What date range do the policies cover?"
   ]
  },
  {
   "cell_type": "code",
   "execution_count": 7,
   "metadata": {},
   "outputs": [
    {
     "name": "stdout",
     "output_type": "stream",
     "text": [
      "Oldest policy: 1999-06-09\n",
      "Most recent policy: 2019-11-08\n"
     ]
    }
   ],
   "source": [
    "print('Oldest policy: {}'.format(min(df.policy_date).strftime('%Y-%m-%d')))\n",
    "print('Most recent policy: {}'.format(max(df.policy_date).strftime('%Y-%m-%d')))"
   ]
  },
  {
   "cell_type": "markdown",
   "metadata": {},
   "source": [
    "How many policies by year?"
   ]
  },
  {
   "cell_type": "code",
   "execution_count": 8,
   "metadata": {},
   "outputs": [
    {
     "data": {
      "image/png": "[encoded data removed]",
      "text/plain": [
       "<Figure size 864x504 with 1 Axes>"
      ]
     },
     "metadata": {
      "needs_background": "light"
     },
     "output_type": "display_data"
    }
   ],
   "source": [
    "grouped = df.groupby([df.policy_date.dt.year]).policy_path.count()\n",
    "_ = grouped.plot.bar(title='Privacy Policy Revisions by Year (All Companies)', figsize=(12, 7))"
   ]
  },
  {
   "cell_type": "markdown",
   "metadata": {},
   "source": [
    "## The Privacy Policies\n",
    "\n",
    "Now let's explore the policies themselves. We'll start by pulling all of the policy text into the dataframe, and then running some pandas cmds to gather metadata about the texts."
   ]
  },
  {
   "cell_type": "code",
   "execution_count": 9,
   "metadata": {},
   "outputs": [],
   "source": [
    "def get_policy_text(row):\n",
    "    \"\"\"\n",
    "    Creates a pd.Series of full text from policies\n",
    "\n",
    "    Args:\n",
    "        row: pd.Series, row of policy index dataframe\n",
    "        \n",
    "    Returns:\n",
    "        pd.Series, a new row with 'policy_text' col\n",
    "    \"\"\"\n",
    "    page = ''\n",
    "    with open(os.path.join(POLICY_DIR, row['policy_path']), 'r', encoding='utf-8') as f:\n",
    "        page = f.read()\n",
    "    row['policy_text'] = page\n",
    "    return row"
   ]
  },
  {
   "cell_type": "markdown",
   "metadata": {},
   "source": [
    "Looking inside again shows the same as before with the addition of the new text column"
   ]
  },
  {
   "cell_type": "code",
   "execution_count": 10,
   "metadata": {},
   "outputs": [
    {
     "data": {
      "text/html": [
       "<div>\n",
       "<style scoped>\n",
       "    .dataframe tbody tr th:only-of-type {\n",
       "        vertical-align: middle;\n",
       "    }\n",
       "\n",
       "    .dataframe tbody tr th {\n",
       "        vertical-align: top;\n",
       "    }\n",
       "\n",
       "    .dataframe thead th {\n",
       "        text-align: right;\n",
       "    }\n",
       "</style>\n",
       "<table border=\"1\" class=\"dataframe\">\n",
       "  <thead>\n",
       "    <tr style=\"text-align: right;\">\n",
       "      <th></th>\n",
       "      <th>company</th>\n",
       "      <th>policy_date</th>\n",
       "      <th>policy_url</th>\n",
       "      <th>policy_path</th>\n",
       "      <th>company_id</th>\n",
       "      <th>policy_text</th>\n",
       "    </tr>\n",
       "  </thead>\n",
       "  <tbody>\n",
       "    <tr>\n",
       "      <th>36</th>\n",
       "      <td>apple</td>\n",
       "      <td>2018-01-19</td>\n",
       "      <td>http://web.archive.org/web/20180129230314/http...</td>\n",
       "      <td>apple/apple-2018-01-19.txt</td>\n",
       "      <td>2</td>\n",
       "      <td>\\nActualmente estás en el sitio de EE.UU. Elig...</td>\n",
       "    </tr>\n",
       "    <tr>\n",
       "      <th>3</th>\n",
       "      <td>1password</td>\n",
       "      <td>2018-03-15</td>\n",
       "      <td>https://1password.com/legal/privacy/privacy-20...</td>\n",
       "      <td>1password/1password-2018-03-15.txt</td>\n",
       "      <td>0</td>\n",
       "      <td>\\nMenuHomeTourFamiliesBusinessPricingSecurityS...</td>\n",
       "    </tr>\n",
       "    <tr>\n",
       "      <th>77</th>\n",
       "      <td>facebook</td>\n",
       "      <td>2012-06-08</td>\n",
       "      <td>http://web.archive.org/web/20120701151228/http...</td>\n",
       "      <td>facebook/facebook-2012-06-08.txt</td>\n",
       "      <td>4</td>\n",
       "      <td>Facebook logoEmail or PhoneKeep me logged inSi...</td>\n",
       "    </tr>\n",
       "    <tr>\n",
       "      <th>286</th>\n",
       "      <td>walmart</td>\n",
       "      <td>2007-08-01</td>\n",
       "      <td>http://web.archive.org/web/20070827142732/http...</td>\n",
       "      <td>walmart/walmart-2007-08-01.txt</td>\n",
       "      <td>19</td>\n",
       "      <td>\\nCart\\nMy Account\\nTrack Order\\nHelp\\nRegistr...</td>\n",
       "    </tr>\n",
       "    <tr>\n",
       "      <th>101</th>\n",
       "      <td>google</td>\n",
       "      <td>2009-01-27</td>\n",
       "      <td>https://policies.google.com/privacy/archive/20...</td>\n",
       "      <td>google/google-2009-01-27.txt</td>\n",
       "      <td>7</td>\n",
       "      <td>Privacy &amp;amp; TermsOverviewPrivacy PolicyTerms...</td>\n",
       "    </tr>\n",
       "    <tr>\n",
       "      <th>176</th>\n",
       "      <td>nytimes</td>\n",
       "      <td>2011-02-18</td>\n",
       "      <td>http://web.archive.org/web/20110225085514/http...</td>\n",
       "      <td>nytimes/nytimes-2011-02-18.txt</td>\n",
       "      <td>11</td>\n",
       "      <td>\\nHelp &amp;gt; Permissions and Policies &amp;gt; Priv...</td>\n",
       "    </tr>\n",
       "    <tr>\n",
       "      <th>221</th>\n",
       "      <td>target</td>\n",
       "      <td>2005-09-09</td>\n",
       "      <td>http://web.archive.org/web/20060812041008/http...</td>\n",
       "      <td>target/target-2005-09-09.txt</td>\n",
       "      <td>15</td>\n",
       "      <td>\\nAll Products\\nWomen\\nMen\\nBaby\\nKids\\nHome\\n...</td>\n",
       "    </tr>\n",
       "    <tr>\n",
       "      <th>66</th>\n",
       "      <td>facebook</td>\n",
       "      <td>2007-05-24</td>\n",
       "      <td>http://web.archive.org/web/20070630042429/http...</td>\n",
       "      <td>facebook/facebook-2007-05-24.txt</td>\n",
       "      <td>4</td>\n",
       "      <td>\\nEmail:\\nPassword:\\nForgot Password?\\nRegiste...</td>\n",
       "    </tr>\n",
       "    <tr>\n",
       "      <th>27</th>\n",
       "      <td>apple</td>\n",
       "      <td>2010-06-21</td>\n",
       "      <td>http://web.archive.org/web/20100818161235/http...</td>\n",
       "      <td>apple/apple-2010-06-21.txt</td>\n",
       "      <td>2</td>\n",
       "      <td>\\nPrivacy Policy\\nYour privacy is important to...</td>\n",
       "    </tr>\n",
       "    <tr>\n",
       "      <th>284</th>\n",
       "      <td>walmart</td>\n",
       "      <td>2005-01-31</td>\n",
       "      <td>http://web.archive.org/web/20050204004437/http...</td>\n",
       "      <td>walmart/walmart-2005-01-31.txt</td>\n",
       "      <td>19</td>\n",
       "      <td>\\nHome Page\\n|\\nYour Account\\n|\\nCart &amp;amp; Ch...</td>\n",
       "    </tr>\n",
       "  </tbody>\n",
       "</table>\n",
       "</div>"
      ],
      "text/plain": [
       "       company policy_date                                         policy_url  \\\n",
       "36       apple  2018-01-19  http://web.archive.org/web/20180129230314/http...   \n",
       "3    1password  2018-03-15  https://1password.com/legal/privacy/privacy-20...   \n",
       "77    facebook  2012-06-08  http://web.archive.org/web/20120701151228/http...   \n",
       "286    walmart  2007-08-01  http://web.archive.org/web/20070827142732/http...   \n",
       "101     google  2009-01-27  https://policies.google.com/privacy/archive/20...   \n",
       "176    nytimes  2011-02-18  http://web.archive.org/web/20110225085514/http...   \n",
       "221     target  2005-09-09  http://web.archive.org/web/20060812041008/http...   \n",
       "66    facebook  2007-05-24  http://web.archive.org/web/20070630042429/http...   \n",
       "27       apple  2010-06-21  http://web.archive.org/web/20100818161235/http...   \n",
       "284    walmart  2005-01-31  http://web.archive.org/web/20050204004437/http...   \n",
       "\n",
       "                            policy_path  company_id  \\\n",
       "36           apple/apple-2018-01-19.txt           2   \n",
       "3    1password/1password-2018-03-15.txt           0   \n",
       "77     facebook/facebook-2012-06-08.txt           4   \n",
       "286      walmart/walmart-2007-08-01.txt          19   \n",
       "101        google/google-2009-01-27.txt           7   \n",
       "176      nytimes/nytimes-2011-02-18.txt          11   \n",
       "221        target/target-2005-09-09.txt          15   \n",
       "66     facebook/facebook-2007-05-24.txt           4   \n",
       "27           apple/apple-2010-06-21.txt           2   \n",
       "284      walmart/walmart-2005-01-31.txt          19   \n",
       "\n",
       "                                           policy_text  \n",
       "36   \\nActualmente estás en el sitio de EE.UU. Elig...  \n",
       "3    \\nMenuHomeTourFamiliesBusinessPricingSecurityS...  \n",
       "77   Facebook logoEmail or PhoneKeep me logged inSi...  \n",
       "286  \\nCart\\nMy Account\\nTrack Order\\nHelp\\nRegistr...  \n",
       "101  Privacy &amp; TermsOverviewPrivacy PolicyTerms...  \n",
       "176  \\nHelp &gt; Permissions and Policies &gt; Priv...  \n",
       "221  \\nAll Products\\nWomen\\nMen\\nBaby\\nKids\\nHome\\n...  \n",
       "66   \\nEmail:\\nPassword:\\nForgot Password?\\nRegiste...  \n",
       "27   \\nPrivacy Policy\\nYour privacy is important to...  \n",
       "284  \\nHome Page\\n|\\nYour Account\\n|\\nCart &amp; Ch...  "
      ]
     },
     "execution_count": 10,
     "metadata": {},
     "output_type": "execute_result"
    }
   ],
   "source": [
    "df = df.apply(get_policy_text, axis=1)\n",
    "df.sample(n=10)"
   ]
  },
  {
   "cell_type": "markdown",
   "metadata": {},
   "source": [
    "How many total words?"
   ]
  },
  {
   "cell_type": "code",
   "execution_count": 11,
   "metadata": {},
   "outputs": [
    {
     "name": "stdout",
     "output_type": "stream",
     "text": [
      "Total words: 5950049\n",
      "Total occurences of \"privacy\": 7671\n",
      "Total occurences of \"data\": 3807\n",
      "Total occurences of \"personal information\": 5102\n"
     ]
    }
   ],
   "source": [
    "print('Total words: {}'.format(df.policy_text.str.len().sum()))\n",
    "print('Total occurences of \"privacy\": {}'.format(df.policy_text.str.count('privacy', flags=re.IGNORECASE).sum()))\n",
    "print('Total occurences of \"data\": {}'.format(df.policy_text.str.count('data', flags=re.IGNORECASE).sum()))\n",
    "print('Total occurences of \"personal information\": {}'.format(df.policy_text.str.count('personal information', flags=re.IGNORECASE).sum()))"
   ]
  },
  {
   "cell_type": "markdown",
   "metadata": {},
   "source": [
    "How many words per company?\n",
    "\n",
    "Warning: this might be slightly biased based on how long countries have been operating."
   ]
  },
  {
   "cell_type": "code",
   "execution_count": 12,
   "metadata": {},
   "outputs": [
    {
     "data": {
      "image/png": "[encoded data removed]",
      "text/plain": [
       "<Figure size 864x504 with 1 Axes>"
      ]
     },
     "metadata": {
      "needs_background": "light"
     },
     "output_type": "display_data"
    }
   ],
   "source": [
    "df_tmp = df.copy()\n",
    "df_tmp['policy_len'] = df_tmp.policy_text.str.len()\n",
    "grouped = df_tmp.groupby('company').policy_len.sum()\n",
    "_ = grouped.plot.bar(title='Word Count of Privacy Policies by Company', figsize=(12, 7))"
   ]
  },
  {
   "cell_type": "markdown",
   "metadata": {},
   "source": [
    "## Key Privacy Event Analysis\n",
    "\n",
    "In the following sections, we investigate the impact that certain key legislative and popular events had on the privacy policies at large. We do this with a heatmap-derived visualization that shows us when certain terminology enters the vernacular of the policies per company."
   ]
  },
  {
   "cell_type": "code",
   "execution_count": 13,
   "metadata": {},
   "outputs": [],
   "source": [
    "def prepare_heatmap_data(data, ycol, xcol, valuecol):\n",
    "    \"\"\"\n",
    "    There has to be a better way to do this... but I procrastinated :)\n",
    "    \n",
    "    1. Pivot data and extend a policy's np.nan/0/1 up unto the next policy revision\n",
    "       (originally, companies would have a 1 in the months where there were revisions\n",
    "        followed by a string of np.nans and another 1 at the next revision)\n",
    "    2. Fill the gaps between policy revision columns; create a new col for each\n",
    "       year-month pair between the first and last policies in the dataset and extend\n",
    "       between cols as before\n",
    "    3. Rebuild new, complete dataframe\n",
    "    \"\"\"\n",
    "    ### 1\n",
    "    result = data.pivot(index=ycol, columns=xcol, values=valuecol)\n",
    "    for i1, row in result.transpose().iteritems():\n",
    "        last = np.nan\n",
    "        for i2, value in row.iteritems():\n",
    "            if np.isnan(value):\n",
    "                # set it equal to last value\n",
    "                value = last\n",
    "            result.at[i1, i2] = value\n",
    "            last = value\n",
    "\n",
    "    ### 2\n",
    "    min_date = result.columns.min()\n",
    "    max_date = result.columns.max()\n",
    "    companies = result.index\n",
    "\n",
    "    last = None\n",
    "    dates = defaultdict(lambda: defaultdict(lambda: defaultdict(int)))\n",
    "    for year in range(min_date.year, max_date.year + 1):\n",
    "        for month in range(1, 13):\n",
    "            # create name of new col\n",
    "            ym = date(year=year, month=month, day=1).strftime('%Y-%m')\n",
    "            # get all old cols (y-m-d) that will need to be combined into this col\n",
    "            col_matches = [x for x in result.columns if ym in str(x)]\n",
    "            # if there are no revisions in this y-m, then just reuse last month's data\n",
    "            if last and len(col_matches) == 0:\n",
    "                col_matches = last\n",
    "            # set data\n",
    "            for col in col_matches:\n",
    "                for company in companies:\n",
    "                    dates[year][month][company] = result.at[company, col]\n",
    "            last = col_matches\n",
    "\n",
    "    ### 3\n",
    "    new = pd.DataFrame(index=result.index)\n",
    "    for year, months in dates.items():\n",
    "        for month, companies in months.items():\n",
    "            # new col\n",
    "            ym = date(year=year, month=month, day=1).strftime('%Y-%m')\n",
    "            for company, val in companies.items():\n",
    "                if ym not in new.columns:\n",
    "                    # create new col with np.nan\n",
    "                    new[ym] = pd.Series([np.nan] * len(new.index))\n",
    "                # set value\n",
    "                new.at[company, ym] = val\n",
    "\n",
    "    return new"
   ]
  },
  {
   "cell_type": "code",
   "execution_count": 14,
   "metadata": {},
   "outputs": [],
   "source": [
    "def policy_heatmap(data, title):\n",
    "    # init plot\n",
    "    fig, ax = plt.subplots(figsize=(12, 7))\n",
    "    ax.set_title(title)\n",
    "\n",
    "    # prepare mask for null values when a company does not yet have a published privacy policy\n",
    "    mask = np.zeros_like(result)\n",
    "    mask[np.isnan(result)] = True\n",
    "\n",
    "    # do plot\n",
    "    # https://stackoverflow.com/questions/37790429/seaborn-heatmap-using-pandas-dataframe\n",
    "    sp = sns.heatmap(data, ax=ax, fmt=\"g\", cmap=sns.color_palette(\"RdBu\", 7), mask=mask, cbar=False)\n",
    "\n",
    "    # format and space xticks\n",
    "    xlocs, xlabels = plt.xticks()\n",
    "    #print(list(zip(xlocs, xlabels)))\n",
    "    for i, x in enumerate(xlabels):\n",
    "        text = ''\n",
    "        if i % 6 == 0:\n",
    "            text = x._text[:x._text.find('T')]\n",
    "        xlabels[i]._text = text\n",
    "    _ = ax.set_xticklabels(xlabels)    \n",
    "    fig.autofmt_xdate()\n",
    "    \n",
    "    return ax"
   ]
  },
  {
   "cell_type": "code",
   "execution_count": 15,
   "metadata": {},
   "outputs": [],
   "source": [
    "def review_regex_matches(data, filter_col, filter_key, buffer=20):\n",
    "    return data[data[filter_col] == 1].policy_text.str.extract(\n",
    "        '(.{0,' + str(buffer) + '}' + str(filter_key) + '.{0,' + str(buffer) + '})', flags=re.IGNORECASE|re.DOTALL)"
   ]
  },
  {
   "cell_type": "code",
   "execution_count": 16,
   "metadata": {},
   "outputs": [],
   "source": [
    "def key_match_data(data, filter_key):\n",
    "    df_copy = data.copy()\n",
    "    filter_col = 'mentions_{}'.format(filter_key)\n",
    "    # https://chrisalbon.com/python/data_wrangling/pandas_create_column_using_conditional/\n",
    "    df_copy[filter_col] = np.where(df_copy.policy_text.str.contains(filter_key, flags=re.IGNORECASE), 1, 0)\n",
    "    print('{} / {} policies mention {}'.format(len(df_copy[df_copy[filter_col] == 1]), len(df_copy), filter_key))\n",
    "    return df_copy, filter_col"
   ]
  },
  {
   "cell_type": "markdown",
   "metadata": {},
   "source": [
    "### Children's Online Privacy Protection Act (COPPA)\n",
    "\n",
    "From [Wikipedia](https://en.wikipedia.org/wiki/Children%27s_Online_Privacy_Protection_Act):\n",
    "\n",
    "   \"The act, effective April 21, 2000, applies to the online collection of personal information by persons or entities under\n",
    "   U.S. jurisdiction about children under 13 years of age or children with disabilities. **It details what a website\n",
    "   operator must include in a privacy policy**, when and how to seek verifiable consent from a parent or guardian, and what\n",
    "   responsibilities an operator has to protect children's privacy and safety online including restrictions on the marketing\n",
    "   of those under 13.\"\n",
    "\n",
    "Based on the above, we should expect to see privacy policies mention their practices with children's data starting in April of 2000."
   ]
  },
  {
   "cell_type": "code",
   "execution_count": 17,
   "metadata": {},
   "outputs": [
    {
     "name": "stdout",
     "output_type": "stream",
     "text": [
      "201 / 271 policies mention children\n"
     ]
    },
    {
     "data": {
      "image/png": "[encoded data removed]",
      "text/plain": [
       "<Figure size 864x504 with 1 Axes>"
      ]
     },
     "metadata": {
      "needs_background": "light"
     },
     "output_type": "display_data"
    }
   ],
   "source": [
    "coppa, filter_col = key_match_data(df, 'children')\n",
    "result = prepare_heatmap_data(coppa, 'company', 'policy_date', filter_col)\n",
    "ax = policy_heatmap(result, 'Reference of \"Children\" in Privacy Policy')\n",
    "# add vertical line for coppa\n",
    "_ = ax.vlines(11, .8, 20, color='purple')\n",
    "_ = plt.text(6, 0.5, 'April 21, 2000: COPPA Begins', color='purple', fontsize=12)"
   ]
  },
  {
   "cell_type": "markdown",
   "metadata": {},
   "source": [
    "Double-checking that our matches are reasonable"
   ]
  },
  {
   "cell_type": "code",
   "execution_count": 18,
   "metadata": {},
   "outputs": [
    {
     "data": {
      "text/html": [
       "<div>\n",
       "<style scoped>\n",
       "    .dataframe tbody tr th:only-of-type {\n",
       "        vertical-align: middle;\n",
       "    }\n",
       "\n",
       "    .dataframe tbody tr th {\n",
       "        vertical-align: top;\n",
       "    }\n",
       "\n",
       "    .dataframe thead th {\n",
       "        text-align: right;\n",
       "    }\n",
       "</style>\n",
       "<table border=\"1\" class=\"dataframe\">\n",
       "  <thead>\n",
       "    <tr style=\"text-align: right;\">\n",
       "      <th></th>\n",
       "      <th>0</th>\n",
       "    </tr>\n",
       "  </thead>\n",
       "  <tbody>\n",
       "    <tr>\n",
       "      <th>54</th>\n",
       "      <td>forums.\\nback to top\\nChildren's Privacy\\nCisc...</td>\n",
       "    </tr>\n",
       "    <tr>\n",
       "      <th>141</th>\n",
       "      <td>LLECTION AND USE OF CHILDREN'S PERSONAL INFORMAT</td>\n",
       "    </tr>\n",
       "    <tr>\n",
       "      <th>29</th>\n",
       "      <td>ivacy Contact Form.\\nChildren\\nWe do not knowi...</td>\n",
       "    </tr>\n",
       "    <tr>\n",
       "      <th>222</th>\n",
       "      <td>his privacy policy.\\nChildren\\nWe recognize th...</td>\n",
       "    </tr>\n",
       "    <tr>\n",
       "      <th>66</th>\n",
       "      <td>the United States.\\nChildren Under Age 13\\nFa...</td>\n",
       "    </tr>\n",
       "    <tr>\n",
       "      <th>48</th>\n",
       "      <td>s\\nForums/Chat Rooms\\nChildrens Privacy\\nCons...</td>\n",
       "    </tr>\n",
       "    <tr>\n",
       "      <th>285</th>\n",
       "      <td>tect the Privacy of Children\\nMore About Your Pri</td>\n",
       "    </tr>\n",
       "    <tr>\n",
       "      <th>275</th>\n",
       "      <td>ng together to keep children safe.\\nVerizon recog</td>\n",
       "    </tr>\n",
       "    <tr>\n",
       "      <th>246</th>\n",
       "      <td>\\nOur Policy Towards Children\\nOur Services ar...</td>\n",
       "    </tr>\n",
       "    <tr>\n",
       "      <th>90</th>\n",
       "      <td>tbit’s Policies For Children\\nCan I Opt-out Of Re</td>\n",
       "    </tr>\n",
       "  </tbody>\n",
       "</table>\n",
       "</div>"
      ],
      "text/plain": [
       "                                                     0\n",
       "54   forums.\\nback to top\\nChildren's Privacy\\nCisc...\n",
       "141   LLECTION AND USE OF CHILDREN'S PERSONAL INFORMAT\n",
       "29   ivacy Contact Form.\\nChildren\\nWe do not knowi...\n",
       "222  his privacy policy.\\nChildren\\nWe recognize th...\n",
       "66    the United States.\\nChildren Under Age 13\\nFa...\n",
       "48   s\\nForums/Chat Rooms\\nChildrens Privacy\\nCons...\n",
       "285  tect the Privacy of Children\\nMore About Your Pri\n",
       "275  ng together to keep children safe.\\nVerizon recog\n",
       "246  \\nOur Policy Towards Children\\nOur Services ar...\n",
       "90   tbit’s Policies For Children\\nCan I Opt-out Of Re"
      ]
     },
     "execution_count": 18,
     "metadata": {},
     "output_type": "execute_result"
    }
   ],
   "source": [
    "review_regex_matches(coppa, 'mentions_children', 'children').sample(n=10)"
   ]
  },
  {
   "cell_type": "markdown",
   "metadata": {},
   "source": [
    "## International Safe Harbor Privacy Principles\n",
    "\n",
    "From [Wikipedia](https://en.wikipedia.org/wiki/International_Safe_Harbor_Privacy_Principles),\n",
    "\n",
    "\"The International Safe Harbor Privacy Principles or Safe Harbour Privacy Principles were principles **developed between 1998 and 2000** in order to prevent private organizations within the European Union or United States which store customer data from accidentally disclosing or losing personal information. **They were overturned on October 6, 2015 by the European Court of Justice (ECJ)**, which enabled some US companies to comply with privacy laws protecting European Union and Swiss citizens. US companies storing customer data could self-certify that they adhered to 7 principles, to comply with the EU Data Protection Directive and with Swiss requirements. The US Department of Commerce developed privacy frameworks in conjunction with both the European Union and the Federal Data Protection and Information Commissioner of Switzerland.\"\n",
    "\n",
    "Let's see if \"Safe Harbor\" begins to disappear from policies around the year 2015."
   ]
  },
  {
   "cell_type": "code",
   "execution_count": 19,
   "metadata": {},
   "outputs": [
    {
     "name": "stdout",
     "output_type": "stream",
     "text": [
      "75 / 271 policies mention safe\\s*harbor\n"
     ]
    },
    {
     "ename": "NameError",
     "evalue": "name 'df_copy' is not defined",
     "output_type": "error",
     "traceback": [
      "\u001b[1;31m---------------------------------------------------------------------------\u001b[0m",
      "\u001b[1;31mNameError\u001b[0m                                 Traceback (most recent call last)",
      "\u001b[1;32m<ipython-input-19-fa8eb192a32c>\u001b[0m in \u001b[0;36m<module>\u001b[1;34m\u001b[0m\n\u001b[0;32m      1\u001b[0m \u001b[0msafeharbor\u001b[0m\u001b[1;33m,\u001b[0m \u001b[0mfilter_col\u001b[0m \u001b[1;33m=\u001b[0m \u001b[0mkey_match_data\u001b[0m\u001b[1;33m(\u001b[0m\u001b[0mdf\u001b[0m\u001b[1;33m,\u001b[0m \u001b[1;34m'safe\\s*harbor'\u001b[0m\u001b[1;33m)\u001b[0m\u001b[1;33m\u001b[0m\u001b[1;33m\u001b[0m\u001b[0m\n\u001b[1;32m----> 2\u001b[1;33m \u001b[0mresult\u001b[0m \u001b[1;33m=\u001b[0m \u001b[0mprepare_heatmap_data\u001b[0m\u001b[1;33m(\u001b[0m\u001b[0mdf_copy\u001b[0m\u001b[1;33m,\u001b[0m \u001b[1;34m'company'\u001b[0m\u001b[1;33m,\u001b[0m \u001b[1;34m'policy_date'\u001b[0m\u001b[1;33m,\u001b[0m \u001b[0mfilter_col\u001b[0m\u001b[1;33m)\u001b[0m\u001b[1;33m\u001b[0m\u001b[1;33m\u001b[0m\u001b[0m\n\u001b[0m\u001b[0;32m      3\u001b[0m \u001b[0mresult\u001b[0m\u001b[1;33m.\u001b[0m\u001b[0mhead\u001b[0m\u001b[1;33m(\u001b[0m\u001b[1;33m)\u001b[0m\u001b[1;33m\u001b[0m\u001b[1;33m\u001b[0m\u001b[0m\n\u001b[0;32m      4\u001b[0m \u001b[0max\u001b[0m \u001b[1;33m=\u001b[0m \u001b[0mpolicy_heatmap\u001b[0m\u001b[1;33m(\u001b[0m\u001b[0mresult\u001b[0m\u001b[1;33m,\u001b[0m \u001b[1;34m'Reference of \"Safe Harbor\" in Privacy Policy'\u001b[0m\u001b[1;33m)\u001b[0m\u001b[1;33m\u001b[0m\u001b[1;33m\u001b[0m\u001b[0m\n\u001b[0;32m      5\u001b[0m \u001b[1;31m# add vertical line for safe harbor\u001b[0m\u001b[1;33m\u001b[0m\u001b[1;33m\u001b[0m\u001b[1;33m\u001b[0m\u001b[0m\n",
      "\u001b[1;31mNameError\u001b[0m: name 'df_copy' is not defined"
     ]
    }
   ],
   "source": [
    "safeharbor, filter_col = key_match_data(df, 'safe\\s*harbor')\n",
    "result = prepare_heatmap_data(df_copy, 'company', 'policy_date', filter_col)\n",
    "result.head()\n",
    "ax = policy_heatmap(result, 'Reference of \"Safe Harbor\" in Privacy Policy')\n",
    "# add vertical line for safe harbor\n",
    "_ = ax.vlines(193, .8, 20, color='purple')\n",
    "_ = plt.text(135, 0.5, 'Oct 6, 2015: Safe Harbor Ends', color='purple', fontsize=12)"
   ]
  },
  {
   "cell_type": "code",
   "execution_count": null,
   "metadata": {},
   "outputs": [],
   "source": [
    "review_regex_matches(safeharbor, filter_col, 'safe\\s*harbor').sample(n=10)"
   ]
  },
  {
   "cell_type": "markdown",
   "metadata": {},
   "source": [
    "### EU-US Privacy Shield\n",
    "\n",
    "From Wikipedia,\n",
    "\n",
    "\"In October 2015 the European Court of Justice declared the previous framework called the International Safe Harbor Privacy Principles invalid. Soon after this decision the European Commission and the U.S. Government started talks about a new framework and **on February 2, 2016 they reached a political agreement**. The European Commission published the 'adequacy decision' draft, declaring principles to be equivalent to the protections offered by EU law.\"\n",
    "\n",
    "As we observed, references to \"Safe Harbor\" begin to disappear after 2015 to be replaced by this EU-US Privacy Shield, but how many websites complied?"
   ]
  },
  {
   "cell_type": "code",
   "execution_count": null,
   "metadata": {},
   "outputs": [],
   "source": [
    "shield, filter_col = key_match_data(df, 'shield')\n",
    "result = prepare_heatmap_data(shield, 'company', 'policy_date', filter_col)\n",
    "result.head()\n",
    "ax = policy_heatmap(result, 'Reference of \"Shield\" in Privacy Policy')\n",
    "# add vertical line for coppa\n",
    "_ = ax.vlines(202, .8, 20, color='purple')\n",
    "_ = plt.text(113, 0.5, 'Feb 2, 2016: EU-US Privacy Shield Begins', color='purple', fontsize=12)"
   ]
  },
  {
   "cell_type": "code",
   "execution_count": null,
   "metadata": {},
   "outputs": [],
   "source": [
    "review_regex_matches(shield, filter_col, 'shield').sample(n=10)"
   ]
  },
  {
   "cell_type": "markdown",
   "metadata": {},
   "source": [
    "### Popularity of \"Personal Information\""
   ]
  },
  {
   "cell_type": "code",
   "execution_count": null,
   "metadata": {},
   "outputs": [],
   "source": [
    "personalinfo, filter_col = key_match_data(df, 'personal\\s*information')\n",
    "result = prepare_heatmap_data(personalinfo, 'company', 'policy_date', filter_col)\n",
    "result.head()\n",
    "ax = policy_heatmap(result, 'Reference of \"Personal Information\" in Privacy Policy')\n",
    "# add vertical line for coppa\n",
    "#_ = ax.vlines(180, .8, 20, color='purple')\n",
    "#_ = plt.text(100, 0.5, 'Feb 2, 2016: EU-US Privacy Shield Begins', color='purple', fontsize=12)"
   ]
  },
  {
   "cell_type": "code",
   "execution_count": null,
   "metadata": {},
   "outputs": [],
   "source": [
    "review_regex_matches(personalinfo, filter_col, 'personal\\s*information').sample(n=10)"
   ]
  },
  {
   "cell_type": "markdown",
   "metadata": {},
   "source": [
    "### Popularity of \"Data Privacy\""
   ]
  },
  {
   "cell_type": "code",
   "execution_count": null,
   "metadata": {},
   "outputs": [],
   "source": [
    "dataprivacy, filter_col = key_match_data(df, 'data\\s*privacy')\n",
    "result = prepare_heatmap_data(dataprivacy, 'company', 'policy_date', filter_col)\n",
    "result.head()\n",
    "ax = policy_heatmap(result, 'Reference of \"Data Privacy\" in Privacy Policy')\n",
    "# add vertical line for filter\n",
    "#_ = ax.vlines(180, .8, 20, color='purple')\n",
    "#_ = plt.text(100, 0.5, 'Feb 2, 2016: EU-US Privacy Shield Begins', color='purple', fontsize=12)"
   ]
  },
  {
   "cell_type": "code",
   "execution_count": null,
   "metadata": {},
   "outputs": [],
   "source": [
    "review_regex_matches(dataprivacy, filter_col, 'data\\s*privacy').sample(n=10)"
   ]
  },
  {
   "cell_type": "markdown",
   "metadata": {},
   "source": [
    "### Do Not Track\n",
    "\n",
    "From [Wikipedia](https://en.wikipedia.org/wiki/Do_Not_Track_legislation),\n",
    "\n",
    "\"**On December 1, 2010**, the U.S. Federal Trade Commission (FTC) published a preliminary report highlighting the consumers’ right to prevent websites from tracking their online behaviors. The central plank of the bill was to adopt a Do Not Track opt-out function to web browsers. The FTC judged that online marketers’ pervasive collection of personal information could possibly violate privacy. **This issue began to surface again in 2012** after Google announced its new privacy policy. Reps. Edward Markey, Joe Barton, and Cliff Stearns asked the FTC to investigate the legality of Google’s change of privacy policy; they sent a letter to the FTC regarding Google’s changed privacy policy.\"\n",
    "\n",
    "From the above, we imagine that we might begin to see Do Not Track references in 2010/2011 with more starting to surface in and after 2012."
   ]
  },
  {
   "cell_type": "code",
   "execution_count": null,
   "metadata": {},
   "outputs": [],
   "source": [
    "dnt_re = '(do\\s*not\\s*track|dnt)'\n",
    "dnt, filter_col = key_match_data(df, dnt_re)\n",
    "result = prepare_heatmap_data(dnt, 'company', 'policy_date', filter_col)\n",
    "result.head()\n",
    "ax = policy_heatmap(result, 'Reference of \"Do Not Track\" in Privacy Policy')\n",
    "# add vertical line for filter\n",
    "_ = ax.vlines(155, .8, 20, color='purple')\n",
    "_ = plt.text(150, 0.5, '2012', color='purple', fontsize=12)"
   ]
  },
  {
   "cell_type": "code",
   "execution_count": null,
   "metadata": {},
   "outputs": [],
   "source": [
    "review_regex_matches(dnt, filter_col, dnt_re).sample(n=10)"
   ]
  },
  {
   "cell_type": "markdown",
   "metadata": {},
   "source": [
    "### General Data Protection Regulation (GDPR)\n",
    "\n",
    "From Wikipedia,\n",
    "\n",
    "\"The General Data Protection Regulation (EU) 2016/679 ('GDPR') is a regulation in EU law on data protection and privacy for all individuals within the European Union (EU) and the European Economic Area (EEA). It also addresses the export of personal data outside the EU and EEA areas. The GDPR aims primarily to give control to individuals over their personal data and to simplify the regulatory environment for international business by unifying the regulation within the EU.... **The GDPR was adopted on 14 April 2016, and became enforceable beginning 25 May 2018.** As the GDPR is a regulation, not a directive, it is directly binding and applicable, but does provide flexibility for certain aspects of the regulation to be adjusted by individual member states.\"\n",
    "\n",
    "We should therefore see GDPR references in 2018."
   ]
  },
  {
   "cell_type": "code",
   "execution_count": null,
   "metadata": {},
   "outputs": [],
   "source": [
    "gdpr_re = 'gdpr|(General Data Protection Regulation)'\n",
    "gdpr, filter_col = key_match_data(df, gdpr_re)\n",
    "result = prepare_heatmap_data(gdpr, 'company', 'policy_date', filter_col)\n",
    "result.head()\n",
    "ax = policy_heatmap(result, 'Reference of \"GDPR\" in Privacy Policy')\n",
    "# add vertical line for filter\n",
    "_ = ax.vlines(231, 1, 20, color='purple')\n",
    "_ = plt.text(180, -.32, 'May 25, 2018: GDPR Begins', color='purple', fontsize=12)"
   ]
  },
  {
   "cell_type": "markdown",
   "metadata": {},
   "source": [
    "Interestingly, there are very few references to GDPR..."
   ]
  },
  {
   "cell_type": "code",
   "execution_count": null,
   "metadata": {},
   "outputs": [],
   "source": [
    "review_regex_matches(gdpr, filter_col, gdpr_re).sample(n=7)"
   ]
  },
  {
   "cell_type": "markdown",
   "metadata": {},
   "source": [
    "### Popularity of \"Delete\"\n",
    "\n",
    "With GDPR came the notion of the \"right to be forgotten\" where you can request your data to be removed from a company's data stores. Let's see if GDPR adoption is signaled by the word \"delete\" making its way into privacy policies."
   ]
  },
  {
   "cell_type": "code",
   "execution_count": null,
   "metadata": {},
   "outputs": [],
   "source": [
    "delete_re = 'delet'\n",
    "delete, filter_col = key_match_data(df, delete_re)\n",
    "result = prepare_heatmap_data(delete, 'company', 'policy_date', filter_col)\n",
    "result.head()\n",
    "ax = policy_heatmap(result, 'Reference of \"Delete\" in Privacy Policy')\n",
    "# add vertical line for filter\n",
    "#_ = ax.vlines(105, .8, 20, color='purple')\n",
    "#_ = plt.text(100, 0.5, '2012', color='purple', fontsize=12)"
   ]
  },
  {
   "cell_type": "markdown",
   "metadata": {},
   "source": [
    "Surprisingly, many companies supported deleting data before GPDR. Of course, this is not a complete check. This does not tell us to what extent these companies allowed you to delete your data."
   ]
  },
  {
   "cell_type": "code",
   "execution_count": null,
   "metadata": {},
   "outputs": [],
   "source": [
    "review_regex_matches(delete, filter_col, delete_re).sample(n=10)"
   ]
  },
  {
   "cell_type": "markdown",
   "metadata": {},
   "source": [
    "### Popularity of \"Forgotten\""
   ]
  },
  {
   "cell_type": "code",
   "execution_count": null,
   "metadata": {},
   "outputs": [],
   "source": [
    "forgot_re = 'forgotten'\n",
    "forgot, filter_col = key_match_data(df, forgot_re)\n",
    "result = prepare_heatmap_data(forgot, 'company', 'policy_date', filter_col)\n",
    "result.head()\n",
    "ax = policy_heatmap(result, 'Reference of \"Forgotten\" in Privacy Policy')\n",
    "# add vertical line for filter\n",
    "#_ = ax.vlines(105, .8, 20, color='purple')\n",
    "#_ = plt.text(100, 0.5, '2012', color='purple', fontsize=12)"
   ]
  },
  {
   "cell_type": "code",
   "execution_count": null,
   "metadata": {},
   "outputs": [],
   "source": [
    "review_regex_matches(forgot, filter_col, forgot_re)"
   ]
  },
  {
   "cell_type": "markdown",
   "metadata": {},
   "source": [
    "### TRUSTe"
   ]
  },
  {
   "cell_type": "code",
   "execution_count": null,
   "metadata": {},
   "outputs": [],
   "source": []
  },
  {
   "cell_type": "code",
   "execution_count": null,
   "metadata": {},
   "outputs": [],
   "source": []
  },
  {
   "cell_type": "markdown",
   "metadata": {},
   "source": [
    "## Google"
   ]
  },
  {
   "cell_type": "code",
   "execution_count": null,
   "metadata": {},
   "outputs": [],
   "source": [
    "google = df[df.company == 'google']\n",
    "google.head()"
   ]
  },
  {
   "cell_type": "code",
   "execution_count": null,
   "metadata": {},
   "outputs": [],
   "source": [
    "google = google.apply(get_policy_text, axis=1)"
   ]
  },
  {
   "cell_type": "code",
   "execution_count": null,
   "metadata": {},
   "outputs": [],
   "source": [
    "google['policy_text_len'] = google.policy_text.str.len()"
   ]
  },
  {
   "cell_type": "code",
   "execution_count": null,
   "metadata": {},
   "outputs": [],
   "source": [
    "google[['policy_date', 'policy_text_len']].plot.bar('policy_date', title=\"Google's Privacy Policy Length By Revision\", figsize=(12, 7))"
   ]
  },
  {
   "cell_type": "code",
   "execution_count": null,
   "metadata": {},
   "outputs": [],
   "source": []
  }
 ],
 "metadata": {
  "kernelspec": {
   "display_name": "Python 3",
   "language": "python",
   "name": "python3"
  },
  "language_info": {
   "codemirror_mode": {
    "name": "ipython",
    "version": 3
   },
   "file_extension": ".py",
   "mimetype": "text/x-python",
   "name": "python",
   "nbconvert_exporter": "python",
   "pygments_lexer": "ipython3",
   "version": "3.6.8"
  }
 },
 "nbformat": 4,
 "nbformat_minor": 2
}
